{
 "cells": [
  {
   "cell_type": "markdown",
   "metadata": {
    "id": "UKc8K9_57UEz"
   },
   "source": [
    "# CS171-EE142 - Fall 2022 - Homework 3\n",
    "\n",
    "# Due: Tuesday, November 15, 2022 @ 11:59pm\n",
    "\n",
    "### Maximum points: 80 pts\n",
    "\n",
    "\n",
    "## Submit your solution to Gradescope:\n",
    "1. Submit a single PDF to **HW3**\n",
    "2. Submit your jupyter notebook to **HW3-code**\n",
    "\n",
    "**See the additional submission instructions at the end of this notebook**"
   ]
  },
  {
   "cell_type": "markdown",
   "metadata": {
    "id": "JL5tIX4c9z6s"
   },
   "source": [
    "\n",
    "## Enter your information below:\n",
    "\n",
    "### Your Name (submitter): Yash Aggarwal\n",
    "\n",
    "### Your student ID (submitter): 862333037\n",
    "    \n",
    "    \n",
    "<b>By submitting this notebook, I assert that the work below is my own work, completed for this course.  Except where explicitly cited, none of the portions of this notebook are duplicated from anyone else's work or my own previous work.</b>\n",
    "\n",
    "\n",
    "## Academic Integrity\n",
    "Each assignment should be done  individually. You may discuss general approaches with other students in the class, and ask questions to the TAs, but  you must only submit work that is yours . If you receive help by any external sources (other than the TA and the instructor), you must properly credit those sources, and if the help is significant, the appropriate grade reduction will be applied. If you fail to do so, the instructor and the TAs are obligated to take the appropriate actions outlined at http://conduct.ucr.edu/policies/academicintegrity.html . Please read carefully the UCR academic integrity policies included in the link.\n"
   ]
  },
  {
   "cell_type": "markdown",
   "metadata": {
    "id": "hsywQWEI8pzj"
   },
   "source": [
    "# Overview \n",
    "In this assignment you will implement a two-layer neural network. You will implement the loss functions, gradients, optimizers to train the network and test its performance on MNIST dataset. \n",
    "\n",
    "For this assignment we will use the functionality of Pandas (https://pandas.pydata.org/), Matplotlib (https://matplotlib.org/), and Numpy (http://www.numpy.org/). \n",
    "\n",
    "If you are asked to **implement** a particular functionality, you should **not** use an existing implementation from the libraries above (or some other library that you may find). When in doubt, please ask. \n",
    "\n",
    "Before you start, make sure you have installed all those packages in your local Jupyter instance\n",
    "\n",
    "## Read *all* cells carefully and answer all parts (both text and missing code)\n",
    "\n",
    "You will complete all the code marked `TODO` and answer descriptive/derivation questions \n",
    "\n"
   ]
  },
  {
   "cell_type": "code",
   "execution_count": 1,
   "metadata": {
    "id": "3d6urIY6Ci2D"
   },
   "outputs": [],
   "source": [
    "import numpy as np\n",
    "import matplotlib.pyplot as plt\n",
    "import math\n",
    "from sklearn.utils import shuffle\n",
    "\n",
    "# make sure you import here everything else you may need"
   ]
  },
  {
   "cell_type": "markdown",
   "metadata": {
    "id": "9vBsJizSAN5C"
   },
   "source": [
    "### Load MNIST Dataset \n",
    "\n",
    "For this assignment, we will use [MNIST](https://en.wikipedia.org/wiki/MNIST_database) handwritten digits data set. The dataset consists 10 handwritten digits (0,1,...,9). It is a widely used dataset to demonstrate simple image classification problem.\n",
    "\n",
    "MNIST dataset is publicly available from different sources. We will be using MNIST from Keras package. If you do not have Keras installed, you can find the installation guide [here](https://www.tutorialspoint.com/keras/keras_installation.htm). \n",
    "\n",
    "In short, you need to run ```conda install -c anaconda keras``` or ```pip install keras```\n",
    "\n",
    "The training data consists of 60000 images of size $28 \\times 28$ pixels; the test data consists of 10000 images."
   ]
  },
  {
   "cell_type": "code",
   "execution_count": 2,
   "metadata": {
    "colab": {
     "base_uri": "https://localhost:8080/",
     "height": 181
    },
    "id": "Jdo3YbSzAN5D",
    "outputId": "7a6b23a1-bc67-46e8-ca19-9989954ec0c7"
   },
   "outputs": [
    {
     "name": "stdout",
     "output_type": "stream",
     "text": [
      "Training data shape: (60000, 28, 28)\n",
      "Test data shape: (10000, 28, 28)\n"
     ]
    },
    {
     "data": {
      "image/png": "[encoded data removed]",
      "text/plain": [
       "<Figure size 720x144 with 5 Axes>"
      ]
     },
     "metadata": {
      "needs_background": "light"
     },
     "output_type": "display_data"
    }
   ],
   "source": [
    "from keras.datasets import mnist\n",
    "(x_train, y_train), (x_test, y_test) = mnist.load_data()\n",
    "\n",
    "print('Training data shape:',x_train.shape)\n",
    "print('Test data shape:',x_test.shape)\n",
    "\n",
    "n_img=5\n",
    "plt.figure(figsize=(n_img*2,2))\n",
    "plt.gray()\n",
    "for i in range(n_img):\n",
    "    plt.subplot(1,n_img,i+1)\n",
    "    plt.imshow(x_train[i])\n",
    "plt.show()"
   ]
  },
  {
   "cell_type": "markdown",
   "metadata": {
    "id": "Uw4N4norAN5D"
   },
   "source": [
    "We will be vectorizing the training and test images. So, the size of each vector will be 784."
   ]
  },
  {
   "cell_type": "code",
   "execution_count": 3,
   "metadata": {
    "colab": {
     "base_uri": "https://localhost:8080/"
    },
    "id": "VOIMLKYtAN5E",
    "outputId": "71161c7e-9b96-4683-d204-3022a00c6c28"
   },
   "outputs": [
    {
     "name": "stdout",
     "output_type": "stream",
     "text": [
      "Training data shape after reshaping: (60000, 784)\n",
      "Test data shape after reshaping:: (10000, 784)\n"
     ]
    }
   ],
   "source": [
    "x_train=x_train.reshape(x_train.shape[0],-1)\n",
    "x_test=x_test.reshape(x_test.shape[0],-1)\n",
    "\n",
    "print('Training data shape after reshaping:',x_train.shape)\n",
    "print('Test data shape after reshaping::',x_test.shape)"
   ]
  },
  {
   "cell_type": "markdown",
   "metadata": {
    "id": "iHVQmrbIAN4-"
   },
   "source": [
    "## Question 1: Binary classification using neural network [45 pts]\n",
    "\n",
    "We will start with classification of images for two different digits using a two-layer network with a cross entropy loss. \n",
    "\n",
    "In the next question, we will extend the same architecture to multi-class classification. \n",
    "\n",
    "Pick any two digits out of ten for our classification (say 5 and 8), which we will assign label \"0\" or \"1\". \n",
    "\n",
    "Pick same number of images from each class for training and create arrays for input and output (say 1000). \n",
    "\n",
    "```\n",
    "# train_x -- N x 784 array of training input\n",
    "# train_y -- N x 1 array of binary labels \n",
    "```  \n",
    "\n",
    "If you use 1000 images from each class N = 2000. You can increase the number of training samples if you like. It is just a suggestion. \n",
    "\n",
    "\n",
    "We also need to transpose the dimension of the data so that their size becomes $784\\times N$. It will be helpful to feed it to our model based on our notations.\n"
   ]
  },
  {
   "cell_type": "code",
   "execution_count": 4,
   "metadata": {
    "colab": {
     "base_uri": "https://localhost:8080/"
    },
    "id": "fir2-wZWAN5E",
    "outputId": "baaf8808-7e03-449b-e07b-5da849a58d96"
   },
   "outputs": [
    {
     "name": "stdout",
     "output_type": "stream",
     "text": [
      "Training data shape: (784, 2000)\n",
      "Training labels shape: (2000,)\n",
      "Test data shape: (784, 1866)\n",
      "Test labels shape: (1866,)\n"
     ]
    }
   ],
   "source": [
    "def extract_binary_classification_dataset(x, y, label1, label2, num_samples):\n",
    "    \"\"\"Make a subset dataset from MNIST, containing only 2 classes for binary classification task \n",
    "    Args:\n",
    "        x (numpy.ndarray): data, can be x_train or x_test\n",
    "        y (numpy.ndarray): labels of data, can be y_train or y_test\n",
    "        label1 (int): the first class you pick, e.g. 5\n",
    "        label2 (int): the second class you pick, e.g. 8\n",
    "        num_samples (int): the number of images you select for each class, e.g. 1000\n",
    "    Returns:\n",
    "        x_ (numpy.ndarray): the data for 2 picked classes\n",
    "        y_ (numpy.ndarray): the corresponding labels for 2 picked classes\n",
    "    \"\"\"\n",
    "    # for class 1\n",
    "    x1 = x[y == label1]\n",
    "    x1 = x1[:num_samples]\n",
    "    y1 = np.zeros(len(x1))\n",
    "\n",
    "    # for class 2\n",
    "    x2 = x[y == label2]\n",
    "    x2 = x2[:num_samples]\n",
    "    y2 = np.ones(len(x2))\n",
    "\n",
    "    # combine 2 classes\n",
    "    x_ = np.concatenate((x1,x2),axis=0)\n",
    "    y_ = np.concatenate((y1,y2),axis=0)\n",
    "    return x_, y_\n",
    "\n",
    "\n",
    "# Pick your own digits\n",
    "label1 = 5\n",
    "label2 = 8\n",
    "num_samples = 1000\n",
    "\n",
    "# Train & test data\n",
    "train_x, train_y = extract_binary_classification_dataset(x_train, y_train, label1, label2, num_samples)\n",
    "test_x, test_y = extract_binary_classification_dataset(x_test, y_test, label1, label2, num_samples)\n",
    "\n",
    "# reshape data \n",
    "# Images are stored row wise, store it column wise\n",
    "train_x = train_x.T\n",
    "test_x = test_x.T\n",
    "print(\"Training data shape:\", train_x.shape)\n",
    "print(\"Training labels shape:\", train_y.shape)\n",
    "print(\"Test data shape:\", test_x.shape)\n",
    "print(\"Test labels shape:\", test_y.shape)"
   ]
  },
  {
   "cell_type": "markdown",
   "metadata": {
    "id": "HdeO0YieAN5E"
   },
   "source": [
    "### Network Architecture\n",
    "\n",
    "We will be using a two layer neural network in our experiment. The input layer will have 784 nodes, the hidden layer will have 256 nodes and the output layer will have 1 node. Each node will have $\\textit{sigmoid}$ activation function.\n",
    "\n",
    "The equations for feedforward operation will be the following:\n",
    "\n",
    "$$\\mathbf{z}^{(1)}=W^{(1)} \\mathbf{x}+ \\mathbf{b}^{(1)}\\\\\\mathbf{y}^{(1)}=\\varphi(\\mathbf{z}^{(1)})\\\\\\mathbf{z}^{(2)}=W^{(2)}  \\mathbf{y}^{(1)}+ \\mathbf{b}^{(2)} \\\\\\mathbf{y}^{(2)}=\\varphi(\\mathbf{z}^{(2)})$$\n",
    "\n",
    "where $\\mathbf{x}\\in \\mathbb{R}^{784}$ is the input layer, $\\mathbf{y}^{(1)}\\in \\mathbb{R}^{256}$ is the hidden layer, $\\mathbf{y}^{(2)} \\in \\mathbb{R}$ is the output layer, $W^{(1)}\\in \\mathbb{R}^{256\\times 784}$ is the first layer weights, $W^{(2)}\\in \\mathbb{R}^{1\\times 256}$ is the second layer weights, $\\mathbf{b}^{(1)}\\in \\mathbb{R}^{256}$ is the first layer bias, $\\mathbf{b}^{(2)}\\in \\mathbb{R}$ is the second layer bias, $\\varphi(\\cdot)$ is the activation function."
   ]
  },
  {
   "cell_type": "markdown",
   "metadata": {
    "id": "XWw3zn2_AN5F"
   },
   "source": [
    "### Network initialization [5 pts]\n",
    "\n",
    "We initialize the weights for $W^{(1)}$ and $W^{(2)}$ with random values drawn from normal distribution with zero mean and 0.01 standard deviation. We will initialize bias vectors $\\mathbf{b}^{(1)}$ and $\\mathbf{b^{(2)}}$ with zero values. \n",
    "\n",
    "We can fix the seed for random initialization for reproducibility."
   ]
  },
  {
   "cell_type": "code",
   "execution_count": 5,
   "metadata": {
    "id": "5k52OUaoAN5F"
   },
   "outputs": [],
   "source": [
    "def TwoLayerNetwork(layer_dims=[784,256,1]):\n",
    "\n",
    "    # Fix the seed\n",
    "    np.random.seed(3)\n",
    "\n",
    "    mean = 0\n",
    "    std = 0.01\n",
    "\n",
    "    # TODO \n",
    "    # Your code goes here\n",
    "    params = {}\n",
    "    params['w1'] = np.random.normal(mean, std, size=(layer_dims[1],layer_dims[0]))\n",
    "    params['b1'] = np.zeros(layer_dims[1])\n",
    "    params['w2'] = np.random.normal(mean, std, size=(layer_dims[2],layer_dims[1]))\n",
    "    params['b2'] = np.zeros(layer_dims[2])\n",
    "\n",
    "    return params"
   ]
  },
  {
   "cell_type": "markdown",
   "metadata": {
    "id": "0xLDm_wkAN5F"
   },
   "source": [
    "### Sigmoid activation function \n",
    "Now we will write the sigmoid activation function as \n",
    "\n",
    "$$ \\varphi(z) = \\frac{1}{1+e^{-z}}$$\n",
    "\n",
    "Note that derivative of __sigmoid__ is $\\varphi'(z) = \\varphi(z) (1-\\varphi(z))$. "
   ]
  },
  {
   "cell_type": "code",
   "execution_count": 6,
   "metadata": {
    "id": "_CPxvM0UAN5F"
   },
   "outputs": [],
   "source": [
    "def sigmoid(Z):\n",
    "    # Input: Z -- numpy.ndarray\n",
    "    # TODO \n",
    "    Y = (1 / (1 + np.exp(-Z)))\n",
    "    return Y"
   ]
  },
  {
   "cell_type": "markdown",
   "metadata": {
    "id": "GGuGMhzeAN5G"
   },
   "source": [
    "### Cross entropy loss function [5 pts]\n",
    "We will minimize the binary cross entropy loss function. You will use the true labels and predicted labels of a batch of N samples. \n",
    "\n",
    "Binary crossentropy loss for $i^{th}$ sample can be written as \n",
    "\n",
    "$$Loss_i = -y_i \\log y^{(2)}_i- (1-y_i) \\log (1-y^{(2)}_i)$$\n",
    "\n",
    "where $y_i$ is the true label. We can find the average loss for a batch of N samples as $Loss=\\frac{1}{N}\\sum_{i=1}^{N} Loss_i$.\n",
    "\n",
    "Note that the gradient of the cross entropy loss w.r.t. the output is \n",
    "\n",
    "$$ \\nabla_{y^{(2)}} Loss_i = -\\frac{y_i}{y_i^{(2)}} + \\frac{1-y_i}{1-y_i^{(2)}} = \\frac{y_i^{(2)}-y_i}{y_i^{(2)}(1-y_i^{(2)})}.$$\n",
    "\n",
    "We can also show that $$\\delta^{(2)} = \\nabla_{\\mathbf{z}^{(2)}} Loss_i  = \\nabla_{y^{(2)}} Loss_i \\odot \\varphi'(\\mathbf{z})= y_i^{(2)}-y_i,$$ \n",
    "where $\\odot$ denotes element-wise multiplication of the arrays. "
   ]
  },
  {
   "cell_type": "code",
   "execution_count": 7,
   "metadata": {
    "id": "l7KkfTXeAN5G"
   },
   "outputs": [],
   "source": [
    "def CrossEntropyLoss(Y_true, Y2):\n",
    "    # TODO \n",
    "    # Write your code here\n",
    "\n",
    "    loss = 0\n",
    "    for y_true,y_pred in zip(Y_true, Y2.T):\n",
    "        l = (y_true*np.log(y_pred)) + ((1-y_true)*np.log(1-y_pred))\n",
    "        l = -l\n",
    "        loss += l\n",
    "\n",
    "    return loss[0] / len(Y2)"
   ]
  },
  {
   "cell_type": "markdown",
   "metadata": {
    "id": "EnFFFVP1AN5F"
   },
   "source": [
    "### Forward propagation  [5 pts]\n",
    "Next, we will write the code for the forward pass for two layer network. Each layer consists of an affine function (fully-connected layer) followed by an activation function. You wil also return the intermediate results ($\\mathbf{x}, \\mathbf{z}^{(1)}, \\mathbf{y}^{(1)}, \\mathbf{z}^{(2)}$) in addition to final output ($\\mathbf{y}^{(2)}$). You will need the intermediate outputs for the backpropagation step."
   ]
  },
  {
   "cell_type": "code",
   "execution_count": 8,
   "metadata": {
    "id": "oBHoC1_TAN5F"
   },
   "outputs": [],
   "source": [
    "def forward(X, params):\n",
    "    \n",
    "    # TODO\n",
    "    # Write your codes here\n",
    "    # X -- 784 x N array\n",
    "    # params --\n",
    "    # w1 -- 256 x 784 matrix\n",
    "    # b1 -- 256 x 1 vector\n",
    "    # W2 -- 1 x 256 matrix\n",
    "    # b2 -- 1 x 1 scalar\n",
    "    # Y2 -- 1 x N output\n",
    "\n",
    "    intermediate = {}\n",
    "\n",
    "    intermediate['X'] = X\n",
    "    intermediate['z1'] = params['w1'].dot(intermediate['X'])+params['b1'].reshape(params['b1'].shape[0], 1)\n",
    "    intermediate['Y1'] = sigmoid(intermediate['z1'])\n",
    "    intermediate['z2'] = params['w2'].dot(intermediate['Y1'])+params['b2'].reshape(params['b2'].shape[0], 1)\n",
    "    Y2 = sigmoid(intermediate['z2'])\n",
    "\n",
    "    return Y2, intermediate"
   ]
  },
  {
   "cell_type": "markdown",
   "metadata": {
    "id": "I4ZM2NLAAN5G"
   },
   "source": [
    "### Backpropagration step [10 pts]\n",
    "Now we will implement the backpropagation step for the two layer neural network. \n",
    "\n",
    "You will need the gradient of the Loss w.r.t. $W^{(l)},\\mathbf{b}^{(l)}$ for $l = 1,2$ for all the training samples.  \n",
    "\n",
    "\n",
    "\n",
    "We saw that we can write the gradient of Loss with respect to $W^{(l)}, \\mathbf{b}^{(l)}$ for a single sample as\n",
    "\n",
    "$$\\nabla_{W^{(l)}} Loss_i = \\delta^{(l)} \\mathbf{y}^{(l-1)T},$$  \n",
    "$$\\nabla_{\\mathbf{b}^{(l)}} Loss_i = \\delta^{(l)},$$\n",
    "\n",
    "where \n",
    "$$\\delta^{(l)} = \\nabla_{\\mathbf{z}^{(l)}} Loss_i = \\nabla_{\\mathbf{y}^{(l)}} Loss_i \\odot \\varphi'(\\mathbf{z}^{(l)}).$$ \n",
    "\n",
    "\n",
    "For the the last layer, we can compute $\\delta^{(L)}$ by plugging the value of $\\nabla_{\\mathbf{y}^{(L)}} Loss$ as described above. \n",
    "\n",
    "For the intermediate layers $l<L$, we can write \n",
    "$$\\delta^{(l)} = W^{(l+1)T}\\delta^{(l+1)} \\odot \\varphi'(\\mathbf{z}^{(l)}).$$ \n",
    "\n",
    "\n",
    "\n",
    "**Once we have the gradients $\\nabla_{W^{(l)}} Loss_i, \\nabla_{\\mathbf{b}^{(l)}} Loss_i$ for all $i$. We can compute their average to compute the gradient of the total loss function $\\frac{1}{N} \\sum_{i=1}^N Loss_i$ as**\n",
    "\n",
    "$$\\nabla_{W^{(l)}} Loss = \\frac{1}{N} \\sum_i \\nabla_{W^{(l)}} Loss_i, $$\n",
    "$$ \\nabla_{\\mathbf{b}^{(l)}} Loss = \\frac{1}{N} \\sum_i  \\nabla_{\\mathbf{b}^{(l)}} Loss_i.$$\n",
    "\n",
    "**Please refer to the slides and lectures for more details.**"
   ]
  },
  {
   "cell_type": "code",
   "execution_count": 9,
   "metadata": {
    "id": "ODa4OXAqAN5G"
   },
   "outputs": [],
   "source": [
    "def backward(Y_true, Y2, intermediate, params):\n",
    "    \n",
    "    # Inputs: \n",
    "        # Y_true -- 1 x N true labels\n",
    "        # Y2 -- 1 x N output of the last layer\n",
    "        # intermediate -- X, Z1, Y1, Z2 \n",
    "        # params -- W1, b1, W2, b2 \n",
    "\n",
    "    # Outputs: \n",
    "        # grads -- [grad_W1, grad_b1, grad_W2, grad_b2]\n",
    "\n",
    "    # TODO \n",
    "    # Write your codes here\n",
    "\n",
    "    grads = {}\n",
    "\n",
    "    Y_true_reshaped = train_y.reshape(1,train_y.shape[0])\n",
    "\n",
    "    delta_2 = Y2 - Y_true_reshaped\n",
    "    grads['grad_w2'] = delta_2.dot(intermediate['Y1'].T)\n",
    "    grads['grad_b2'] = np.sum(delta_2,axis=1)\n",
    "\n",
    "    delta_1 = params['w2'].T.dot(delta_2) * (sigmoid(intermediate['z1'])*(1 - sigmoid(intermediate['z1'])))\n",
    "    grads['grad_w1'] = delta_1.dot(intermediate['X'].T)\n",
    "    grads['grad_b1'] = np.sum(delta_1,axis=1)\n",
    "\n",
    "    return grads"
   ]
  },
  {
   "cell_type": "markdown",
   "metadata": {
    "id": "GlHu8oIaAN5G"
   },
   "source": [
    "### Optimizer [5 pts]\n",
    "We will use a standard gradient descent-based optimizer to minimize the loss function. You have already implemented gradient descent in HW2. You may have to adjust learning rate that provides you best training/validation performance. In this exercise, we are not using validation data; in practice, you should use it to tune your hyperparameters such as learning rate, network architecture etc.\n",
    "\n",
    "You can use same learning rate for all weights in this assignment. \n",
    "\n",
    "You should update $W^1, \\mathbf{b}^1, W^2, \\mathbf{b}^2$ as \n",
    "$$ W^1 \\gets W^1 - \\alpha \\nabla_{W^1} Loss $$\n",
    "$$ \\mathbf{b}^1 \\gets \\mathbf{b}^1 - \\alpha \\nabla_{\\mathbf{b}^1} Loss $$ \n",
    "$$ W^2 \\gets W^2 - \\alpha \\nabla_{W^2} Loss $$ \n",
    "$$ \\mathbf{b}^2 \\gets \\mathbf{b}^2 - \\alpha \\nabla_{\\mathbf{b}^2} Loss $$ \n",
    "$\\alpha$ is the learning rate. "
   ]
  },
  {
   "cell_type": "code",
   "execution_count": 10,
   "metadata": {
    "id": "noqJ8U_PAN5G"
   },
   "outputs": [],
   "source": [
    "def GD(params, grads, learning_rate):\n",
    "    \n",
    "    # updated params = old params - learning rate * gradient of Loss computed at old params\n",
    "    # TODO \n",
    "    # Write your codes here\n",
    "\n",
    "    params['w2'] = params['w2'] - learning_rate*grads['grad_w2']\n",
    "    params['b2'] = params['b2'] - learning_rate*grads['grad_b2']\n",
    "    params['w1'] = params['w1'] - learning_rate*grads['grad_w1']\n",
    "    params['b1'] = params['b1'] - learning_rate*grads['grad_b1']\n",
    "\n",
    "\n",
    "    return params"
   ]
  },
  {
   "cell_type": "code",
   "execution_count": 11,
   "metadata": {
    "id": "ajg0F0Q5TyeC"
   },
   "outputs": [],
   "source": [
    "def predict(x, params):\n",
    "    Y2, _ = forward(x, params)\n",
    "    Y2 = np.array([1 if y_i > 0.5 else 0 for y_i in Y2.T]).reshape(1,-1)\n",
    "    return Y2"
   ]
  },
  {
   "cell_type": "code",
   "execution_count": 12,
   "metadata": {
    "id": "6-f1vukeUMBk"
   },
   "outputs": [],
   "source": [
    "def accuracy(y, y_pred):\n",
    "    aa = y_pred.reshape(-1)\n",
    "    bb = np.array([y == aa])\n",
    "    acc = np.sum(bb) / bb.shape[1]\n",
    "    return acc"
   ]
  },
  {
   "cell_type": "markdown",
   "metadata": {
    "id": "adhSifEGAN5G"
   },
   "source": [
    "### Train the Model [5 pts]\n",
    "We will train the model using the functions we wrote above. \n",
    "\n",
    "First, we specify the number of nodes in the layers, number of epochs and learning rate. Then we initialize the network."
   ]
  },
  {
   "cell_type": "code",
   "execution_count": 13,
   "metadata": {
    "id": "lKwAatEkAN5H"
   },
   "outputs": [],
   "source": [
    "layer_dims = [train_x.shape[0],256,1]\n",
    "epochs = 100\n",
    "lr = 0.00001\n",
    "\n",
    "params = TwoLayerNetwork(layer_dims)"
   ]
  },
  {
   "cell_type": "markdown",
   "metadata": {
    "id": "kdi_L3xYAN5H"
   },
   "source": [
    "Then we train the network for the number of epochs specified above. In every epoch, we will do the following:\n",
    "1. Calculate the forward pass to get estimated labels.\n",
    "2. Use the estimated labels calculate loss. We will be recording loss for every epoch.\n",
    "3. Use backpropagation to calculate gradients.\n",
    "4. Use gradient descent to update the weights and biases.\n",
    "\n",
    "You should store the loss value after every epoch in an array ```loss_history```  and print the loss value after every few epochs (say 20). \n"
   ]
  },
  {
   "cell_type": "code",
   "execution_count": 14,
   "metadata": {
    "colab": {
     "base_uri": "https://localhost:8080/"
    },
    "id": "QtEPxEleAN5H",
    "outputId": "47fa4311-8931-4b4a-e6d6-368d9e9ea44e"
   },
   "outputs": [
    {
     "name": "stdout",
     "output_type": "stream",
     "text": [
      "For Epoch :  0\n",
      "loss 1382.6803822154936\n",
      "train_accuracy 0.5005\n",
      "test_accuracy 0.5219721329046088\n",
      "-------------\n",
      "For Epoch :  1\n",
      "loss 1344.6835766468082\n",
      "train_accuracy 0.5615\n",
      "test_accuracy 0.5659163987138264\n",
      "-------------\n",
      "For Epoch :  2\n",
      "loss 1312.5122541437577\n",
      "train_accuracy 0.719\n",
      "test_accuracy 0.6854233654876741\n",
      "-------------\n",
      "For Epoch :  3\n",
      "loss 1281.2094111728147\n",
      "train_accuracy 0.813\n",
      "test_accuracy 0.7867095391211146\n",
      "-------------\n",
      "For Epoch :  4\n",
      "loss 1249.7418429811107\n",
      "train_accuracy 0.872\n",
      "test_accuracy 0.8397642015005359\n",
      "-------------\n",
      "For Epoch :  5\n",
      "loss 1218.2988593657278\n",
      "train_accuracy 0.8925\n",
      "test_accuracy 0.87513397642015\n",
      "-------------\n",
      "For Epoch :  6\n",
      "loss 1186.226182628\n",
      "train_accuracy 0.9125\n",
      "test_accuracy 0.897642015005359\n",
      "-------------\n",
      "For Epoch :  7\n",
      "loss 1153.0783868022802\n",
      "train_accuracy 0.9215\n",
      "test_accuracy 0.912647374062165\n",
      "-------------\n",
      "For Epoch :  8\n",
      "loss 1118.9972745434081\n",
      "train_accuracy 0.9275\n",
      "test_accuracy 0.9185423365487674\n",
      "-------------\n",
      "For Epoch :  9\n",
      "loss 1084.7422031586223\n",
      "train_accuracy 0.931\n",
      "test_accuracy 0.9217577706323687\n",
      "-------------\n",
      "For Epoch :  10\n",
      "loss 1049.964695444493\n",
      "train_accuracy 0.9355\n",
      "test_accuracy 0.9287245444801715\n",
      "-------------\n",
      "For Epoch :  11\n",
      "loss 1015.0413282089033\n",
      "train_accuracy 0.9395\n",
      "test_accuracy 0.9297963558413719\n",
      "-------------\n",
      "For Epoch :  12\n",
      "loss 980.2564032048855\n",
      "train_accuracy 0.9425\n",
      "test_accuracy 0.9330117899249732\n",
      "-------------\n",
      "For Epoch :  13\n",
      "loss 945.7846655431863\n",
      "train_accuracy 0.9445\n",
      "test_accuracy 0.935155412647374\n",
      "-------------\n",
      "For Epoch :  14\n",
      "loss 911.9151813785345\n",
      "train_accuracy 0.945\n",
      "test_accuracy 0.9367631296891747\n",
      "-------------\n",
      "For Epoch :  15\n",
      "loss 878.7881808361786\n",
      "train_accuracy 0.9455\n",
      "test_accuracy 0.9367631296891747\n",
      "-------------\n",
      "For Epoch :  16\n",
      "loss 846.4799514354353\n",
      "train_accuracy 0.9455\n",
      "test_accuracy 0.9372990353697749\n",
      "-------------\n",
      "For Epoch :  17\n",
      "loss 815.1096598949241\n",
      "train_accuracy 0.946\n",
      "test_accuracy 0.9378349410503751\n",
      "-------------\n",
      "For Epoch :  18\n",
      "loss 784.7641641162677\n",
      "train_accuracy 0.947\n",
      "test_accuracy 0.9389067524115756\n",
      "-------------\n",
      "For Epoch :  19\n",
      "loss 755.7800848341215\n",
      "train_accuracy 0.949\n",
      "test_accuracy 0.9389067524115756\n",
      "-------------\n",
      "For Epoch :  20\n",
      "loss 728.2806699924228\n",
      "train_accuracy 0.95\n",
      "test_accuracy 0.9410503751339764\n",
      "-------------\n",
      "For Epoch :  21\n",
      "loss 700.7745553112131\n",
      "train_accuracy 0.95\n",
      "test_accuracy 0.9421221864951769\n",
      "-------------\n",
      "For Epoch :  22\n",
      "loss 675.5968491512332\n",
      "train_accuracy 0.9505\n",
      "test_accuracy 0.939978563772776\n",
      "-------------\n",
      "For Epoch :  23\n",
      "loss 651.7580419153361\n",
      "train_accuracy 0.9505\n",
      "test_accuracy 0.9437299035369775\n",
      "-------------\n",
      "For Epoch :  24\n",
      "loss 629.4161590733194\n",
      "train_accuracy 0.9525\n",
      "test_accuracy 0.9405144694533762\n",
      "-------------\n",
      "For Epoch :  25\n",
      "loss 607.983700283576\n",
      "train_accuracy 0.954\n",
      "test_accuracy 0.9431939978563773\n",
      "-------------\n",
      "For Epoch :  26\n",
      "loss 588.0771111520276\n",
      "train_accuracy 0.954\n",
      "test_accuracy 0.9405144694533762\n",
      "-------------\n",
      "For Epoch :  27\n",
      "loss 568.9542933708474\n",
      "train_accuracy 0.954\n",
      "test_accuracy 0.9437299035369775\n",
      "-------------\n",
      "For Epoch :  28\n",
      "loss 550.9514971628929\n",
      "train_accuracy 0.954\n",
      "test_accuracy 0.9421221864951769\n",
      "-------------\n",
      "For Epoch :  29\n",
      "loss 534.1031271491797\n",
      "train_accuracy 0.957\n",
      "test_accuracy 0.9442658092175777\n",
      "-------------\n",
      "For Epoch :  30\n",
      "loss 517.9299618387332\n",
      "train_accuracy 0.9555\n",
      "test_accuracy 0.9437299035369775\n",
      "-------------\n",
      "For Epoch :  31\n",
      "loss 502.85283009722735\n",
      "train_accuracy 0.9595\n",
      "test_accuracy 0.9448017148981779\n",
      "-------------\n",
      "For Epoch :  32\n",
      "loss 488.54445990220347\n",
      "train_accuracy 0.957\n",
      "test_accuracy 0.9448017148981779\n",
      "-------------\n",
      "For Epoch :  33\n",
      "loss 475.02970219353045\n",
      "train_accuracy 0.9605\n",
      "test_accuracy 0.9453376205787781\n",
      "-------------\n",
      "For Epoch :  34\n",
      "loss 462.1930003750461\n",
      "train_accuracy 0.9575\n",
      "test_accuracy 0.9453376205787781\n",
      "-------------\n",
      "For Epoch :  35\n",
      "loss 450.0990895023954\n",
      "train_accuracy 0.962\n",
      "test_accuracy 0.9464094319399786\n",
      "-------------\n",
      "For Epoch :  36\n",
      "loss 438.63119930355435\n",
      "train_accuracy 0.9605\n",
      "test_accuracy 0.9448017148981779\n",
      "-------------\n",
      "For Epoch :  37\n",
      "loss 427.9511515744054\n",
      "train_accuracy 0.9625\n",
      "test_accuracy 0.947481243301179\n",
      "-------------\n",
      "For Epoch :  38\n",
      "loss 417.53504663422353\n",
      "train_accuracy 0.9605\n",
      "test_accuracy 0.9448017148981779\n",
      "-------------\n",
      "For Epoch :  39\n",
      "loss 407.8152860107192\n",
      "train_accuracy 0.9635\n",
      "test_accuracy 0.9469453376205788\n",
      "-------------\n",
      "For Epoch :  40\n",
      "loss 398.1443716262878\n",
      "train_accuracy 0.9625\n",
      "test_accuracy 0.9458735262593784\n",
      "-------------\n",
      "For Epoch :  41\n",
      "loss 389.1551206294519\n",
      "train_accuracy 0.965\n",
      "test_accuracy 0.947481243301179\n",
      "-------------\n",
      "For Epoch :  42\n",
      "loss 380.28526052834576\n",
      "train_accuracy 0.9635\n",
      "test_accuracy 0.9464094319399786\n",
      "-------------\n",
      "For Epoch :  43\n",
      "loss 372.0185010513821\n",
      "train_accuracy 0.966\n",
      "test_accuracy 0.947481243301179\n",
      "-------------\n",
      "For Epoch :  44\n",
      "loss 363.8777274380072\n",
      "train_accuracy 0.9645\n",
      "test_accuracy 0.9480171489817792\n",
      "-------------\n",
      "For Epoch :  45\n",
      "loss 356.3703190271471\n",
      "train_accuracy 0.969\n",
      "test_accuracy 0.9469453376205788\n",
      "-------------\n",
      "For Epoch :  46\n",
      "loss 349.0784944540876\n",
      "train_accuracy 0.9655\n",
      "test_accuracy 0.9480171489817792\n",
      "-------------\n",
      "For Epoch :  47\n",
      "loss 342.0485708655898\n",
      "train_accuracy 0.9705\n",
      "test_accuracy 0.9469453376205788\n",
      "-------------\n",
      "For Epoch :  48\n",
      "loss 335.3163594747206\n",
      "train_accuracy 0.968\n",
      "test_accuracy 0.9480171489817792\n",
      "-------------\n",
      "For Epoch :  49\n",
      "loss 328.9258760192796\n",
      "train_accuracy 0.971\n",
      "test_accuracy 0.947481243301179\n",
      "-------------\n",
      "For Epoch :  50\n",
      "loss 322.72953350925746\n",
      "train_accuracy 0.968\n",
      "test_accuracy 0.947481243301179\n",
      "-------------\n",
      "For Epoch :  51\n",
      "loss 316.7766995791933\n",
      "train_accuracy 0.9715\n",
      "test_accuracy 0.9490889603429796\n",
      "-------------\n",
      "For Epoch :  52\n",
      "loss 310.9018892917722\n",
      "train_accuracy 0.9695\n",
      "test_accuracy 0.9480171489817792\n",
      "-------------\n",
      "For Epoch :  53\n",
      "loss 305.53306522956825\n",
      "train_accuracy 0.9715\n",
      "test_accuracy 0.9496248660235799\n",
      "-------------\n",
      "For Epoch :  54\n",
      "loss 300.1103871717166\n",
      "train_accuracy 0.9715\n",
      "test_accuracy 0.9490889603429796\n",
      "-------------\n",
      "For Epoch :  55\n",
      "loss 295.1209981975713\n",
      "train_accuracy 0.9725\n",
      "test_accuracy 0.9506966773847803\n",
      "-------------\n",
      "For Epoch :  56\n",
      "loss 289.97181332741803\n",
      "train_accuracy 0.9725\n",
      "test_accuracy 0.9490889603429796\n",
      "-------------\n",
      "For Epoch :  57\n",
      "loss 285.5585209905177\n",
      "train_accuracy 0.9735\n",
      "test_accuracy 0.9506966773847803\n",
      "-------------\n",
      "For Epoch :  58\n",
      "loss 280.860778194801\n",
      "train_accuracy 0.9735\n",
      "test_accuracy 0.9496248660235799\n",
      "-------------\n",
      "For Epoch :  59\n",
      "loss 276.7921480922437\n",
      "train_accuracy 0.975\n",
      "test_accuracy 0.9512325830653805\n",
      "-------------\n",
      "For Epoch :  60\n",
      "loss 272.38521213530447\n",
      "train_accuracy 0.974\n",
      "test_accuracy 0.9496248660235799\n",
      "-------------\n",
      "For Epoch :  61\n",
      "loss 268.7240363349549\n",
      "train_accuracy 0.975\n",
      "test_accuracy 0.9512325830653805\n",
      "-------------\n",
      "For Epoch :  62\n",
      "loss 264.60990355140797\n",
      "train_accuracy 0.974\n",
      "test_accuracy 0.9490889603429796\n",
      "-------------\n",
      "For Epoch :  63\n",
      "loss 261.06842040952006\n",
      "train_accuracy 0.9755\n",
      "test_accuracy 0.9506966773847803\n",
      "-------------\n",
      "For Epoch :  64\n",
      "loss 257.0448615366885\n",
      "train_accuracy 0.9755\n",
      "test_accuracy 0.9490889603429796\n",
      "-------------\n",
      "For Epoch :  65\n",
      "loss 253.70201526597995\n",
      "train_accuracy 0.976\n",
      "test_accuracy 0.9506966773847803\n",
      "-------------\n",
      "For Epoch :  66\n",
      "loss 249.83451093039625\n",
      "train_accuracy 0.976\n",
      "test_accuracy 0.9496248660235799\n",
      "-------------\n",
      "For Epoch :  67\n",
      "loss 246.41309771278603\n",
      "train_accuracy 0.977\n",
      "test_accuracy 0.9506966773847803\n",
      "-------------\n",
      "For Epoch :  68\n",
      "loss 242.6465141410475\n",
      "train_accuracy 0.9765\n",
      "test_accuracy 0.9496248660235799\n",
      "-------------\n",
      "For Epoch :  69\n",
      "loss 239.40749447385338\n",
      "train_accuracy 0.978\n",
      "test_accuracy 0.9506966773847803\n",
      "-------------\n",
      "For Epoch :  70\n",
      "loss 236.02718120552342\n",
      "train_accuracy 0.977\n",
      "test_accuracy 0.9496248660235799\n",
      "-------------\n",
      "For Epoch :  71\n",
      "loss 232.8968259949379\n",
      "train_accuracy 0.9785\n",
      "test_accuracy 0.9512325830653805\n",
      "-------------\n",
      "For Epoch :  72\n",
      "loss 229.7990987617933\n",
      "train_accuracy 0.9775\n",
      "test_accuracy 0.9496248660235799\n",
      "-------------\n",
      "For Epoch :  73\n",
      "loss 227.1067108766109\n",
      "train_accuracy 0.9785\n",
      "test_accuracy 0.9512325830653805\n",
      "-------------\n",
      "For Epoch :  74\n",
      "loss 224.23680445752024\n",
      "train_accuracy 0.978\n",
      "test_accuracy 0.9496248660235799\n",
      "-------------\n",
      "For Epoch :  75\n",
      "loss 221.6144736146268\n",
      "train_accuracy 0.9785\n",
      "test_accuracy 0.9512325830653805\n",
      "-------------\n",
      "For Epoch :  76\n",
      "loss 218.79707518410143\n",
      "train_accuracy 0.978\n",
      "test_accuracy 0.9496248660235799\n",
      "-------------\n",
      "For Epoch :  77\n"
     ]
    },
    {
     "name": "stdout",
     "output_type": "stream",
     "text": [
      "loss 216.46582885639748\n",
      "train_accuracy 0.979\n",
      "test_accuracy 0.9506966773847803\n",
      "-------------\n",
      "For Epoch :  78\n",
      "loss 213.76568329810323\n",
      "train_accuracy 0.9785\n",
      "test_accuracy 0.9496248660235799\n",
      "-------------\n",
      "For Epoch :  79\n",
      "loss 211.5189621928413\n",
      "train_accuracy 0.9795\n",
      "test_accuracy 0.9506966773847803\n",
      "-------------\n",
      "For Epoch :  80\n",
      "loss 208.85735739359728\n",
      "train_accuracy 0.979\n",
      "test_accuracy 0.9496248660235799\n",
      "-------------\n",
      "For Epoch :  81\n",
      "loss 206.7949182744575\n",
      "train_accuracy 0.981\n",
      "test_accuracy 0.9506966773847803\n",
      "-------------\n",
      "For Epoch :  82\n",
      "loss 204.14006675541637\n",
      "train_accuracy 0.979\n",
      "test_accuracy 0.9496248660235799\n",
      "-------------\n",
      "For Epoch :  83\n",
      "loss 202.20525938453156\n",
      "train_accuracy 0.9815\n",
      "test_accuracy 0.9506966773847803\n",
      "-------------\n",
      "For Epoch :  84\n",
      "loss 199.55613688096165\n",
      "train_accuracy 0.979\n",
      "test_accuracy 0.9490889603429796\n",
      "-------------\n",
      "For Epoch :  85\n",
      "loss 197.718995771385\n",
      "train_accuracy 0.982\n",
      "test_accuracy 0.9506966773847803\n",
      "-------------\n",
      "For Epoch :  86\n",
      "loss 195.14735017403598\n",
      "train_accuracy 0.979\n",
      "test_accuracy 0.9490889603429796\n",
      "-------------\n",
      "For Epoch :  87\n",
      "loss 193.41418262125447\n",
      "train_accuracy 0.9825\n",
      "test_accuracy 0.9506966773847803\n",
      "-------------\n",
      "For Epoch :  88\n",
      "loss 190.92662690034942\n",
      "train_accuracy 0.979\n",
      "test_accuracy 0.9512325830653805\n",
      "-------------\n",
      "For Epoch :  89\n",
      "loss 189.2729323683955\n",
      "train_accuracy 0.9825\n",
      "test_accuracy 0.9506966773847803\n",
      "-------------\n",
      "For Epoch :  90\n",
      "loss 186.88529500257567\n",
      "train_accuracy 0.9795\n",
      "test_accuracy 0.9512325830653805\n",
      "-------------\n",
      "For Epoch :  91\n",
      "loss 185.26135078765085\n",
      "train_accuracy 0.9825\n",
      "test_accuracy 0.9506966773847803\n",
      "-------------\n",
      "For Epoch :  92\n",
      "loss 183.0671854524558\n",
      "train_accuracy 0.981\n",
      "test_accuracy 0.9512325830653805\n",
      "-------------\n",
      "For Epoch :  93\n",
      "loss 181.50417701673334\n",
      "train_accuracy 0.9825\n",
      "test_accuracy 0.9501607717041801\n",
      "-------------\n",
      "For Epoch :  94\n",
      "loss 179.50214930850655\n",
      "train_accuracy 0.981\n",
      "test_accuracy 0.9512325830653805\n",
      "-------------\n",
      "For Epoch :  95\n",
      "loss 178.04339220534249\n",
      "train_accuracy 0.983\n",
      "test_accuracy 0.9501607717041801\n",
      "-------------\n",
      "For Epoch :  96\n",
      "loss 176.16560085132465\n",
      "train_accuracy 0.982\n",
      "test_accuracy 0.9512325830653805\n",
      "-------------\n",
      "For Epoch :  97\n",
      "loss 174.81504470879557\n",
      "train_accuracy 0.983\n",
      "test_accuracy 0.9501607717041801\n",
      "-------------\n",
      "For Epoch :  98\n",
      "loss 173.07481262019624\n",
      "train_accuracy 0.9825\n",
      "test_accuracy 0.9512325830653805\n",
      "-------------\n",
      "For Epoch :  99\n",
      "loss 171.91108795963078\n",
      "train_accuracy 0.9835\n",
      "test_accuracy 0.9501607717041801\n",
      "-------------\n"
     ]
    }
   ],
   "source": [
    "# TODO \n",
    "# Write your codes here\n",
    "\n",
    "loss_history = []\n",
    "train_acc = []\n",
    "test_acc = []\n",
    "for epoch in range(epochs):\n",
    "\n",
    "    print ('For Epoch : ', epoch)\n",
    "\n",
    "    Y2, intermediate = forward(train_x, params)\n",
    "\n",
    "    loss = CrossEntropyLoss(train_y, Y2)\n",
    "    loss_history.append(loss)\n",
    "\n",
    "    train_pred = predict(train_x, params)\n",
    "    train_accuracy = accuracy(train_y, train_pred)\n",
    "    train_acc.append(train_accuracy)\n",
    "\n",
    "    test_pred = predict(test_x, params)\n",
    "    test_accuracy = accuracy(test_y, test_pred)\n",
    "    test_acc.append(test_accuracy)\n",
    "\n",
    "    print ('loss', loss)\n",
    "    print ('train_accuracy', train_accuracy)\n",
    "    print ('test_accuracy', test_accuracy)\n",
    "\n",
    "    grads = backward(train_y, Y2, intermediate, params)\n",
    "    params = GD(params, grads, lr)\n",
    "\n",
    "    print('-------------')\n"
   ]
  },
  {
   "cell_type": "markdown",
   "metadata": {
    "id": "2-7VVZ6iAN5H"
   },
   "source": [
    "Now we will plot the recorded loss values vs epochs. We will observe the training loss decreasing with the epochs."
   ]
  },
  {
   "cell_type": "code",
   "execution_count": 15,
   "metadata": {
    "colab": {
     "base_uri": "https://localhost:8080/",
     "height": 279
    },
    "id": "FGuGTshnc11K",
    "outputId": "05b0a649-c212-4f5d-f769-e74f59c77fa4"
   },
   "outputs": [
    {
     "data": {
      "image/png": "[encoded data removed]",
      "text/plain": [
       "<Figure size 432x288 with 1 Axes>"
      ]
     },
     "metadata": {
      "needs_background": "light"
     },
     "output_type": "display_data"
    }
   ],
   "source": [
    "plt.figure()\n",
    "plt.plot(loss_history, color = 'red')\n",
    "plt.xlabel(\"Epochs\")\n",
    "plt.ylabel(\"Training Loss\")\n",
    "plt.show()"
   ]
  },
  {
   "cell_type": "code",
   "execution_count": 16,
   "metadata": {
    "colab": {
     "base_uri": "https://localhost:8080/",
     "height": 280
    },
    "id": "Uu8zTsABAN5H",
    "outputId": "3f332fb1-e218-4efc-abaa-ad9457151faf"
   },
   "outputs": [
    {
     "data": {
      "image/png": "[encoded data removed]",
      "text/plain": [
       "<Figure size 432x288 with 1 Axes>"
      ]
     },
     "metadata": {
      "needs_background": "light"
     },
     "output_type": "display_data"
    }
   ],
   "source": [
    "plt.figure()\n",
    "# plt.plot(np.log(loss_history), color = 'red')\n",
    "plt.plot(train_acc, color = 'blue')\n",
    "plt.plot(test_acc, color = 'green')\n",
    "plt.xlabel(\"Epochs\")\n",
    "plt.ylabel(\"Training Loss\")\n",
    "plt.show()"
   ]
  },
  {
   "cell_type": "markdown",
   "metadata": {
    "id": "8ZlLv1NbAN5H"
   },
   "source": [
    "### Evaluation on test data [5 pts]\n",
    "\n",
    "Now we will be evaluating the accuracy we get from the trained model. We feed training data and test data to the forward model along with the trained parameters. \n",
    "\n",
    "Note that, we need to covert the output probability of the forward pass to binary labels before evaluating accuracy. Since the model provides the posterior probability $p(y = 1 | x)$ in range [0,1]. We can binarize them using 0.5 as a theshold (i.e. if $y_i^{(2)}\\geq 0.5$, $y_i^{(2)} \\gets 1$ otherwise  $y_i^{(2)} \\gets 0$)."
   ]
  },
  {
   "cell_type": "code",
   "execution_count": 17,
   "metadata": {
    "colab": {
     "base_uri": "https://localhost:8080/"
    },
    "id": "HKZ7BSZjAN5I",
    "outputId": "6d417a41-870d-4965-cfec-a61102da1121"
   },
   "outputs": [
    {
     "name": "stdout",
     "output_type": "stream",
     "text": [
      "Training accuracy: 0.9825\n",
      "Test accuracy: 0.9512325830653805\n"
     ]
    }
   ],
   "source": [
    "# TODO \n",
    "y_pred = predict(train_x, params)\n",
    "acc = accuracy(train_y, y_pred)\n",
    "print(\"Training accuracy:\", acc)\n",
    "\n",
    "y_pred = predict(test_x, params)\n",
    "acc = accuracy(test_y, y_pred)\n",
    "print(\"Test accuracy:\", acc)"
   ]
  },
  {
   "cell_type": "markdown",
   "metadata": {
    "id": "Ba-laCd-4OkR"
   },
   "source": [
    "### Visualize some of the correct/miscalassified images [5 pts]\n",
    "\n",
    "Now we will look at some images from training and test sets that were misclassified. \n",
    "\n",
    "Training set. \n",
    "Pick 5 images from each class that are correcly and incorreclty classified. \n",
    "True/False Positive/Negatives\n",
    "\n",
    "Test set. \n",
    "Pick 5 images from each class that are correcly and incorreclty classified. \n",
    "True/False Positive/Negatives\n"
   ]
  },
  {
   "cell_type": "code",
   "execution_count": 18,
   "metadata": {
    "colab": {
     "base_uri": "https://localhost:8080/"
    },
    "id": "1O5zZTCn4N18",
    "outputId": "540166d3-b00c-4caf-d3a5-35e82021a8ba"
   },
   "outputs": [
    {
     "name": "stdout",
     "output_type": "stream",
     "text": [
      "Training set examples for true/false positive/negative\n",
      "positive (977, 784)\n",
      "negative (988, 784)\n",
      "false_positive (23, 784)\n",
      "false_negative (12, 784)\n"
     ]
    }
   ],
   "source": [
    "# TODO \n",
    "# Training set\n",
    "print(\"Training set examples for true/false positive/negative\")\n",
    "Y_hat = predict(train_x, params)\n",
    "Y_hat = Y_hat.reshape(-1)\n",
    "\n",
    "positive = []\n",
    "negative = []\n",
    "false_positive = []\n",
    "false_negative = []\n",
    "\n",
    "idx = 0\n",
    "\n",
    "for y_hat,y_true,x_i in zip(Y_hat, train_y, train_x.T):\n",
    "    idx += 1\n",
    "    if y_hat == y_true:\n",
    "        if y_hat == 1:\n",
    "            # print('positive')\n",
    "            positive.append(x_i)\n",
    "        else :\n",
    "            # print('negative')\n",
    "            negative.append(x_i)\n",
    "    else :\n",
    "        if y_hat == 0:\n",
    "            # print('false_positive')\n",
    "            false_positive.append(x_i)\n",
    "        else:\n",
    "            # print('false_negative')\n",
    "            false_negative.append(x_i)\n",
    "\n",
    "\n",
    "positive = np.array(positive)\n",
    "negative = np.array(negative)\n",
    "false_positive = np.array(false_positive)\n",
    "false_negative = np.array(false_negative)\n",
    "\n",
    "print ('positive', positive.shape)\n",
    "print ('negative', negative.shape)\n",
    "print ('false_positive', false_positive.shape)\n",
    "print ('false_negative', false_negative.shape)"
   ]
  },
  {
   "cell_type": "code",
   "execution_count": 19,
   "metadata": {
    "colab": {
     "base_uri": "https://localhost:8080/",
     "height": 793
    },
    "id": "YdloRmwPpXgK",
    "outputId": "3b3c6112-a015-4d86-8212-c0e8200dc25c"
   },
   "outputs": [
    {
     "name": "stdout",
     "output_type": "stream",
     "text": [
      " --------- Positives -----------\n",
      " --------- Label: 8, Predicted: 8 -----------\n",
      "\n"
     ]
    },
    {
     "data": {
      "image/png": "[encoded data removed]",
      "text/plain": [
       "<Figure size 720x144 with 5 Axes>"
      ]
     },
     "metadata": {
      "needs_background": "light"
     },
     "output_type": "display_data"
    },
    {
     "name": "stdout",
     "output_type": "stream",
     "text": [
      "\n",
      " --------- Negatives -----------\n",
      " --------- Label: 5, Predicted: 5 -----------\n",
      "\n"
     ]
    },
    {
     "data": {
      "image/png": "[encoded data removed]",
      "text/plain": [
       "<Figure size 720x144 with 5 Axes>"
      ]
     },
     "metadata": {
      "needs_background": "light"
     },
     "output_type": "display_data"
    },
    {
     "name": "stdout",
     "output_type": "stream",
     "text": [
      "\n",
      " --------- False Positives -----------\n",
      " --------- Label: 8, Predicted: 5 -----------\n",
      "\n"
     ]
    },
    {
     "data": {
      "image/png": "[encoded data removed]",
      "text/plain": [
       "<Figure size 720x144 with 5 Axes>"
      ]
     },
     "metadata": {
      "needs_background": "light"
     },
     "output_type": "display_data"
    },
    {
     "name": "stdout",
     "output_type": "stream",
     "text": [
      "\n",
      " --------- False Negatives -----------\n",
      " --------- Label: 5, Predicted: 8 -----------\n",
      "\n"
     ]
    },
    {
     "data": {
      "image/png": "[encoded data removed]",
      "text/plain": [
       "<Figure size 720x144 with 5 Axes>"
      ]
     },
     "metadata": {
      "needs_background": "light"
     },
     "output_type": "display_data"
    }
   ],
   "source": [
    "print (' --------- Positives -----------')\n",
    "print (' --------- Label: 8, Predicted: 8 -----------')\n",
    "print ()\n",
    "\n",
    "n_img=5\n",
    "plt.figure(figsize=(n_img*2,2))\n",
    "plt.gray()\n",
    "for i in range(n_img):\n",
    "    plt.subplot(1,n_img,i+1)\n",
    "    plt.imshow(positive[i].reshape(28,28))\n",
    "plt.show()\n",
    "\n",
    "print ()\n",
    "print (' --------- Negatives -----------')\n",
    "print (' --------- Label: 5, Predicted: 5 -----------')\n",
    "print ()\n",
    "\n",
    "n_img=5\n",
    "plt.figure(figsize=(n_img*2,2))\n",
    "plt.gray()\n",
    "for i in range(n_img):\n",
    "    plt.subplot(1,n_img,i+1)\n",
    "    plt.imshow(negative[i].reshape(28,28))\n",
    "plt.show()\n",
    "\n",
    "print ()\n",
    "print (' --------- False Positives -----------')\n",
    "print (' --------- Label: 8, Predicted: 5 -----------')\n",
    "print ()\n",
    "\n",
    "n_img=5\n",
    "plt.figure(figsize=(n_img*2,2))\n",
    "plt.gray()\n",
    "for i in range(n_img):\n",
    "    plt.subplot(1,n_img,i+1)\n",
    "    plt.imshow(false_positive[i].reshape(28,28))\n",
    "plt.show()\n",
    "\n",
    "print ()\n",
    "print (' --------- False Negatives -----------')\n",
    "print (' --------- Label: 5, Predicted: 8 -----------')\n",
    "print ()\n",
    "\n",
    "n_img=5\n",
    "plt.figure(figsize=(n_img*2,2))\n",
    "plt.gray()\n",
    "for i in range(n_img):\n",
    "    plt.subplot(1,n_img,i+1)\n",
    "    plt.imshow(false_negative[i].reshape(28,28))\n",
    "plt.show()"
   ]
  },
  {
   "cell_type": "code",
   "execution_count": 20,
   "metadata": {
    "colab": {
     "base_uri": "https://localhost:8080/"
    },
    "id": "jym9VlP-_0rd",
    "outputId": "28ed400f-c0ae-47a4-b821-14b48bc89ecc"
   },
   "outputs": [
    {
     "name": "stdout",
     "output_type": "stream",
     "text": [
      "Test set examples for true/false positive/negative\n",
      "positive (927, 784)\n",
      "negative (848, 784)\n",
      "false_positive (47, 784)\n",
      "false_negative (44, 784)\n"
     ]
    }
   ],
   "source": [
    "# Test set\n",
    "print(\"Test set examples for true/false positive/negative\")\n",
    "Y_hat = predict(test_x, params)\n",
    "Y_hat = Y_hat.reshape(-1)\n",
    "\n",
    "positive = []\n",
    "negative = []\n",
    "false_positive = []\n",
    "false_negative = []\n",
    "\n",
    "idx = 0\n",
    "\n",
    "for y_hat,y_true,x_i in zip(Y_hat, test_y, test_x.T):\n",
    "    idx += 1\n",
    "    if y_hat == y_true:\n",
    "        if y_hat == 1:\n",
    "            # print('positive')\n",
    "            positive.append(x_i)\n",
    "        else :\n",
    "            # print('negative')\n",
    "            negative.append(x_i)\n",
    "    else :\n",
    "        if y_hat == 0:\n",
    "            # print('false_positive')\n",
    "            false_positive.append(x_i)\n",
    "        else:\n",
    "            # print('false_negative')\n",
    "            false_negative.append(x_i)\n",
    "\n",
    "\n",
    "positive = np.array(positive)\n",
    "negative = np.array(negative)\n",
    "false_positive = np.array(false_positive)\n",
    "false_negative = np.array(false_negative)\n",
    "\n",
    "print ('positive', positive.shape)\n",
    "print ('negative', negative.shape)\n",
    "print ('false_positive', false_positive.shape)\n",
    "print ('false_negative', false_negative.shape)"
   ]
  },
  {
   "cell_type": "code",
   "execution_count": 21,
   "metadata": {
    "colab": {
     "base_uri": "https://localhost:8080/",
     "height": 793
    },
    "id": "8NijBjFMrRBO",
    "outputId": "ee0842a6-909b-4913-ad60-96c982d5ab2e"
   },
   "outputs": [
    {
     "name": "stdout",
     "output_type": "stream",
     "text": [
      " --------- Positives -----------\n",
      " --------- Label: 8, Predicted: 8 -----------\n",
      "\n"
     ]
    },
    {
     "data": {
      "image/png": "[encoded data removed]",
      "text/plain": [
       "<Figure size 720x144 with 5 Axes>"
      ]
     },
     "metadata": {
      "needs_background": "light"
     },
     "output_type": "display_data"
    },
    {
     "name": "stdout",
     "output_type": "stream",
     "text": [
      "\n",
      " --------- Negatives -----------\n",
      " --------- Label: 5, Predicted: 5 -----------\n",
      "\n"
     ]
    },
    {
     "data": {
      "image/png": "[encoded data removed]",
      "text/plain": [
       "<Figure size 720x144 with 5 Axes>"
      ]
     },
     "metadata": {
      "needs_background": "light"
     },
     "output_type": "display_data"
    },
    {
     "name": "stdout",
     "output_type": "stream",
     "text": [
      "\n",
      " --------- False Positives -----------\n",
      " --------- Label: 8, Predicted: 5 -----------\n",
      "\n"
     ]
    },
    {
     "data": {
      "image/png": "[encoded data removed]",
      "text/plain": [
       "<Figure size 720x144 with 5 Axes>"
      ]
     },
     "metadata": {
      "needs_background": "light"
     },
     "output_type": "display_data"
    },
    {
     "name": "stdout",
     "output_type": "stream",
     "text": [
      "\n",
      " --------- False Negatives -----------\n",
      " --------- Label: 5, Predicted: 8 -----------\n",
      "\n"
     ]
    },
    {
     "data": {
      "image/png": "[encoded data removed]",
      "text/plain": [
       "<Figure size 720x144 with 5 Axes>"
      ]
     },
     "metadata": {
      "needs_background": "light"
     },
     "output_type": "display_data"
    }
   ],
   "source": [
    "print (' --------- Positives -----------')\n",
    "print (' --------- Label: 8, Predicted: 8 -----------')\n",
    "print ()\n",
    "\n",
    "n_img=5\n",
    "plt.figure(figsize=(n_img*2,2))\n",
    "plt.gray()\n",
    "for i in range(n_img):\n",
    "    plt.subplot(1,n_img,i+1)\n",
    "    plt.imshow(positive[i].reshape(28,28))\n",
    "plt.show()\n",
    "\n",
    "print ()\n",
    "print (' --------- Negatives -----------')\n",
    "print (' --------- Label: 5, Predicted: 5 -----------')\n",
    "print ()\n",
    "\n",
    "n_img=5\n",
    "plt.figure(figsize=(n_img*2,2))\n",
    "plt.gray()\n",
    "for i in range(n_img):\n",
    "    plt.subplot(1,n_img,i+1)\n",
    "    plt.imshow(negative[i].reshape(28,28))\n",
    "plt.show()\n",
    "\n",
    "print ()\n",
    "print (' --------- False Positives -----------')\n",
    "print (' --------- Label: 8, Predicted: 5 -----------')\n",
    "print ()\n",
    "\n",
    "n_img=5\n",
    "plt.figure(figsize=(n_img*2,2))\n",
    "plt.gray()\n",
    "for i in range(n_img):\n",
    "    plt.subplot(1,n_img,i+1)\n",
    "    plt.imshow(false_positive[i].reshape(28,28))\n",
    "plt.show()\n",
    "\n",
    "print ()\n",
    "print (' --------- False Negatives -----------')\n",
    "print (' --------- Label: 5, Predicted: 8 -----------')\n",
    "print ()\n",
    "\n",
    "n_img=5\n",
    "plt.figure(figsize=(n_img*2,2))\n",
    "plt.gray()\n",
    "for i in range(n_img):\n",
    "    plt.subplot(1,n_img,i+1)\n",
    "    plt.imshow(false_negative[i].reshape(28,28))\n",
    "plt.show()"
   ]
  },
  {
   "cell_type": "markdown",
   "metadata": {
    "id": "zoli2hpzp2gy"
   },
   "source": [
    "## Question 2. Multiclass classification [35 pts] \n",
    "\n",
    "Now we will build a classifier to separate all the digits. For this purpose, we will only change the last layer and the loss. \n",
    "\n",
    "\n",
    "Instead of using a single output, we will provide 10 outputs; and instead of using a binary cross entropy loss, we will use mutli-class cross entropy loss. \n",
    "\n",
    "In multinomal logistic regression (aka softmax regression), we define the posterior probability of label $y \\in \\{0,\\ldots, K-1\\}$ as \n",
    "\n",
    "\n",
    "$$p(y = c | \\mathbf{x}) = \\frac{\\exp(\\mathbf{w}_c^T\\mathbf{x})}{\\sum_{k=1}^K \\exp(\\mathbf{w}_k^T\\mathbf{x})} = \\mathbf{p}_c.$$ \n",
    "\n",
    "In other words, last layer of the network provides a probability vector $\\mathbf{p} \\in \\mathbb{R}^K$, such that each $0 \\le \\mathbf{p}_c \\le 1$ and $\\sum_c \\mathbf{p}_c = 1$. "
   ]
  },
  {
   "cell_type": "markdown",
   "metadata": {
    "id": "vxGPKVAUBO-w"
   },
   "source": [
    "### Softmax function [5 pts]\n",
    "\n",
    "Let us first define the softmax function, which is a multinomal extension of the sigmoid function that maps a vector of length $K$ to a probability vector. \n",
    "\n",
    "We can define ```softmax``` function on a vector $\\mathbf{z} \\in \\mathbb{R}^K$ as $\\mathbf{p} = \\text{softmax}(\\mathbf{z})$: \n",
    "\n",
    "$$\\mathbf{p}_c(\\mathbf{z}) = \\frac{\\exp(\\mathbf{z}_c)}{\\sum_{k=1}^K \\exp(\\mathbf{z}_k)}$$\n",
    "\n"
   ]
  },
  {
   "cell_type": "code",
   "execution_count": 22,
   "metadata": {
    "id": "wezeelLcBSCo"
   },
   "outputs": [],
   "source": [
    "def softmax_2(Z):\n",
    "    # Z -- K x N numpy.ndarray, K is the number of classes, N is the number of samples\n",
    "    # TODO  \n",
    "    # your code goes here... \n",
    "    exp = np.exp(Z)\n",
    "    exp_sum = exp.sum(0, keepdims=True)\n",
    "    probs = exp/exp_sum\n",
    "\n",
    "    return probs"
   ]
  },
  {
   "cell_type": "markdown",
   "metadata": {
    "id": "9J53N9_wWMUf"
   },
   "source": [
    "We have to note that the numerical range of floating point numbers in numpy is limited. For `float64` the upper bound is $10^{308}$. For exponential, its not difficult to overshoot that limit, in which case python returns `nan`.\n",
    "\n",
    "To make our softmax function numerically stable, we simply normalize the values in the vector, by multiplying the numerator and denominator with a constant `C` as\n",
    "\n",
    "\\begin{align*}\n",
    "\\mathbf{p}_c  &= \\frac{\\exp(\\mathbf{z}_c)}{\\sum_{k=1}^K \\exp(\\mathbf{z}_k)} \\\\\n",
    "& = \\frac{C\\exp(\\mathbf{z}_c)}{C\\sum_{k=1}^K \\exp(\\mathbf{z}_k)}\\\\\n",
    "& = \\frac{\\exp(\\mathbf{z}_c + \\log C)}{C\\sum_{k=1}^K \\exp(\\mathbf{z}_k + \\log C)}.\n",
    "\\end{align*}\n",
    "\n",
    "We can choose an arbitrary value for `log(C)` term, but generally `log(C) = −max(z)` is chosen\n"
   ]
  },
  {
   "cell_type": "code",
   "execution_count": 23,
   "metadata": {
    "id": "JzmyZdoqXO_v"
   },
   "outputs": [],
   "source": [
    "def stable_softmax_2(Z): \n",
    "    # Z -- K x N numpy.ndarray, K is the number of classes, N is the number of samples\n",
    "    # TODO (this is optional)\n",
    "    # your code goes here  \n",
    "    emax = -np.amax(Z)\n",
    "    regularizer = math.e**emax\n",
    "    exp = np.exp(Z + np.log(regularizer))\n",
    "    exp_sum = exp.sum(0, keepdims=True)\n",
    "    probs = exp/exp_sum\n",
    "    return probs"
   ]
  },
  {
   "cell_type": "markdown",
   "metadata": {
    "id": "tSGHPdySbpbj"
   },
   "source": [
    "### Derivative of the softmax function\n",
    "\n",
    "We can show that the derivative of the __softmax__ function with respect to any input can be written as \n",
    "\n",
    "$$ \\frac{\\partial \\mathbf{p}_i}{\\partial \\mathbf{z}_j} = \\begin{cases} \\mathbf{p}_i(1-\\mathbf{p}_j) & i = j \\\\ \\mathbf{p}_i (-\\mathbf{p}_j) & i \\ne j. \\end{cases}$$\n",
    "\n",
    "[More info here](https://deepnotes.io/softmax-crossentropy)\n"
   ]
  },
  {
   "cell_type": "markdown",
   "metadata": {
    "id": "C0qcy_JAArEo"
   },
   "source": [
    "### Multiclass cross entropy loss function [5 pts]\n",
    "\n",
    "We will minimize the cross entropy loss. You will use the true labels and predicted labels of a batch of N samples. \n",
    "\n",
    "The multi-class cross entropy loss for $i^{th}$ sample can be written as \n",
    "$$Loss_i = -\\sum_c \\mathbf{1}(y_i = c) \\log \\mathbf{p}_c $$\n",
    "where $y_i$ is the true label and \n",
    "\n",
    "$$\\mathbf{1}(y_i = c) = \\begin{cases} 1 & y_i =c \\\\ 0 & \\text{otherwise} \\end{cases}$$ \n",
    "is an indicator function. \n",
    "\n",
    "We can find the average loss for a batch of N samples as $Loss=\\frac{1}{N}\\sum_{i=1}^{N} Loss_i$. \n"
   ]
  },
  {
   "cell_type": "code",
   "execution_count": 24,
   "metadata": {
    "id": "XGY5orVfiyiZ"
   },
   "outputs": [],
   "source": [
    "def one_hot(X):\n",
    "    # X -- N x 1 array \n",
    "\n",
    "    X_int = train_y.astype(int)\n",
    "    X_one_hot = np.eye(np.max(X_int)+1)[X_int]\n",
    "    return X_one_hot"
   ]
  },
  {
   "cell_type": "code",
   "execution_count": 25,
   "metadata": {
    "id": "tebVzE2SAoTB"
   },
   "outputs": [],
   "source": [
    "def MultiClassCrossEntropyLoss_2(Y_true, probs):\n",
    "\n",
    "    # TODO \n",
    "    # Write your code here\n",
    "\n",
    "    # probs -- K x N array\n",
    "    # Y_true -- 1 x N array \n",
    "    # loss --  sum Loss_i over N samples \n",
    "    Y_true = Y_true.astype(int)\n",
    "    logprobs = -np.log(probs.T[range(Y_true.shape[0]),Y_true])\n",
    "    l = np.sum(logprobs)\n",
    "    loss = (1.0/Y_true.shape[0]) * l\n",
    "\n",
    "    return loss"
   ]
  },
  {
   "cell_type": "markdown",
   "metadata": {
    "id": "tbRPrVLpjFIo"
   },
   "source": [
    "### Derivative of the cross entropy loss \n",
    "\n",
    "Let us assume that $\\mathbf{p} = \\text{softmax}(\\mathbf{z})$. \n",
    "\n",
    "Note that the derivative of the loss w.r.t. $\\mathbf{p}_j$ can be written as \n",
    "$$\\frac{\\partial Loss_i }{\\partial \\mathbf{p}_j} = \\begin{cases} -1/\\mathbf{p}_j & j = y_i \\\\ 0 & j \\ne y_i \\end{cases}. $$\n",
    "\n",
    "Note that we can use _total derivative_ to compute the derivative of the loss for $i$th sample w.r.t. $j$th entry in $\\mathbf{z}$ as\n",
    "\n",
    "\\begin{align*}\n",
    "\\frac{\\partial Loss_i}{\\partial \\mathbf{z}_j} = \\sum_c \\frac{\\partial Loss_i}{\\partial \\mathbf{p}_c}\\frac{\\partial \\mathbf{p}_c}{\\partial \\mathbf{z}_j}.\n",
    "\\end{align*}\n",
    "\n",
    "From our discussion above, we know that the $\\frac{\\partial Loss_i}{\\partial \\mathbf{p}_c} = 0$ if $c \\ne y_i$. \n",
    "\n",
    "\n",
    "\\begin{align*}\n",
    "\\frac{\\partial Loss_i}{\\partial \\mathbf{z}_j} &= -\\frac{1}{\\mathbf{p}_c} \\frac{\\partial \\mathbf{p}_c}{\\partial \\mathbf{z}_j} \\\\\n",
    "& = \\begin{cases} \\mathbf{p}_j - 1 & j = y_i \\\\ \\mathbf{p}_j & j \\ne y_i. \\end{cases}\n",
    "\\end{align*}\n",
    "\n",
    "Therefore, $$\\delta^{(2)} = \\nabla_{\\mathbf{z}^{(2)}} Loss_i = \\mathbf{p} - \\mathbf{1}_{y_i}.$$\n",
    "\n",
    "where $\\mathbf{1}_{y_i}$ is a __one-hot vector__ that has length $K$ and is zero everywhere except 1 at index same as $y_i$. \n"
   ]
  },
  {
   "cell_type": "markdown",
   "metadata": {
    "id": "462ORdiFLdz2"
   },
   "source": [
    "### Training data\n",
    "\n",
    "Let us pick training data for multi-class classification. \n",
    "\n",
    "Pick same number of images from each class for training and create arrays for input and output. \n",
    "\n",
    "```\n",
    "# train_x -- N x 784 array of training input\n",
    "# train_y -- N x 1 array of labels \n",
    "```  \n",
    "\n",
    "If you use 1000 images from each class N = 10000. You can increase the number of training samples if you like. You may also use unequal number of images in each class. \n",
    "\n",
    "We also need to transpose the dimension of the data so that their size becomes $784\\times N$. It will be helpful to feed it to our model based on our notations."
   ]
  },
  {
   "cell_type": "code",
   "execution_count": 26,
   "metadata": {
    "colab": {
     "base_uri": "https://localhost:8080/"
    },
    "id": "BZ6Z-yPgL3xm",
    "outputId": "c5be36f9-efba-47ad-cf90-6515628ed246"
   },
   "outputs": [
    {
     "name": "stdout",
     "output_type": "stream",
     "text": [
      "Training data shape: (10000, 784)\n",
      "Test data shape: (10000, 784)\n",
      "Training data shape: (784, 10000)\n",
      "Training label shape: (10000,)\n",
      "\n",
      "Test data shape: (784, 10000)\n",
      "Test label shape: (10000,)\n"
     ]
    }
   ],
   "source": [
    "# Pick training samples \n",
    "num_samples = 1000\n",
    "\n",
    "# Training data\n",
    "x = np.zeros((0,784))\n",
    "y = np.zeros((0))\n",
    "for label in range(10):\n",
    "    x1 = x_train[y_train == label]  \n",
    "    x1 = x1[:num_samples]\n",
    "    y1 = y_train[y_train == label]\n",
    "    y1 = y1[:num_samples]\n",
    "\n",
    "    x = np.concatenate((x,x1),axis=0)\n",
    "    y = np.concatenate((y,y1),axis=0)\n",
    "\n",
    "train_x = x\n",
    "train_y = y\n",
    "print(\"Training data shape:\", train_x.shape)\n",
    "\n",
    "\n",
    "# Test data\n",
    "test_x = x_test\n",
    "test_y = y_test \n",
    "print(\"Test data shape:\", test_x.shape)\n",
    "\n",
    "# reshape data \n",
    "train_x = train_x.T\n",
    "test_x = test_x.T\n",
    "print(\"Training data shape:\", train_x.shape) \n",
    "print(\"Training label shape:\", train_y.shape) \n",
    "print ()\n",
    "print(\"Test data shape:\", test_x.shape)\n",
    "print(\"Test label shape:\", test_y.shape)"
   ]
  },
  {
   "cell_type": "markdown",
   "metadata": {
    "id": "xoXHKji6L3xo"
   },
   "source": [
    "### Network Architecture\n",
    "\n",
    "We will be using a two layer neural network in our experiment. The input layer has 784 nodes, the hidden layer will have 256 nodes and the output layer will have 10 nodes. First layer will have __sigmoid__ activation and second layer will have __softmax__ activation.\n",
    "\n",
    "The equations for feedforward operation will be as follows.\n",
    "\n",
    "$$\\mathbf{z}^{(1)}=W^{(1)} \\mathbf{x}+ \\mathbf{b}^{(1)}\\\\\\mathbf{y}^{(1)}=\\text{sigmoid}(\\mathbf{z}^{(1)})\\\\\\mathbf{z}^{(2)}=W^{(2)}  \\mathbf{y}^{(1)}+ \\mathbf{b}^{(2)} \\\\\\mathbf{p} = \\mathbf{y}^{(2)}=\\text{softmax}(\\mathbf{z}^{(2)})$$\n",
    "\n",
    "where $\\mathbf{x}\\in \\mathbb{R}^{784}$ is the input layer, $\\mathbf{y}^{(1)}\\in \\mathbb{R}^{256}$ is the hidden layer, $\\mathbf{y}^{(2)} \\in \\mathbb{R}$ is the output layer, $W^{(1)}\\in \\mathbb{R}^{256\\times 784}$ is the first layer weights, $W^{(2)}\\in \\mathbb{R}^{10\\times 256}$ is the second layer weights, $\\mathbf{b}^{(1)}\\in \\mathbb{R}^{256}$ is the first layer bias, $\\mathbf{b}^{(2)}\\in \\mathbb{R}^{10}$ is the second layer bias vector."
   ]
  },
  {
   "cell_type": "markdown",
   "metadata": {
    "id": "2Fqsp1BvL3xp"
   },
   "source": [
    "### Network initialization [5 pts]\n",
    "\n",
    "We initialize the weights for $W^{(1)}$ and $W^{(2)}$ with random values drawn from normal distribution with zero mean and 0.01 standard deviation. We will initialize bias vectors $\\mathbf{b}^{(1)}$ and $\\mathbf{b^{(2)}}$ with zero values. \n",
    "\n",
    "We can fix the seed for random initialization for reproducibility."
   ]
  },
  {
   "cell_type": "code",
   "execution_count": 27,
   "metadata": {
    "id": "lVAv90YNYraW"
   },
   "outputs": [],
   "source": [
    "def sigmoid_2(Z):\n",
    "    # Input: Z -- numpy.ndarray\n",
    "    # TODO \n",
    "    Y = (1 / (1 + np.exp(-Z)))\n",
    "    return Y"
   ]
  },
  {
   "cell_type": "code",
   "execution_count": 28,
   "metadata": {
    "id": "nu-3CQlRL3xp"
   },
   "outputs": [],
   "source": [
    "def TwoLayerNetwork_2(layer_dims=[784,256,10]):\n",
    "    # TODO \n",
    "    # Your code goes here\n",
    "\n",
    "    # Fix the seed\n",
    "    np.random.seed(3)\n",
    "\n",
    "    #Initialize the weights\n",
    "\n",
    "    mean = 0\n",
    "    std = 0.01\n",
    "\n",
    "    params = {}\n",
    "    params['w1'] = np.random.normal(mean, std, size=(layer_dims[1],layer_dims[0]))\n",
    "    params['b1'] = np.zeros((layer_dims[1],1))\n",
    "    params['w2'] = np.random.normal(mean, std, size=(layer_dims[2],layer_dims[1]))\n",
    "    params['b2'] = np.zeros((layer_dims[2],1))\n",
    "\n",
    "    return params"
   ]
  },
  {
   "cell_type": "markdown",
   "metadata": {
    "id": "av7l9tOKUuAN"
   },
   "source": [
    "### Forward propagation \n",
    "Next, we will write the code for the forward pass for two layer network. Each layer consists of an affine function (fully-connected layer) followed by an activation function. You wil also return the intermediate results ($\\mathbf{x}, \\mathbf{z}^{(1)}, \\mathbf{y}^{(1)}, \\mathbf{z}^{(2)}$) in addition to final output ($\\mathbf{y}^{(2)}$). You will need the intermediate outputs for the backpropagation step."
   ]
  },
  {
   "cell_type": "code",
   "execution_count": 29,
   "metadata": {
    "id": "kLSoTwFkUuAO"
   },
   "outputs": [],
   "source": [
    "def forward_2(X, params):\n",
    "    \n",
    "    # TODO \n",
    "    # Write your codes here\n",
    "\n",
    "    # X -- 784 x N array \n",
    "    # params -- \n",
    "      # W1 -- 256 x 784 matrix\n",
    "      # b1 -- 256 x 1 vector\n",
    "      # W2 -- 10 x 256 matrix\n",
    "      # b2 -- 10 x 1 scalar \n",
    "    # probs -- 10 x N output \n",
    "\n",
    "    intermediate = {}\n",
    "    intermediate['X'] = X\n",
    "    intermediate['z1'] = params['w1'].dot(intermediate['X'])+params['b1']\n",
    "    intermediate['Y1'] = sigmoid_2(intermediate['z1'])\n",
    "    intermediate['z2'] = params['w2'].dot(intermediate['Y1'])+params['b2']\n",
    "    Y2 = stable_softmax_2(intermediate['z2'])\n",
    "\n",
    "    return Y2, intermediate"
   ]
  },
  {
   "cell_type": "markdown",
   "metadata": {
    "id": "Z3QjvXHIUuAO"
   },
   "source": [
    "### Backpropagration step [10 pts]\n",
    "\n",
    "Now we will implement the backpropagation step for the two layer neural network using softmax layer and loss function. \n",
    "\n",
    "\n",
    "You will need the gradient of the Loss w.r.t. $W^{(l)},\\mathbf{b}^{(l)}$ for $l = 1,2$ for all the training samples.  \n",
    "\n",
    "We saw that we can write the gradient of Loss with respect to $W^{(l)}, \\mathbf{b}^{(l)}$ for a single sample as\n",
    "\n",
    "$$\\nabla_{W^{(l)}} Loss_i = \\delta^{(l)} \\mathbf{y}^{(l-1)T},$$  \n",
    "$$\\nabla_{\\mathbf{b}^{(l)}} Loss_i = \\delta^{(l)},$$\n",
    "\n",
    "\n",
    "where \n",
    "$$\\delta^{(l)} = \\nabla_{\\mathbf{z}^{(l)}} Loss = \\nabla_{\\mathbf{y}^{(l)}} Loss \\odot \\varphi'(\\mathbf{z}^{(l)}).$$ \n",
    "\n",
    "We saw above that for an $i$th sample, $\\delta^{(2)} = \\nabla_{\\mathbf{z}^{(2)}} Loss_i = \\mathbf{p} - \\mathbf{1}_{y_i},$ where $\\mathbf{1}_{y_i}$ is a __one-hot vector__ that has length $K$ and is zero everywhere except 1 at index same as $y_i$ and $\\mathbf{p}$ is the outpu probability vector for the $i$th sample. \n",
    "\n",
    "\n",
    "**Once we have the gradients $\\nabla_{W^{(l)}} Loss_i, \\nabla_{\\mathbf{b}^{(l)}} Loss_i$ for all $i$. We can compute their average to compute the gradient of the total loss function as**\n",
    "\n",
    "$$\\nabla_{W^{(l)}} Loss = \\frac{1}{N} \\sum_i \\nabla_{W^{(l)}} Loss_i, $$\n",
    "$$ \\nabla_{\\mathbf{b}^{(l)}} Loss = \\frac{1}{N} \\sum_i  \\nabla_{\\mathbf{b}^{(l)}} Loss_i.$$\n",
    "\n",
    "**Please refer to the slides and lectures for more details.**"
   ]
  },
  {
   "cell_type": "code",
   "execution_count": 30,
   "metadata": {
    "id": "T0hPvx0SUuAP"
   },
   "outputs": [],
   "source": [
    "def backward_2(Y_true, probs, intermediate, params):\n",
    "    \n",
    "    # Inputs: \n",
    "      # Y_true -- true labels\n",
    "      # probs -- 10 x N output of the last layer\n",
    "      # intermediate -- X, Z1, Y1, Z2 \n",
    "      # params -- W1, b1, W2, b2 \n",
    "\n",
    "    # Outputs: \n",
    "      # grads -- [grad_W1, grad_b1, grad_W2, grad_b2]\n",
    "\n",
    "    # TODO \n",
    "    # Write your codes here\n",
    "\n",
    "    grads = {}\n",
    "\n",
    "    train_y_one_hot = one_hot(Y_true)\n",
    "    train_y_one_hot_transposed = train_y_one_hot.T\n",
    "\n",
    "    delta_2 = probs - train_y_one_hot_transposed\n",
    "    grads['w2'] = delta_2.dot(intermediate['Y1'].T)\n",
    "    grads['b2'] = np.sum(delta_2,axis=1,keepdims=True)\n",
    "\n",
    "    delta_1 = params['w2'].T.dot(delta_2) * (sigmoid_2(intermediate['z1'])*(1 - sigmoid_2(intermediate['z1'])))\n",
    "    grads['w1'] = delta_1.dot(intermediate['X'].T)\n",
    "    grads['b1'] = np.sum(delta_1,axis=1,keepdims=True)\n",
    "\n",
    "    return grads"
   ]
  },
  {
   "cell_type": "code",
   "execution_count": 31,
   "metadata": {
    "id": "56GHTmtc3UFt"
   },
   "outputs": [],
   "source": [
    "def GD_2(params, grads, learning_rate):\n",
    "    \n",
    "    # updated params = old params - learning rate * gradient of Loss computed at old params\n",
    "    # TODO \n",
    "    # Write your codes here\n",
    "\n",
    "    params['w2'] = params['w2'] - learning_rate*grads['w2']\n",
    "    params['b2'] = params['b2'] - learning_rate*grads['b2']\n",
    "    params['w1'] = params['w1'] - learning_rate*grads['w1']\n",
    "    params['b1'] = params['b1'] - learning_rate*grads['b1']\n",
    "\n",
    "\n",
    "    return params"
   ]
  },
  {
   "cell_type": "code",
   "execution_count": 32,
   "metadata": {
    "id": "n_bAePCW6IOe"
   },
   "outputs": [],
   "source": [
    "def predict_2(train_x,params):\n",
    "    y_pred,_ = forward_2(train_x,params)\n",
    "    return np.argmax(y_pred,axis=0)\n",
    "\n",
    "def accuracy_2(Y_true, y_pred):\n",
    "    aa = np.sum(y_pred == Y_true)\n",
    "    return aa / len(Y_true)"
   ]
  },
  {
   "cell_type": "markdown",
   "metadata": {
    "id": "1DTxxcDTvVQD"
   },
   "source": [
    "### Train the model [5 pts]\n",
    "We will use the forward and backward functions defined above with the same optimizer defined in the previous question to train our multi-class classificaiton model. \n",
    "\n",
    "We will specify the number of nodes in the layers, number of epochs and learning rate and initialize the network"
   ]
  },
  {
   "cell_type": "code",
   "execution_count": 33,
   "metadata": {
    "id": "xmhkhUisUuAQ"
   },
   "outputs": [],
   "source": [
    "layer_dims = [train_x.shape[0],256,10]\n",
    "epochs = 100\n",
    "lr = 0.00001\n",
    "\n",
    "params = TwoLayerNetwork_2(layer_dims)"
   ]
  },
  {
   "cell_type": "markdown",
   "metadata": {
    "id": "9DZAfG5QUuAQ"
   },
   "source": [
    "Then we train the network for the number of epochs specified above. In every epoch, we will do the following:\n",
    "1. Calculate the forward pass to get estimated labels.\n",
    "2. Use the estimated labels calculate loss. We will be recording loss for every epoch.\n",
    "3. Use backpropagation to calculate gradients.\n",
    "4. Use gradient descent to update the weights and biases.\n",
    "\n",
    "You should store the loss value after every epoch in an array ```loss_history```  and print the loss value after every few epochs (say 20). \n"
   ]
  },
  {
   "cell_type": "code",
   "execution_count": 34,
   "metadata": {
    "colab": {
     "base_uri": "https://localhost:8080/"
    },
    "id": "P1zSP6g8UuAQ",
    "outputId": "40cc2f5d-a6ca-4bd6-c9f1-ea1ae9cdbabd"
   },
   "outputs": [
    {
     "name": "stdout",
     "output_type": "stream",
     "text": [
      "epoch ==>  0\n",
      " loss  2.3156506076429806\n",
      " train_accuracy  0.0954\n",
      " test_accuracy  0.0957\n",
      "epoch ==>  1\n",
      " loss  2.173161610307765\n",
      " train_accuracy  0.5641\n",
      " test_accuracy  0.5646\n",
      "epoch ==>  2\n",
      " loss  2.0563830122829168\n",
      " train_accuracy  0.697\n",
      " test_accuracy  0.6924\n",
      "epoch ==>  3\n",
      " loss  1.9373658497805297\n",
      " train_accuracy  0.7371\n",
      " test_accuracy  0.7303\n",
      "epoch ==>  4\n",
      " loss  1.8171994054672316\n",
      " train_accuracy  0.7483\n",
      " test_accuracy  0.7467\n",
      "epoch ==>  5\n",
      " loss  1.7021259261242867\n",
      " train_accuracy  0.7569\n",
      " test_accuracy  0.7545\n",
      "epoch ==>  6\n",
      " loss  1.5964476895658268\n",
      " train_accuracy  0.7631\n",
      " test_accuracy  0.7619\n",
      "epoch ==>  7\n",
      " loss  1.5095160233574614\n",
      " train_accuracy  0.7637\n",
      " test_accuracy  0.7633\n",
      "epoch ==>  8\n",
      " loss  1.432854846455317\n",
      " train_accuracy  0.7435\n",
      " test_accuracy  0.743\n",
      "epoch ==>  9\n",
      " loss  1.3969053218555145\n",
      " train_accuracy  0.7393\n",
      " test_accuracy  0.7381\n",
      "epoch ==>  10\n",
      " loss  1.386555775707423\n",
      " train_accuracy  0.6427\n",
      " test_accuracy  0.6435\n",
      "epoch ==>  11\n",
      " loss  1.4137886376027107\n",
      " train_accuracy  0.6706\n",
      " test_accuracy  0.6657\n",
      "epoch ==>  12\n",
      " loss  1.2600190798995787\n",
      " train_accuracy  0.7212\n",
      " test_accuracy  0.7176\n",
      "epoch ==>  13\n",
      " loss  1.1391045674392832\n",
      " train_accuracy  0.7708\n",
      " test_accuracy  0.7754\n",
      "epoch ==>  14\n",
      " loss  1.0224208747394536\n",
      " train_accuracy  0.8328\n",
      " test_accuracy  0.8305\n",
      "epoch ==>  15\n",
      " loss  0.9649164117194001\n",
      " train_accuracy  0.8189\n",
      " test_accuracy  0.8229\n",
      "epoch ==>  16\n",
      " loss  0.912099084149137\n",
      " train_accuracy  0.8523\n",
      " test_accuracy  0.8442\n",
      "epoch ==>  17\n",
      " loss  0.884928889916758\n",
      " train_accuracy  0.8285\n",
      " test_accuracy  0.8326\n",
      "epoch ==>  18\n",
      " loss  0.8620952124290178\n",
      " train_accuracy  0.8491\n",
      " test_accuracy  0.8355\n",
      "epoch ==>  19\n",
      " loss  0.8700436674181904\n",
      " train_accuracy  0.809\n",
      " test_accuracy  0.8116\n",
      "epoch ==>  20\n",
      " loss  0.8677989858385029\n",
      " train_accuracy  0.8222\n",
      " test_accuracy  0.8065\n",
      "epoch ==>  21\n",
      " loss  0.8458458311710932\n",
      " train_accuracy  0.801\n",
      " test_accuracy  0.8036\n",
      "epoch ==>  22\n",
      " loss  0.7868883970713006\n",
      " train_accuracy  0.8434\n",
      " test_accuracy  0.8259\n",
      "epoch ==>  23\n",
      " loss  0.7124839267602106\n",
      " train_accuracy  0.8451\n",
      " test_accuracy  0.8502\n",
      "epoch ==>  24\n",
      " loss  0.6655256130321304\n",
      " train_accuracy  0.8773\n",
      " test_accuracy  0.864\n",
      "epoch ==>  25\n",
      " loss  0.6373988226535068\n",
      " train_accuracy  0.8694\n",
      " test_accuracy  0.8641\n",
      "epoch ==>  26\n",
      " loss  0.6217951560276929\n",
      " train_accuracy  0.8856\n",
      " test_accuracy  0.8697\n",
      "epoch ==>  27\n",
      " loss  0.6173319990161237\n",
      " train_accuracy  0.8627\n",
      " test_accuracy  0.8564\n",
      "epoch ==>  28\n",
      " loss  0.6280031461904033\n",
      " train_accuracy  0.8666\n",
      " test_accuracy  0.8504\n",
      "epoch ==>  29\n",
      " loss  0.6578550041391933\n",
      " train_accuracy  0.8253\n",
      " test_accuracy  0.8194\n",
      "epoch ==>  30\n",
      " loss  0.6906992991496135\n",
      " train_accuracy  0.8159\n",
      " test_accuracy  0.805\n",
      "epoch ==>  31\n",
      " loss  0.7029244601497214\n",
      " train_accuracy  0.7863\n",
      " test_accuracy  0.7796\n",
      "epoch ==>  32\n",
      " loss  0.6691350753273501\n",
      " train_accuracy  0.8204\n",
      " test_accuracy  0.8105\n",
      "epoch ==>  33\n",
      " loss  0.6046847666801303\n",
      " train_accuracy  0.8351\n",
      " test_accuracy  0.8234\n",
      "epoch ==>  34\n",
      " loss  0.5544965837714511\n",
      " train_accuracy  0.8691\n",
      " test_accuracy  0.8607\n",
      "epoch ==>  35\n",
      " loss  0.5173935070902622\n",
      " train_accuracy  0.8809\n",
      " test_accuracy  0.8705\n",
      "epoch ==>  36\n",
      " loss  0.4966461766067993\n",
      " train_accuracy  0.8899\n",
      " test_accuracy  0.8752\n",
      "epoch ==>  37\n",
      " loss  0.48744426051206957\n",
      " train_accuracy  0.8931\n",
      " test_accuracy  0.8833\n",
      "epoch ==>  38\n",
      " loss  0.47291222616469397\n",
      " train_accuracy  0.8943\n",
      " test_accuracy  0.8798\n",
      "epoch ==>  39\n",
      " loss  0.46428951271916913\n",
      " train_accuracy  0.9019\n",
      " test_accuracy  0.8851\n",
      "epoch ==>  40\n",
      " loss  0.44959918517117425\n",
      " train_accuracy  0.9005\n",
      " test_accuracy  0.8861\n",
      "epoch ==>  41\n",
      " loss  0.44056714066165586\n",
      " train_accuracy  0.9107\n",
      " test_accuracy  0.889\n",
      "epoch ==>  42\n",
      " loss  0.42959387736111015\n",
      " train_accuracy  0.9052\n",
      " test_accuracy  0.891\n",
      "epoch ==>  43\n",
      " loss  0.4179988809100257\n",
      " train_accuracy  0.9163\n",
      " test_accuracy  0.8927\n",
      "epoch ==>  44\n",
      " loss  0.4070712826350347\n",
      " train_accuracy  0.9109\n",
      " test_accuracy  0.8981\n",
      "epoch ==>  45\n",
      " loss  0.3985054819948903\n",
      " train_accuracy  0.9184\n",
      " test_accuracy  0.8944\n",
      "epoch ==>  46\n",
      " loss  0.39391961998441294\n",
      " train_accuracy  0.9115\n",
      " test_accuracy  0.8969\n",
      "epoch ==>  47\n",
      " loss  0.3919043238804209\n",
      " train_accuracy  0.9147\n",
      " test_accuracy  0.8919\n",
      "epoch ==>  48\n",
      " loss  0.3952337136291677\n",
      " train_accuracy  0.9081\n",
      " test_accuracy  0.8948\n",
      "epoch ==>  49\n",
      " loss  0.39505627296896595\n",
      " train_accuracy  0.9082\n",
      " test_accuracy  0.8857\n",
      "epoch ==>  50\n",
      " loss  0.41201690704739785\n",
      " train_accuracy  0.8985\n",
      " test_accuracy  0.8838\n",
      "epoch ==>  51\n",
      " loss  0.4113423670379155\n",
      " train_accuracy  0.8972\n",
      " test_accuracy  0.8742\n",
      "epoch ==>  52\n",
      " loss  0.4250040835194086\n",
      " train_accuracy  0.8877\n",
      " test_accuracy  0.8746\n",
      "epoch ==>  53\n",
      " loss  0.4106864695141602\n",
      " train_accuracy  0.8926\n",
      " test_accuracy  0.8714\n",
      "epoch ==>  54\n",
      " loss  0.41232615214278295\n",
      " train_accuracy  0.8919\n",
      " test_accuracy  0.8782\n",
      "epoch ==>  55\n",
      " loss  0.38627345333039614\n",
      " train_accuracy  0.9025\n",
      " test_accuracy  0.8831\n",
      "epoch ==>  56\n",
      " loss  0.3701310602797519\n",
      " train_accuracy  0.9098\n",
      " test_accuracy  0.8941\n",
      "epoch ==>  57\n",
      " loss  0.3580950748245995\n",
      " train_accuracy  0.9113\n",
      " test_accuracy  0.8954\n",
      "epoch ==>  58\n",
      " loss  0.3487488137519139\n",
      " train_accuracy  0.9192\n",
      " test_accuracy  0.8996\n",
      "epoch ==>  59\n",
      " loss  0.34480832540483036\n",
      " train_accuracy  0.9147\n",
      " test_accuracy  0.8983\n",
      "epoch ==>  60\n",
      " loss  0.33572502224641454\n",
      " train_accuracy  0.9248\n",
      " test_accuracy  0.9016\n",
      "epoch ==>  61\n",
      " loss  0.332007039432983\n",
      " train_accuracy  0.9218\n",
      " test_accuracy  0.9021\n",
      "epoch ==>  62\n",
      " loss  0.3258384293140313\n",
      " train_accuracy  0.9274\n",
      " test_accuracy  0.9031\n",
      "epoch ==>  63\n",
      " loss  0.32166402775318564\n",
      " train_accuracy  0.9245\n",
      " test_accuracy  0.9028\n",
      "epoch ==>  64\n",
      " loss  0.3198134246665767\n",
      " train_accuracy  0.9299\n",
      " test_accuracy  0.9018\n",
      "epoch ==>  65\n",
      " loss  0.3238821883827359\n",
      " train_accuracy  0.9216\n",
      " test_accuracy  0.9015\n",
      "epoch ==>  66\n",
      " loss  0.3330748410695077\n",
      " train_accuracy  0.9204\n",
      " test_accuracy  0.8945\n",
      "epoch ==>  67\n",
      " loss  0.34926933477015937\n",
      " train_accuracy  0.9082\n",
      " test_accuracy  0.8909\n",
      "epoch ==>  68\n",
      " loss  0.3681195572093929\n",
      " train_accuracy  0.9044\n",
      " test_accuracy  0.8811\n",
      "epoch ==>  69\n",
      " loss  0.3709194012090123\n",
      " train_accuracy  0.8981\n",
      " test_accuracy  0.8812\n",
      "epoch ==>  70\n",
      " loss  0.3733143973106393\n",
      " train_accuracy  0.903\n",
      " test_accuracy  0.8798\n",
      "epoch ==>  71\n",
      " loss  0.35390457217489885\n",
      " train_accuracy  0.9069\n",
      " test_accuracy  0.8878\n",
      "epoch ==>  72\n",
      " loss  0.3349275425601995\n",
      " train_accuracy  0.9167\n",
      " test_accuracy  0.8913\n",
      "epoch ==>  73\n",
      " loss  0.31237056631161597\n",
      " train_accuracy  0.9213\n",
      " test_accuracy  0.9039\n",
      "epoch ==>  74\n",
      " loss  0.2892149501977329\n",
      " train_accuracy  0.9322\n",
      " test_accuracy  0.9057\n",
      "epoch ==>  75\n",
      " loss  0.27964543481637233\n",
      " train_accuracy  0.9329\n",
      " test_accuracy  0.9124\n",
      "epoch ==>  76\n",
      " loss  0.2712241444915941\n",
      " train_accuracy  0.9389\n",
      " test_accuracy  0.9143\n",
      "epoch ==>  77\n",
      " loss  0.26862419198804577\n",
      " train_accuracy  0.9378\n",
      " test_accuracy  0.9128\n",
      "epoch ==>  78\n",
      " loss  0.26535834665071606\n",
      " train_accuracy  0.9384\n",
      " test_accuracy  0.9146\n",
      "epoch ==>  79\n",
      " loss  0.2651093082807018\n",
      " train_accuracy  0.9375\n",
      " test_accuracy  0.9133\n",
      "epoch ==>  80\n",
      " loss  0.26336364512705285\n",
      " train_accuracy  0.9404\n",
      " test_accuracy  0.9131\n",
      "epoch ==>  81\n",
      " loss  0.26676694832098646\n",
      " train_accuracy  0.9356\n",
      " test_accuracy  0.9109\n",
      "epoch ==>  82\n",
      " loss  0.2715357904387753\n",
      " train_accuracy  0.9361\n",
      " test_accuracy  0.9102\n",
      "epoch ==>  83\n",
      " loss  0.2798399012096096\n",
      " train_accuracy  0.9301\n",
      " test_accuracy  0.9064\n",
      "epoch ==>  84\n",
      " loss  0.29070884266142405\n",
      " train_accuracy  0.93\n",
      " test_accuracy  0.904\n",
      "epoch ==>  85\n",
      " loss  0.31048617398340067\n",
      " train_accuracy  0.9161\n",
      " test_accuracy  0.8973\n",
      "epoch ==>  86\n",
      " loss  0.3114717266051652\n",
      " train_accuracy  0.9203\n",
      " test_accuracy  0.8961\n",
      "epoch ==>  87\n",
      " loss  0.32544403226765856\n",
      " train_accuracy  0.9104\n",
      " test_accuracy  0.8902\n",
      "epoch ==>  88\n",
      " loss  0.3066954316137177\n",
      " train_accuracy  0.9239\n",
      " test_accuracy  0.8977\n",
      "epoch ==>  89\n",
      " loss  0.30525453935248514\n",
      " train_accuracy  0.9178\n",
      " test_accuracy  0.8969\n",
      "epoch ==>  90\n",
      " loss  0.27961950959630494\n",
      " train_accuracy  0.9339\n",
      " test_accuracy  0.904\n",
      "epoch ==>  91\n",
      " loss  0.26366832719693256\n",
      " train_accuracy  0.9335\n",
      " test_accuracy  0.9089\n",
      "epoch ==>  92\n",
      " loss  0.2457952413866482\n",
      " train_accuracy  0.9411\n",
      " test_accuracy  0.9167\n",
      "epoch ==>  93\n",
      " loss  0.23741967337819625\n",
      " train_accuracy  0.9444\n",
      " test_accuracy  0.9167\n",
      "epoch ==>  94\n",
      " loss  0.23078215227579504\n",
      " train_accuracy  0.947\n",
      " test_accuracy  0.9184\n",
      "epoch ==>  95\n"
     ]
    },
    {
     "name": "stdout",
     "output_type": "stream",
     "text": [
      " loss  0.2282888510963444\n",
      " train_accuracy  0.9475\n",
      " test_accuracy  0.9182\n",
      "epoch ==>  96\n",
      " loss  0.22512070812710583\n",
      " train_accuracy  0.9481\n",
      " test_accuracy  0.9204\n",
      "epoch ==>  97\n",
      " loss  0.2242465615382209\n",
      " train_accuracy  0.9487\n",
      " test_accuracy  0.917\n",
      "epoch ==>  98\n",
      " loss  0.22366939582758524\n",
      " train_accuracy  0.9495\n",
      " test_accuracy  0.9205\n",
      "epoch ==>  99\n",
      " loss  0.2245555679729231\n",
      " train_accuracy  0.9479\n",
      " test_accuracy  0.9162\n"
     ]
    }
   ],
   "source": [
    "# TODO \n",
    "# Write your codes here\n",
    "\n",
    "loss_history = []\n",
    "train_acc = []\n",
    "test_acc = []\n",
    "for i in range(epochs):\n",
    "\n",
    "    print ('epoch ==> ', i)\n",
    "\n",
    "    probs, intermediate = forward_2(train_x, params)\n",
    "    loss = MultiClassCrossEntropyLoss_2(train_y, probs)\n",
    "    loss_history.append(loss)\n",
    "\n",
    "    train_pred = predict_2(train_x, params)\n",
    "    test_pred = predict_2(test_x, params)\n",
    "\n",
    "    train_accuracy = accuracy_2(train_y, train_pred)\n",
    "    test_accuracy = accuracy_2(test_y,test_pred)\n",
    "\n",
    "    print (' loss ', loss)\n",
    "    print (' train_accuracy ', train_accuracy)\n",
    "    print (' test_accuracy ', test_accuracy)\n",
    "\n",
    "    test_acc.append(test_accuracy)\n",
    "    train_acc.append(train_accuracy)\n",
    "\n",
    "    grads = backward_2(train_y, probs, intermediate, params)\n",
    "    params = GD_2(params, grads, lr)\n",
    "\n",
    " "
   ]
  },
  {
   "cell_type": "markdown",
   "metadata": {
    "id": "mAtKFEjTUuAQ"
   },
   "source": [
    "Now we will plot the recorded loss values vs epochs. We will observe the training loss decreasing with the epochs."
   ]
  },
  {
   "cell_type": "code",
   "execution_count": 35,
   "metadata": {
    "colab": {
     "base_uri": "https://localhost:8080/",
     "height": 279
    },
    "id": "hOJDNzlul4dM",
    "outputId": "40c28ca4-502f-4063-d346-2dd884bb6aa0"
   },
   "outputs": [
    {
     "data": {
      "image/png": "[encoded data removed]",
      "text/plain": [
       "<Figure size 432x288 with 1 Axes>"
      ]
     },
     "metadata": {
      "needs_background": "light"
     },
     "output_type": "display_data"
    }
   ],
   "source": [
    "plt.figure()\n",
    "plt.plot(train_acc,label='train')\n",
    "plt.plot(test_acc,label='test')\n",
    "plt.xlabel(\"Epochs\")\n",
    "plt.ylabel(\"Accuracy\")\n",
    "plt.legend()\n",
    "plt.show()"
   ]
  },
  {
   "cell_type": "code",
   "execution_count": 36,
   "metadata": {
    "colab": {
     "base_uri": "https://localhost:8080/",
     "height": 279
    },
    "id": "Hw14IunrUuAQ",
    "outputId": "0006d1e6-97a7-4926-876d-0914fdfa4fcf"
   },
   "outputs": [
    {
     "data": {
      "image/png": "[encoded data removed]",
      "text/plain": [
       "<Figure size 432x288 with 1 Axes>"
      ]
     },
     "metadata": {
      "needs_background": "light"
     },
     "output_type": "display_data"
    }
   ],
   "source": [
    "plt.figure()\n",
    "plt.plot(loss_history)\n",
    "plt.xlabel(\"Epochs\")\n",
    "plt.ylabel(\"Training Loss\")\n",
    "plt.show()"
   ]
  },
  {
   "cell_type": "markdown",
   "metadata": {
    "id": "Pf4fN1udUuAR"
   },
   "source": [
    "### Evaluation on test data [5 pts]\n",
    "\n",
    "Now we will be evaluating the accuracy we get from the trained model. We feed training data and test data to the forward model along with the trained parameters. \n",
    "\n",
    "Note that, we need to convert the (probability) output of the forward pass into labels before evaluating accuracy. We can assign label based on the maximum probability. \n",
    "\n",
    "We assign estimated labels $$\\hat{y}_i = \\arg \\max_c  \\mathbf{p}_c $$ for every probility vector. "
   ]
  },
  {
   "cell_type": "code",
   "execution_count": 37,
   "metadata": {
    "colab": {
     "base_uri": "https://localhost:8080/"
    },
    "id": "KAhOtQigUuAR",
    "outputId": "f71d4397-dc89-4451-97af-a30f89eb6eb3"
   },
   "outputs": [
    {
     "name": "stdout",
     "output_type": "stream",
     "text": [
      "Training accuracy: 0.9465\n",
      "Test accuracy: 0.918\n"
     ]
    }
   ],
   "source": [
    "y_train_pred = predict_2(train_x, params)\n",
    "train_accuracy = accuracy_2(train_y, y_train_pred)\n",
    "\n",
    "\n",
    "print(\"Training accuracy:\",train_accuracy)\n",
    "\n",
    "y_test_pred = predict_2(test_x, params)\n",
    "test_accuracy = accuracy_2(test_y, y_test_pred)\n",
    "\n",
    "print(\"Test accuracy:\",test_accuracy)"
   ]
  },
  {
   "cell_type": "markdown",
   "metadata": {
    "id": "iLjwg5wjMcyB"
   },
   "source": [
    "### Visualize some of the correct/miscalassified images [optional]\n",
    "\n",
    "Now we will look at some images from training and test sets that were misclassified. \n",
    "\n",
    "Training set. \n",
    "Pick example from each class that are correcly and incorreclty classified. \n",
    "True/False Positive/Negatives\n",
    "\n",
    "Test set. \n",
    "Pick examples from each class that are correcly and incorreclty classified. \n",
    "True/False Positive/Negatives\n"
   ]
  },
  {
   "cell_type": "code",
   "execution_count": 38,
   "metadata": {
    "colab": {
     "base_uri": "https://localhost:8080/",
     "height": 412
    },
    "id": "R-NtpDz-Mkub",
    "outputId": "97ca66a6-969d-416f-99d4-17febc2dfbd9"
   },
   "outputs": [
    {
     "name": "stdout",
     "output_type": "stream",
     "text": [
      "Training set examples for true/false positive/negative\n",
      "positive (9465, 784)\n",
      "negative (535, 784)\n",
      " --------- Positives -----------\n",
      "\n"
     ]
    },
    {
     "data": {
      "image/png": "[encoded data removed]",
      "text/plain": [
       "<Figure size 1440x144 with 10 Axes>"
      ]
     },
     "metadata": {
      "needs_background": "light"
     },
     "output_type": "display_data"
    },
    {
     "name": "stdout",
     "output_type": "stream",
     "text": [
      "\n",
      " --------- Negatives -----------\n",
      "\n"
     ]
    },
    {
     "data": {
      "image/png": "[encoded data removed]",
      "text/plain": [
       "<Figure size 1440x144 with 10 Axes>"
      ]
     },
     "metadata": {
      "needs_background": "light"
     },
     "output_type": "display_data"
    }
   ],
   "source": [
    "# TODO \n",
    "# Training set\n",
    "print(\"Training set examples for true/false positive/negative\")\n",
    "Y_hat = predict_2(train_x, params)\n",
    "Y_hat = Y_hat.reshape(-1)\n",
    "\n",
    "positive = []\n",
    "negative = []\n",
    "false_positive = []\n",
    "false_negative = []\n",
    "\n",
    "idx = 0\n",
    "\n",
    "for y_hat,y_true,x_i in zip(Y_hat, train_y, train_x.T):\n",
    "    idx += 1\n",
    "    if y_hat == y_true:\n",
    "        positive.append(x_i)\n",
    "    else :\n",
    "        negative.append(x_i)\n",
    "\n",
    "\n",
    "positive = np.array(positive)\n",
    "negative = np.array(negative)\n",
    "\n",
    "print ('positive', positive.shape)\n",
    "print ('negative', negative.shape)\n",
    "\n",
    "\n",
    "print (' --------- Positives -----------')\n",
    "print ()\n",
    "\n",
    "n_img=10\n",
    "plt.figure(figsize=(n_img*2,2))\n",
    "plt.gray()\n",
    "for i in range(n_img):\n",
    "    plt.subplot(1,n_img,i+1)\n",
    "    plt.imshow(positive[i].reshape(28,28))\n",
    "plt.show()\n",
    "\n",
    "print ()\n",
    "print (' --------- Negatives -----------')\n",
    "print ()\n",
    "\n",
    "\n",
    "plt.figure(figsize=(n_img*2,2))\n",
    "plt.gray()\n",
    "for i in range(n_img):\n",
    "    plt.subplot(1,n_img,i+1)\n",
    "    plt.imshow(negative[i].reshape(28,28))\n",
    "plt.show()"
   ]
  },
  {
   "cell_type": "code",
   "execution_count": 39,
   "metadata": {
    "colab": {
     "base_uri": "https://localhost:8080/",
     "height": 412
    },
    "id": "MC3hQcV41jpi",
    "outputId": "449c3451-24ab-46ef-87ce-e17dfa49698b"
   },
   "outputs": [
    {
     "name": "stdout",
     "output_type": "stream",
     "text": [
      "Training set examples for true/false positive/negative\n",
      "positive (9180, 784)\n",
      "negative (820, 784)\n",
      " --------- Positives -----------\n",
      "\n"
     ]
    },
    {
     "data": {
      "image/png": "[encoded data removed]",
      "text/plain": [
       "<Figure size 1440x144 with 10 Axes>"
      ]
     },
     "metadata": {
      "needs_background": "light"
     },
     "output_type": "display_data"
    },
    {
     "name": "stdout",
     "output_type": "stream",
     "text": [
      "\n",
      " --------- Negatives -----------\n",
      "\n"
     ]
    },
    {
     "data": {
      "image/png": "[encoded data removed]",
      "text/plain": [
       "<Figure size 1440x144 with 10 Axes>"
      ]
     },
     "metadata": {
      "needs_background": "light"
     },
     "output_type": "display_data"
    }
   ],
   "source": [
    "# TODO \n",
    "# Training set\n",
    "print(\"Training set examples for true/false positive/negative\")\n",
    "Y_hat = predict_2(test_x, params)\n",
    "Y_hat = Y_hat.reshape(-1)\n",
    "\n",
    "positive = []\n",
    "negative = []\n",
    "false_positive = []\n",
    "false_negative = []\n",
    "\n",
    "idx = 0\n",
    "\n",
    "for y_hat,y_true,x_i in zip(Y_hat, test_y, test_x.T):\n",
    "    idx += 1\n",
    "    if y_hat == y_true:\n",
    "        positive.append(x_i)\n",
    "    else :\n",
    "        negative.append(x_i)\n",
    "\n",
    "\n",
    "positive = np.array(positive)\n",
    "negative = np.array(negative)\n",
    "\n",
    "print ('positive', positive.shape)\n",
    "print ('negative', negative.shape)\n",
    "\n",
    "\n",
    "print (' --------- Positives -----------')\n",
    "print ()\n",
    "\n",
    "n_img=10\n",
    "plt.figure(figsize=(n_img*2,2))\n",
    "plt.gray()\n",
    "for i in range(n_img):\n",
    "    plt.subplot(1,n_img,i+1)\n",
    "    plt.imshow(positive[i].reshape(28,28))\n",
    "plt.show()\n",
    "\n",
    "print ()\n",
    "print (' --------- Negatives -----------')\n",
    "print ()\n",
    "\n",
    "\n",
    "plt.figure(figsize=(n_img*2,2))\n",
    "plt.gray()\n",
    "for i in range(n_img):\n",
    "    plt.subplot(1,n_img,i+1)\n",
    "    plt.imshow(negative[i+300].reshape(28,28))\n",
    "plt.show()"
   ]
  },
  {
   "cell_type": "markdown",
   "metadata": {
    "id": "tU1ZfPTjv-jm"
   },
   "source": [
    "### Note about implementation\n",
    "\n",
    "This is a note on two problems I have seen in the past and how they can be easily fixed. \n",
    "\n",
    "1. Summation along different axes ? \n",
    "\n",
    "2. Summation of gradients over samples ? \n",
    "\n",
    "\n",
    "\n",
    "\n",
    "**1. Summation to create probability vectors in the Softmax function**\n",
    "\n",
    "Suppose X is a d x N array, in our case, it is 784 x 10000. \n",
    "\n",
    "`Z2 = W2 Y1 + b2  will be 10 x 10000 array `\n",
    "\n",
    "\n",
    "\n",
    "`softmax(Z2)` will be a `10 x 10000` array in which we want to apply a softmax function on every column of `Z2` by first computing exponential and then normalizing the column to sum to 1, which is needed for it to be a probability vector. \n",
    "\n",
    "\n",
    "\n",
    "\n",
    "We can do that as \n",
    "```\n",
    "probs = np.exp(Z2) \n",
    "\n",
    "# now you want to sum up each column and divide the column by the sum so that each column is a valid probability vector\n",
    "\n",
    "probs /= np.sum(probs,axis=0,keepdims=True) # this makes sum of each column to 1\n",
    "```\n",
    "\n",
    "The **WRONG** thing to do is\n",
    "```\n",
    "probs /= np.sum(probs) \n",
    "# This is WRONG. np.sum() computes sum of the entire array. \n",
    "```\n",
    "\n",
    "\n",
    "\n",
    "**2. Computing gradient for the entire loss function**\n",
    "\n",
    "(this involves summation of N rank-one matrices in our notation.)\n",
    "\n",
    "\n",
    "\n",
    "\n",
    "Suppose you have computed delta1, delta2 properly\n",
    "\n",
    "\n",
    "\n",
    "\n",
    "Let's assume you computed\n",
    "```\n",
    "# delta2 is a 10 x 10000 array\n",
    "# Y1 is a 256 x 10000 array\n",
    "# N is 10000\n",
    "# grad_W2 should be a 10 x 256 array\n",
    "```\n",
    "\n",
    "\n",
    "\n",
    "We can expand the formula for the gradient of the overall loss. \n",
    "\n",
    "$$\\nabla_{W^{(2)}} Loss = \\frac{1}{N}\\sum_i \\nabla_{W^{(2)}} Loss_i, $$ \n",
    "\n",
    "where \n",
    "\n",
    "$$\\nabla_{W^{(2)}} Loss_i = \\delta^{(2)} y^{(1)T}$$ is the gradient of the loss for $i$th training sample, where $\\delta^{(2)}$ is a column of length 10 and $y^{(1)T}$ is a row of length 256, corresponding to $i$th training sample. Matrix product of column and row gives a a rank-1 matrix of size 10 x 256. \n",
    "\n",
    "\n",
    "\n",
    "\n",
    "To compute the gradient of loss over all the training samples, we need to average the rank-1 matrices for all N training samples.\n",
    "\n",
    "\n",
    "We can write the code for that as \n",
    "\n",
    "```\n",
    "# Sum gradient of loss for each sample\n",
    "for i in range(N):\n",
    "\tgrad_W2 += (1/N)*delta2[:,i,None].dot(Y1[:,i,None].T)\n",
    "\n",
    "# OR we can compute grad_W2 without for loop as \n",
    "grad_W2 = 1/N*np.dot(delta2,Y1.T)\n",
    "```\n",
    "\n",
    "To see why this is true, you can convince yourself that matrix product of an `M x N` matrix with an `N x K` matrix can be written as a summation of N `M x K` rank-one matricess. \n",
    "\n",
    "\n",
    "\n",
    "\n",
    "Suppose \n",
    "\n",
    "$A = [\\mathbf{a}_1 ~ \\cdots ~ \\mathbf{a}_N] \\text{ and } B  = \\begin{bmatrix} \\mathbf{b}_1^T \\\\ \\vdots \\\\ \\mathbf{b}_N^T \\end{bmatrix},$\n",
    "\n",
    "where $\\mathbf{a}_i, \\mathbf{b}_i$ are columns of length $M, K$, respectively.  \n",
    "\n",
    " \n",
    "\n",
    "We can write $AB$ as \n",
    "\n",
    "\n",
    "\n",
    "\n",
    "$$AB = \\sum_{i = 1}^N \\mathbf{a}_i \\mathbf{b}_i^T.$$ \n",
    "\n",
    "\n",
    "\n",
    "\n",
    " \n"
   ]
  },
  {
   "cell_type": "markdown",
   "metadata": {
    "id": "WecX82dMRrVo"
   },
   "source": [
    "---\n",
    "## Submission instructions\n",
    "1. Download this Colab to ipynb, and convert it to PDF. Follow similar steps as [here](https://stackoverflow.com/questions/53460051/convert-ipynb-notebook-to-html-in-google-colab) but convert to PDF.\n",
    " - Download your .ipynb file. You can do it using only Google Colab. `File` -> `Download` -> `Download .ipynb`\n",
    " - Reupload it so Colab can see it. Click on the `Files` icon on the far left to expand the side bar. You can directly drag the downloaded .ipynb file to the area. Or click `Upload to session storage` icon and then select & upload your .ipynb file.\n",
    " - Conversion using %%shell. \n",
    " ```\n",
    "!sudo apt-get update\n",
    "!sudo apt-get install texlive-xetex texlive-fonts-recommended texlive-generic-recommended\n",
    "!jupyter nbconvert --log-level CRITICAL --to pdf name_of_hw.ipynb\n",
    "  ```\n",
    " - Your PDF file is ready. Click 3 dots and `Download`.\n",
    "\n",
    "\n",
    "  \n",
    "\n",
    "2. Upload the PDF to Gradescope, select the correct pdf pages for each question. **Important!**\n",
    "\n",
    "3. Upload the ipynb file to Gradescope\n",
    "\n",
    "\n",
    "Notice:\n",
    "In case of errors in conversion, please check your LaTeX and debug. In Markdown, when you write in LaTeX math mode, do not leave any leading and trailing whitespaces inside the dollar signs ($). For example, write `(dollarSign)\\mathbf(dollarSign)(dollarSign)` instead of `(dollarSign)(space)\\mathbf{w}(dollarSign)`. Otherwise, nbconvert will throw an error and the generated pdf will be incomplete. [This is a bug of nbconvert.](https://tex.stackexchange.com/questions/367176/jupyter-notebook-latex-conversion-fails-escaped-and-other-symbols)\n"
   ]
  },
  {
   "cell_type": "code",
   "execution_count": 40,
   "metadata": {
    "colab": {
     "base_uri": "https://localhost:8080/"
    },
    "id": "ub1l1I4ZRqSS",
    "outputId": "9d34f9e3-5f98-4ea3-ff47-31444b640072"
   },
   "outputs": [
    {
     "name": "stderr",
     "output_type": "stream",
     "text": [
      "'sudo' is not recognized as an internal or external command,\n",
      "operable program or batch file.\n",
      "'sudo' is not recognized as an internal or external command,\n",
      "operable program or batch file.\n"
     ]
    }
   ],
   "source": [
    "!sudo apt-get update\n",
    "!sudo apt-get install texlive-xetex texlive-fonts-recommended texlive-generic-recommended"
   ]
  },
  {
   "cell_type": "code",
   "execution_count": 41,
   "metadata": {
    "colab": {
     "base_uri": "https://localhost:8080/"
    },
    "id": "M2XuF-qZ_-fk",
    "outputId": "7841ed89-f712-4b8a-9bd1-a7e207973f4a"
   },
   "outputs": [
    {
     "name": "stdout",
     "output_type": "stream",
     "text": [
      "This application is used to convert notebook files (*.ipynb)\n",
      "        to various other formats.\n",
      "\n",
      "        WARNING: THE COMMANDLINE INTERFACE MAY CHANGE IN FUTURE RELEASES.\n",
      "\n",
      "Options\n",
      "=======\n",
      "The options below are convenience aliases to configurable class-options,\n",
      "as listed in the \"Equivalent to\" description-line of the aliases.\n",
      "To see all configurable class-options for some <cmd>, use:\n",
      "    <cmd> --help-all\n",
      "\n",
      "--debug\n",
      "    set log level to logging.DEBUG (maximize logging output)\n",
      "    Equivalent to: [--Application.log_level=10]\n",
      "--show-config\n",
      "    Show the application's configuration (human-readable format)\n",
      "    Equivalent to: [--Application.show_config=True]\n",
      "--show-config-json\n",
      "    Show the application's configuration (json format)\n",
      "    Equivalent to: [--Application.show_config_json=True]\n",
      "--generate-config\n",
      "    generate default config file\n",
      "    Equivalent to: [--JupyterApp.generate_config=True]\n",
      "-y\n",
      "    Answer yes to any questions instead of prompting.\n",
      "    Equivalent to: [--JupyterApp.answer_yes=True]\n",
      "--execute\n",
      "    Execute the notebook prior to export.\n",
      "    Equivalent to: [--ExecutePreprocessor.enabled=True]\n",
      "--allow-errors\n",
      "    Continue notebook execution even if one of the cells throws an error and include the error message in the cell output (the default behaviour is to abort conversion). This flag is only relevant if '--execute' was specified, too.\n",
      "    Equivalent to: [--ExecutePreprocessor.allow_errors=True]\n",
      "--stdin\n",
      "    read a single notebook file from stdin. Write the resulting notebook with default basename 'notebook.*'\n",
      "    Equivalent to: [--NbConvertApp.from_stdin=True]\n",
      "--stdout\n",
      "    Write notebook output to stdout instead of files.\n",
      "    Equivalent to: [--NbConvertApp.writer_class=StdoutWriter]\n",
      "--inplace\n",
      "    Run nbconvert in place, overwriting the existing notebook (only\n",
      "            relevant when converting to notebook format)\n",
      "    Equivalent to: [--NbConvertApp.use_output_suffix=False --NbConvertApp.export_format=notebook --FilesWriter.build_directory=]\n",
      "--clear-output\n",
      "    Clear output of current file and save in place,\n",
      "            overwriting the existing notebook.\n",
      "    Equivalent to: [--NbConvertApp.use_output_suffix=False --NbConvertApp.export_format=notebook --FilesWriter.build_directory= --ClearOutputPreprocessor.enabled=True]\n",
      "--no-prompt\n",
      "    Exclude input and output prompts from converted document.\n",
      "    Equivalent to: [--TemplateExporter.exclude_input_prompt=True --TemplateExporter.exclude_output_prompt=True]\n",
      "--no-input\n",
      "    Exclude input cells and output prompts from converted document.\n",
      "            This mode is ideal for generating code-free reports.\n",
      "    Equivalent to: [--TemplateExporter.exclude_output_prompt=True --TemplateExporter.exclude_input=True --TemplateExporter.exclude_input_prompt=True]\n",
      "--allow-chromium-download\n",
      "    Whether to allow downloading chromium if no suitable version is found on the system.\n",
      "    Equivalent to: [--WebPDFExporter.allow_chromium_download=True]\n",
      "--disable-chromium-sandbox\n",
      "    Disable chromium security sandbox when converting to PDF..\n",
      "    Equivalent to: [--WebPDFExporter.disable_sandbox=True]\n",
      "--show-input\n",
      "    Shows code input. This flag is only useful for dejavu users.\n",
      "    Equivalent to: [--TemplateExporter.exclude_input=False]\n",
      "--embed-images\n",
      "    Embed the images as base64 dataurls in the output. This flag is only useful for the HTML/WebPDF/Slides exports.\n",
      "    Equivalent to: [--HTMLExporter.embed_images=True]\n",
      "--log-level=<Enum>\n",
      "    Set the log level by value or name.\n",
      "    Choices: any of [0, 10, 20, 30, 40, 50, 'DEBUG', 'INFO', 'WARN', 'ERROR', 'CRITICAL']\n",
      "    Default: 30\n",
      "    Equivalent to: [--Application.log_level]\n",
      "--config=<Unicode>\n",
      "    Full path of a config file.\n",
      "    Default: ''\n",
      "    Equivalent to: [--JupyterApp.config_file]\n",
      "--to=<Unicode>\n",
      "    The export format to be used, either one of the built-in formats\n",
      "            ['asciidoc', 'custom', 'html', 'latex', 'markdown', 'notebook', 'pdf', 'python', 'rst', 'script', 'slides', 'webpdf']\n",
      "            or a dotted object name that represents the import path for an\n",
      "            ``Exporter`` class\n",
      "    Default: ''\n",
      "    Equivalent to: [--NbConvertApp.export_format]\n",
      "--template=<Unicode>\n",
      "    Name of the template to use\n",
      "    Default: ''\n",
      "    Equivalent to: [--TemplateExporter.template_name]\n",
      "--template-file=<Unicode>\n",
      "    Name of the template file to use\n",
      "    Default: None\n",
      "    Equivalent to: [--TemplateExporter.template_file]\n",
      "--theme=<Unicode>\n",
      "    Template specific theme(e.g. the name of a JupyterLab CSS theme distributed\n",
      "    as prebuilt extension for the lab template)\n",
      "    Default: 'light'\n",
      "    Equivalent to: [--HTMLExporter.theme]\n",
      "--writer=<DottedObjectName>\n",
      "    Writer class used to write the\n",
      "                                        results of the conversion\n",
      "    Default: 'FilesWriter'\n",
      "    Equivalent to: [--NbConvertApp.writer_class]\n",
      "--post=<DottedOrNone>\n",
      "    PostProcessor class used to write the\n",
      "                                        results of the conversion\n",
      "    Default: ''\n",
      "    Equivalent to: [--NbConvertApp.postprocessor_class]\n",
      "--output=<Unicode>\n",
      "    overwrite base name use for output files.\n",
      "                can only be used when converting one notebook at a time.\n",
      "    Default: ''\n",
      "    Equivalent to: [--NbConvertApp.output_base]\n",
      "--output-dir=<Unicode>\n",
      "    Directory to write output(s) to. Defaults\n",
      "                                  to output to the directory of each notebook. To recover\n",
      "                                  previous default behaviour (outputting to the current\n",
      "                                  working directory) use . as the flag value.\n",
      "    Default: ''\n",
      "    Equivalent to: [--FilesWriter.build_directory]\n",
      "--reveal-prefix=<Unicode>\n",
      "    The URL prefix for reveal.js (version 3.x).\n",
      "            This defaults to the reveal CDN, but can be any url pointing to a copy\n",
      "            of reveal.js.\n",
      "            For speaker notes to work, this must be a relative path to a local\n",
      "            copy of reveal.js: e.g., \"reveal.js\".\n",
      "            If a relative path is given, it must be a subdirectory of the\n",
      "            current directory (from which the server is run).\n",
      "            See the usage documentation\n",
      "            (https://nbconvert.readthedocs.io/en/latest/usage.html#reveal-js-html-slideshow)\n",
      "            for more details.\n",
      "    Default: ''\n",
      "    Equivalent to: [--SlidesExporter.reveal_url_prefix]\n",
      "--nbformat=<Enum>\n",
      "    The nbformat version to write.\n",
      "            Use this to downgrade notebooks.\n",
      "    Choices: any of [1, 2, 3, 4]\n",
      "    Default: 4\n",
      "    Equivalent to: [--NotebookExporter.nbformat_version]\n",
      "\n",
      "Examples\n",
      "--------\n",
      "\n",
      "    The simplest way to use nbconvert is\n",
      "\n",
      "            > jupyter nbconvert mynotebook.ipynb --to html\n",
      "\n",
      "            Options include ['asciidoc', 'custom', 'html', 'latex', 'markdown', 'notebook', 'pdf', 'python', 'rst', 'script', 'slides', 'webpdf'].\n",
      "\n",
      "            > jupyter nbconvert --to latex mynotebook.ipynb\n",
      "\n",
      "            Both HTML and LaTeX support multiple output templates. LaTeX includes\n",
      "            'base', 'article' and 'report'.  HTML includes 'basic', 'lab' and\n",
      "            'classic'. You can specify the flavor of the format used.\n",
      "\n",
      "            > jupyter nbconvert --to html --template lab mynotebook.ipynb\n",
      "\n",
      "            You can also pipe the output to stdout, rather than a file\n",
      "\n",
      "            > jupyter nbconvert mynotebook.ipynb --stdout\n",
      "\n",
      "            PDF is generated via latex\n",
      "\n",
      "            > jupyter nbconvert mynotebook.ipynb --to pdf\n",
      "\n",
      "            You can get (and serve) a Reveal.js-powered slideshow\n",
      "\n",
      "            > jupyter nbconvert myslides.ipynb --to slides --post serve\n",
      "\n",
      "            Multiple notebooks can be given at the command line in a couple of\n",
      "            different ways:\n",
      "\n",
      "            > jupyter nbconvert notebook*.ipynb\n",
      "            > jupyter nbconvert notebook1.ipynb notebook2.ipynb\n",
      "\n",
      "            or you can specify the notebooks list in a config file, containing::\n",
      "\n",
      "                c.NbConvertApp.notebooks = [\"my_notebook.ipynb\"]\n",
      "\n",
      "            > jupyter nbconvert --config mycfg.py\n",
      "\n",
      "To see all available configurables, use `--help-all`.\n",
      "\n"
     ]
    }
   ],
   "source": [
    "!jupyter nbconvert --log-level CRITICAL --to pdf Copy_of_fall2022_hw3.ipynb # make sure the ipynb name is correct"
   ]
  },
  {
   "cell_type": "code",
   "execution_count": null,
   "metadata": {
    "id": "kMCJzii39h4d"
   },
   "outputs": [],
   "source": []
  }
 ],
 "metadata": {
  "colab": {
   "collapsed_sections": [],
   "provenance": []
  },
  "gpuClass": "standard",
  "kernelspec": {
   "display_name": "Python 3 (ipykernel)",
   "language": "python",
   "name": "python3"
  },
  "language_info": {
   "codemirror_mode": {
    "name": "ipython",
    "version": 3
   },
   "file_extension": ".py",
   "mimetype": "text/x-python",
   "name": "python",
   "nbconvert_exporter": "python",
   "pygments_lexer": "ipython3",
   "version": "3.10.5"
  }
 },
 "nbformat": 4,
 "nbformat_minor": 1
}
