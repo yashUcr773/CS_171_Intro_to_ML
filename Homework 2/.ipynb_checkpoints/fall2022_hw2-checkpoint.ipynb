{
 "cells": [
  {
   "cell_type": "markdown",
   "metadata": {
    "id": "UKc8K9_57UEz"
   },
   "source": [
    "# CS171-EE142 - Fall 2022 - Homework 2\n",
    "\n",
    "# Due: Thursday, October 28, 2022 @ 11:59pm\n",
    "\n",
    "### Maximum points: 100 pts\n",
    "\n",
    "\n",
    "## Submit your solution to Gradescope:\n",
    "1. Submit a single PDF to **HW2**\n",
    "2. Submit your jupyter notebook to **HW2-code**\n",
    "\n",
    "Notice:\n",
    "In Markdown, when you write in LaTeX math mode, do not leave any leading and trailing whitespaces inside the dollar signs ($). For example, write `(dollarSign)\\mathbf(dollarSign)(dollarSign)` instead of `(dollarSign)(space)\\mathbf{w}(dollarSign)`. Otherwise, nbconvert will throw an error and the generated pdf will be incomplete. [This is a bug of nbconvert.](https://tex.stackexchange.com/questions/367176/jupyter-notebook-latex-conversion-fails-escaped-and-other-symbols)\n",
    "\n",
    "**See the additional submission instructions at the end of this notebook**"
   ]
  },
  {
   "cell_type": "markdown",
   "metadata": {
    "id": "JL5tIX4c9z6s"
   },
   "source": [
    "\n",
    "## Enter your information below:\n",
    "\n",
    "### Your Name (submitter): Yash Aggarwal\n",
    "\n",
    "### Your student ID (submitter): 862333037\n",
    "    \n",
    "    \n",
    "<b>By submitting this notebook, I assert that the work below is my own work, completed for this course.  Except where explicitly cited, none of the portions of this notebook are duplicated from anyone else's work or my own previous work.</b>\n",
    "\n",
    "\n",
    "## Academic Integrity\n",
    "Each assignment should be done  individually. You may discuss general approaches with other students in the class, and ask questions to the TAs, but  you must only submit work that is yours . If you receive help by any external sources (other than the TA and the instructor), you must properly credit those sources, and if the help is significant, the appropriate grade reduction will be applied. If you fail to do so, the instructor and the TAs are obligated to take the appropriate actions outlined at http://conduct.ucr.edu/policies/academicintegrity.html . Please read carefully the UCR academic integrity policies included in the link.\n"
   ]
  },
  {
   "cell_type": "code",
   "execution_count": 1,
   "metadata": {
    "id": "fJQhDvSz3BK9"
   },
   "outputs": [],
   "source": [
    "# Standard library imports.\n",
    "import random as rand\n",
    "\n",
    "# Related third party imports.\n",
    "import numpy as np\n",
    "import pandas as pd\n",
    "import matplotlib.pyplot as plt\n",
    "import seaborn as sns\n",
    "from sklearn.model_selection import train_test_split \n",
    "import math\n",
    "\n",
    "# Local application/library specific imports.\n",
    "# import here if you write .py script "
   ]
  },
  {
   "cell_type": "markdown",
   "metadata": {
    "id": "EJZlrA-m3BK-"
   },
   "source": [
    "## Question 1: Linear Regression [70 pts]\n",
    "We will implement linear regression using direct solution and gradient descent. \n",
    "\n",
    "We will first attempt to predict output using a single attribute/feature. Then we will perform linear regression using multiple attributes/features. \n",
    "\n",
    "### Getting data\n",
    "In this assignment we will use the Boston housing dataset. \n",
    "\n",
    "The Boston housing data set was collected in the 1970s to study the relationship between house price and various factors such as the house size, crime rate, socio-economic status, etc.  Since the variables are easy to understand, the data set is ideal for learning basic concepts in machine learning.  The raw data and a complete description of the dataset can be found on the UCI website:\n",
    "\n",
    "https://archive.ics.uci.edu/ml/machine-learning-databases/housing/housing.names\n",
    "https://archive.ics.uci.edu/ml/machine-learning-databases/housing/housing.data\n",
    "\n",
    "or \n",
    "\n",
    "http://www.ccs.neu.edu/home/vip/teach/MLcourse/data/housing_desc.txt\n",
    "\n",
    "I have supplied a list `names` of the column headers.  You will have to set the options in the `read_csv` command to correctly delimit the data in the file and name the columns correctly."
   ]
  },
  {
   "cell_type": "code",
   "execution_count": 2,
   "metadata": {
    "colab": {
     "base_uri": "https://localhost:8080/",
     "height": 424
    },
    "id": "_qYkXul83BK-",
    "outputId": "5ac0043c-2ed7-4e99-8b59-b74345f5120f"
   },
   "outputs": [
    {
     "data": {
      "text/html": [
       "<div>\n",
       "<style scoped>\n",
       "    .dataframe tbody tr th:only-of-type {\n",
       "        vertical-align: middle;\n",
       "    }\n",
       "\n",
       "    .dataframe tbody tr th {\n",
       "        vertical-align: top;\n",
       "    }\n",
       "\n",
       "    .dataframe thead th {\n",
       "        text-align: right;\n",
       "    }\n",
       "</style>\n",
       "<table border=\"1\" class=\"dataframe\">\n",
       "  <thead>\n",
       "    <tr style=\"text-align: right;\">\n",
       "      <th></th>\n",
       "      <th>CRIM</th>\n",
       "      <th>ZN</th>\n",
       "      <th>INDUS</th>\n",
       "      <th>CHAS</th>\n",
       "      <th>NOX</th>\n",
       "      <th>RM</th>\n",
       "      <th>AGE</th>\n",
       "      <th>DIS</th>\n",
       "      <th>RAD</th>\n",
       "      <th>TAX</th>\n",
       "      <th>PTRATIO</th>\n",
       "      <th>B</th>\n",
       "      <th>LSTAT</th>\n",
       "      <th>PRICE</th>\n",
       "    </tr>\n",
       "  </thead>\n",
       "  <tbody>\n",
       "    <tr>\n",
       "      <th>0</th>\n",
       "      <td>0.00632</td>\n",
       "      <td>18.0</td>\n",
       "      <td>2.31</td>\n",
       "      <td>0</td>\n",
       "      <td>0.538</td>\n",
       "      <td>6.575</td>\n",
       "      <td>65.2</td>\n",
       "      <td>4.0900</td>\n",
       "      <td>1</td>\n",
       "      <td>296.0</td>\n",
       "      <td>15.3</td>\n",
       "      <td>396.90</td>\n",
       "      <td>4.98</td>\n",
       "      <td>24.0</td>\n",
       "    </tr>\n",
       "    <tr>\n",
       "      <th>1</th>\n",
       "      <td>0.02731</td>\n",
       "      <td>0.0</td>\n",
       "      <td>7.07</td>\n",
       "      <td>0</td>\n",
       "      <td>0.469</td>\n",
       "      <td>6.421</td>\n",
       "      <td>78.9</td>\n",
       "      <td>4.9671</td>\n",
       "      <td>2</td>\n",
       "      <td>242.0</td>\n",
       "      <td>17.8</td>\n",
       "      <td>396.90</td>\n",
       "      <td>9.14</td>\n",
       "      <td>21.6</td>\n",
       "    </tr>\n",
       "    <tr>\n",
       "      <th>2</th>\n",
       "      <td>0.02729</td>\n",
       "      <td>0.0</td>\n",
       "      <td>7.07</td>\n",
       "      <td>0</td>\n",
       "      <td>0.469</td>\n",
       "      <td>7.185</td>\n",
       "      <td>61.1</td>\n",
       "      <td>4.9671</td>\n",
       "      <td>2</td>\n",
       "      <td>242.0</td>\n",
       "      <td>17.8</td>\n",
       "      <td>392.83</td>\n",
       "      <td>4.03</td>\n",
       "      <td>34.7</td>\n",
       "    </tr>\n",
       "    <tr>\n",
       "      <th>3</th>\n",
       "      <td>0.03237</td>\n",
       "      <td>0.0</td>\n",
       "      <td>2.18</td>\n",
       "      <td>0</td>\n",
       "      <td>0.458</td>\n",
       "      <td>6.998</td>\n",
       "      <td>45.8</td>\n",
       "      <td>6.0622</td>\n",
       "      <td>3</td>\n",
       "      <td>222.0</td>\n",
       "      <td>18.7</td>\n",
       "      <td>394.63</td>\n",
       "      <td>2.94</td>\n",
       "      <td>33.4</td>\n",
       "    </tr>\n",
       "    <tr>\n",
       "      <th>4</th>\n",
       "      <td>0.06905</td>\n",
       "      <td>0.0</td>\n",
       "      <td>2.18</td>\n",
       "      <td>0</td>\n",
       "      <td>0.458</td>\n",
       "      <td>7.147</td>\n",
       "      <td>54.2</td>\n",
       "      <td>6.0622</td>\n",
       "      <td>3</td>\n",
       "      <td>222.0</td>\n",
       "      <td>18.7</td>\n",
       "      <td>396.90</td>\n",
       "      <td>5.33</td>\n",
       "      <td>36.2</td>\n",
       "    </tr>\n",
       "    <tr>\n",
       "      <th>...</th>\n",
       "      <td>...</td>\n",
       "      <td>...</td>\n",
       "      <td>...</td>\n",
       "      <td>...</td>\n",
       "      <td>...</td>\n",
       "      <td>...</td>\n",
       "      <td>...</td>\n",
       "      <td>...</td>\n",
       "      <td>...</td>\n",
       "      <td>...</td>\n",
       "      <td>...</td>\n",
       "      <td>...</td>\n",
       "      <td>...</td>\n",
       "      <td>...</td>\n",
       "    </tr>\n",
       "    <tr>\n",
       "      <th>501</th>\n",
       "      <td>0.06263</td>\n",
       "      <td>0.0</td>\n",
       "      <td>11.93</td>\n",
       "      <td>0</td>\n",
       "      <td>0.573</td>\n",
       "      <td>6.593</td>\n",
       "      <td>69.1</td>\n",
       "      <td>2.4786</td>\n",
       "      <td>1</td>\n",
       "      <td>273.0</td>\n",
       "      <td>21.0</td>\n",
       "      <td>391.99</td>\n",
       "      <td>9.67</td>\n",
       "      <td>22.4</td>\n",
       "    </tr>\n",
       "    <tr>\n",
       "      <th>502</th>\n",
       "      <td>0.04527</td>\n",
       "      <td>0.0</td>\n",
       "      <td>11.93</td>\n",
       "      <td>0</td>\n",
       "      <td>0.573</td>\n",
       "      <td>6.120</td>\n",
       "      <td>76.7</td>\n",
       "      <td>2.2875</td>\n",
       "      <td>1</td>\n",
       "      <td>273.0</td>\n",
       "      <td>21.0</td>\n",
       "      <td>396.90</td>\n",
       "      <td>9.08</td>\n",
       "      <td>20.6</td>\n",
       "    </tr>\n",
       "    <tr>\n",
       "      <th>503</th>\n",
       "      <td>0.06076</td>\n",
       "      <td>0.0</td>\n",
       "      <td>11.93</td>\n",
       "      <td>0</td>\n",
       "      <td>0.573</td>\n",
       "      <td>6.976</td>\n",
       "      <td>91.0</td>\n",
       "      <td>2.1675</td>\n",
       "      <td>1</td>\n",
       "      <td>273.0</td>\n",
       "      <td>21.0</td>\n",
       "      <td>396.90</td>\n",
       "      <td>5.64</td>\n",
       "      <td>23.9</td>\n",
       "    </tr>\n",
       "    <tr>\n",
       "      <th>504</th>\n",
       "      <td>0.10959</td>\n",
       "      <td>0.0</td>\n",
       "      <td>11.93</td>\n",
       "      <td>0</td>\n",
       "      <td>0.573</td>\n",
       "      <td>6.794</td>\n",
       "      <td>89.3</td>\n",
       "      <td>2.3889</td>\n",
       "      <td>1</td>\n",
       "      <td>273.0</td>\n",
       "      <td>21.0</td>\n",
       "      <td>393.45</td>\n",
       "      <td>6.48</td>\n",
       "      <td>22.0</td>\n",
       "    </tr>\n",
       "    <tr>\n",
       "      <th>505</th>\n",
       "      <td>0.04741</td>\n",
       "      <td>0.0</td>\n",
       "      <td>11.93</td>\n",
       "      <td>0</td>\n",
       "      <td>0.573</td>\n",
       "      <td>6.030</td>\n",
       "      <td>80.8</td>\n",
       "      <td>2.5050</td>\n",
       "      <td>1</td>\n",
       "      <td>273.0</td>\n",
       "      <td>21.0</td>\n",
       "      <td>396.90</td>\n",
       "      <td>7.88</td>\n",
       "      <td>11.9</td>\n",
       "    </tr>\n",
       "  </tbody>\n",
       "</table>\n",
       "<p>506 rows × 14 columns</p>\n",
       "</div>"
      ],
      "text/plain": [
       "        CRIM    ZN  INDUS  CHAS    NOX     RM   AGE     DIS  RAD    TAX  \\\n",
       "0    0.00632  18.0   2.31     0  0.538  6.575  65.2  4.0900    1  296.0   \n",
       "1    0.02731   0.0   7.07     0  0.469  6.421  78.9  4.9671    2  242.0   \n",
       "2    0.02729   0.0   7.07     0  0.469  7.185  61.1  4.9671    2  242.0   \n",
       "3    0.03237   0.0   2.18     0  0.458  6.998  45.8  6.0622    3  222.0   \n",
       "4    0.06905   0.0   2.18     0  0.458  7.147  54.2  6.0622    3  222.0   \n",
       "..       ...   ...    ...   ...    ...    ...   ...     ...  ...    ...   \n",
       "501  0.06263   0.0  11.93     0  0.573  6.593  69.1  2.4786    1  273.0   \n",
       "502  0.04527   0.0  11.93     0  0.573  6.120  76.7  2.2875    1  273.0   \n",
       "503  0.06076   0.0  11.93     0  0.573  6.976  91.0  2.1675    1  273.0   \n",
       "504  0.10959   0.0  11.93     0  0.573  6.794  89.3  2.3889    1  273.0   \n",
       "505  0.04741   0.0  11.93     0  0.573  6.030  80.8  2.5050    1  273.0   \n",
       "\n",
       "     PTRATIO       B  LSTAT  PRICE  \n",
       "0       15.3  396.90   4.98   24.0  \n",
       "1       17.8  396.90   9.14   21.6  \n",
       "2       17.8  392.83   4.03   34.7  \n",
       "3       18.7  394.63   2.94   33.4  \n",
       "4       18.7  396.90   5.33   36.2  \n",
       "..       ...     ...    ...    ...  \n",
       "501     21.0  391.99   9.67   22.4  \n",
       "502     21.0  396.90   9.08   20.6  \n",
       "503     21.0  396.90   5.64   23.9  \n",
       "504     21.0  393.45   6.48   22.0  \n",
       "505     21.0  396.90   7.88   11.9  \n",
       "\n",
       "[506 rows x 14 columns]"
      ]
     },
     "execution_count": 2,
     "metadata": {},
     "output_type": "execute_result"
    }
   ],
   "source": [
    "names = [\n",
    "    'CRIM', 'ZN', 'INDUS', 'CHAS', 'NOX', 'RM', \n",
    "    'AGE',  'DIS', 'RAD', 'TAX', 'PTRATIO', 'B', 'LSTAT', 'PRICE'\n",
    "]\n",
    "\n",
    "df = pd.read_csv('https://archive.ics.uci.edu/ml/machine-learning-databases/housing/housing.data',\n",
    "                 header=None,delim_whitespace=True,names=names,na_values='?')\n",
    "\n",
    "df"
   ]
  },
  {
   "cell_type": "markdown",
   "metadata": {
    "id": "eayVrVtUI3zo"
   },
   "source": [
    "### Basic Manipulations on the Data\n",
    "\n",
    "What is the shape of the data?  How many attributes are there?  How many samples?\n",
    "Print a statement of the form:\n",
    "\n",
    "    num samples=xxx, num attributes=yy"
   ]
  },
  {
   "cell_type": "code",
   "execution_count": 3,
   "metadata": {
    "colab": {
     "base_uri": "https://localhost:8080/"
    },
    "id": "zBTruMd154pT",
    "outputId": "c6cfca74-6983-443f-8647-75107cac5fb5"
   },
   "outputs": [
    {
     "name": "stdout",
     "output_type": "stream",
     "text": [
      "num of samples : 506\n",
      "num of attributes : 14\n"
     ]
    }
   ],
   "source": [
    "data_samples, data_attributes = df.shape\n",
    "print ('num of samples :', data_samples)\n",
    "print ('num of attributes :', data_attributes)"
   ]
  },
  {
   "cell_type": "markdown",
   "metadata": {
    "id": "8UULkMygXPpd"
   },
   "source": [
    "In order to properly test linear regression, we first need to find a set of correlated variables, so that we use one to predict the other. Consider the following scatterplots:"
   ]
  },
  {
   "cell_type": "code",
   "execution_count": 4,
   "metadata": {
    "colab": {
     "base_uri": "https://localhost:8080/",
     "height": 567
    },
    "id": "xuGIgMu93BK_",
    "outputId": "26a9dd69-ea24-4eca-8c45-c922870c8304"
   },
   "outputs": [
    {
     "data": {
      "text/plain": [
       "<seaborn.axisgrid.PairGrid at 0x2145493bdf0>"
      ]
     },
     "execution_count": 4,
     "metadata": {},
     "output_type": "execute_result"
    },
    {
     "data": {
      "image/png": "[encoded data removed]",
      "text/plain": [
       "<Figure size 540x540 with 12 Axes>"
      ]
     },
     "metadata": {
      "needs_background": "light"
     },
     "output_type": "display_data"
    }
   ],
   "source": [
    "# RM - average number of rooms per dwelling\n",
    "# LSTAT - % lower status of the population\n",
    "\n",
    "sns.pairplot(df[['RM','LSTAT','PRICE']])"
   ]
  },
  {
   "cell_type": "markdown",
   "metadata": {
    "id": "ywadWSHsYEZd"
   },
   "source": [
    "Create a response vector `y` with the values in the column `PRICE`.  The vector `y` should be a 1D `numpy.array` structure."
   ]
  },
  {
   "cell_type": "code",
   "execution_count": 5,
   "metadata": {
    "colab": {
     "base_uri": "https://localhost:8080/"
    },
    "id": "p2-zIA5vYOHA",
    "outputId": "689a296b-f9ea-4495-8040-a30f9f314cef"
   },
   "outputs": [
    {
     "name": "stdout",
     "output_type": "stream",
     "text": [
      "<class 'numpy.ndarray'>\n"
     ]
    },
    {
     "data": {
      "text/plain": [
       "array([24. , 21.6, 34.7, 33.4, 36.2, 28.7, 22.9, 27.1, 16.5, 18.9, 15. ,\n",
       "       18.9, 21.7, 20.4, 18.2, 19.9, 23.1, 17.5, 20.2, 18.2, 13.6, 19.6,\n",
       "       15.2, 14.5, 15.6, 13.9, 16.6, 14.8, 18.4, 21. , 12.7, 14.5, 13.2,\n",
       "       13.1, 13.5, 18.9, 20. , 21. , 24.7, 30.8, 34.9, 26.6, 25.3, 24.7,\n",
       "       21.2, 19.3, 20. , 16.6, 14.4, 19.4, 19.7, 20.5, 25. , 23.4, 18.9,\n",
       "       35.4, 24.7, 31.6, 23.3, 19.6, 18.7, 16. , 22.2, 25. , 33. , 23.5,\n",
       "       19.4, 22. , 17.4, 20.9, 24.2, 21.7, 22.8, 23.4, 24.1, 21.4, 20. ,\n",
       "       20.8, 21.2, 20.3, 28. , 23.9, 24.8, 22.9, 23.9, 26.6, 22.5, 22.2,\n",
       "       23.6, 28.7, 22.6, 22. , 22.9, 25. , 20.6, 28.4, 21.4, 38.7, 43.8,\n",
       "       33.2, 27.5, 26.5, 18.6, 19.3, 20.1, 19.5, 19.5, 20.4, 19.8, 19.4,\n",
       "       21.7, 22.8, 18.8, 18.7, 18.5, 18.3, 21.2, 19.2, 20.4, 19.3, 22. ,\n",
       "       20.3, 20.5, 17.3, 18.8, 21.4, 15.7, 16.2, 18. , 14.3, 19.2, 19.6,\n",
       "       23. , 18.4, 15.6, 18.1, 17.4, 17.1, 13.3, 17.8, 14. , 14.4, 13.4,\n",
       "       15.6, 11.8, 13.8, 15.6, 14.6, 17.8, 15.4, 21.5, 19.6, 15.3, 19.4,\n",
       "       17. , 15.6, 13.1, 41.3, 24.3, 23.3, 27. , 50. , 50. , 50. , 22.7,\n",
       "       25. , 50. , 23.8, 23.8, 22.3, 17.4, 19.1, 23.1, 23.6, 22.6, 29.4,\n",
       "       23.2, 24.6, 29.9, 37.2, 39.8, 36.2, 37.9, 32.5, 26.4, 29.6, 50. ,\n",
       "       32. , 29.8, 34.9, 37. , 30.5, 36.4, 31.1, 29.1, 50. , 33.3, 30.3,\n",
       "       34.6, 34.9, 32.9, 24.1, 42.3, 48.5, 50. , 22.6, 24.4, 22.5, 24.4,\n",
       "       20. , 21.7, 19.3, 22.4, 28.1, 23.7, 25. , 23.3, 28.7, 21.5, 23. ,\n",
       "       26.7, 21.7, 27.5, 30.1, 44.8, 50. , 37.6, 31.6, 46.7, 31.5, 24.3,\n",
       "       31.7, 41.7, 48.3, 29. , 24. , 25.1, 31.5, 23.7, 23.3, 22. , 20.1,\n",
       "       22.2, 23.7, 17.6, 18.5, 24.3, 20.5, 24.5, 26.2, 24.4, 24.8, 29.6,\n",
       "       42.8, 21.9, 20.9, 44. , 50. , 36. , 30.1, 33.8, 43.1, 48.8, 31. ,\n",
       "       36.5, 22.8, 30.7, 50. , 43.5, 20.7, 21.1, 25.2, 24.4, 35.2, 32.4,\n",
       "       32. , 33.2, 33.1, 29.1, 35.1, 45.4, 35.4, 46. , 50. , 32.2, 22. ,\n",
       "       20.1, 23.2, 22.3, 24.8, 28.5, 37.3, 27.9, 23.9, 21.7, 28.6, 27.1,\n",
       "       20.3, 22.5, 29. , 24.8, 22. , 26.4, 33.1, 36.1, 28.4, 33.4, 28.2,\n",
       "       22.8, 20.3, 16.1, 22.1, 19.4, 21.6, 23.8, 16.2, 17.8, 19.8, 23.1,\n",
       "       21. , 23.8, 23.1, 20.4, 18.5, 25. , 24.6, 23. , 22.2, 19.3, 22.6,\n",
       "       19.8, 17.1, 19.4, 22.2, 20.7, 21.1, 19.5, 18.5, 20.6, 19. , 18.7,\n",
       "       32.7, 16.5, 23.9, 31.2, 17.5, 17.2, 23.1, 24.5, 26.6, 22.9, 24.1,\n",
       "       18.6, 30.1, 18.2, 20.6, 17.8, 21.7, 22.7, 22.6, 25. , 19.9, 20.8,\n",
       "       16.8, 21.9, 27.5, 21.9, 23.1, 50. , 50. , 50. , 50. , 50. , 13.8,\n",
       "       13.8, 15. , 13.9, 13.3, 13.1, 10.2, 10.4, 10.9, 11.3, 12.3,  8.8,\n",
       "        7.2, 10.5,  7.4, 10.2, 11.5, 15.1, 23.2,  9.7, 13.8, 12.7, 13.1,\n",
       "       12.5,  8.5,  5. ,  6.3,  5.6,  7.2, 12.1,  8.3,  8.5,  5. , 11.9,\n",
       "       27.9, 17.2, 27.5, 15. , 17.2, 17.9, 16.3,  7. ,  7.2,  7.5, 10.4,\n",
       "        8.8,  8.4, 16.7, 14.2, 20.8, 13.4, 11.7,  8.3, 10.2, 10.9, 11. ,\n",
       "        9.5, 14.5, 14.1, 16.1, 14.3, 11.7, 13.4,  9.6,  8.7,  8.4, 12.8,\n",
       "       10.5, 17.1, 18.4, 15.4, 10.8, 11.8, 14.9, 12.6, 14.1, 13. , 13.4,\n",
       "       15.2, 16.1, 17.8, 14.9, 14.1, 12.7, 13.5, 14.9, 20. , 16.4, 17.7,\n",
       "       19.5, 20.2, 21.4, 19.9, 19. , 19.1, 19.1, 20.1, 19.9, 19.6, 23.2,\n",
       "       29.8, 13.8, 13.3, 16.7, 12. , 14.6, 21.4, 23. , 23.7, 25. , 21.8,\n",
       "       20.6, 21.2, 19.1, 20.6, 15.2,  7. ,  8.1, 13.6, 20.1, 21.8, 24.5,\n",
       "       23.1, 19.7, 18.3, 21.2, 17.5, 16.8, 22.4, 20.6, 23.9, 22. , 11.9])"
      ]
     },
     "execution_count": 5,
     "metadata": {},
     "output_type": "execute_result"
    }
   ],
   "source": [
    "# TODO \n",
    "y = np.array(df['PRICE'])\n",
    "print (type(y))\n",
    "y"
   ]
  },
  {
   "cell_type": "markdown",
   "metadata": {
    "id": "l9UHZEggYKd0"
   },
   "source": [
    "Use the response vector `y` to find the mean house price in thousands and the fraction of homes that are above $40k. (You may realize this is very cheap.  Prices have gone up a lot since the 1970s!).   Create print statements of the form:\n",
    "\n",
    "    The mean house price is xx.yy thousands of dollars.\n",
    "    Only x.y percent are above $40k."
   ]
  },
  {
   "cell_type": "code",
   "execution_count": 6,
   "metadata": {
    "colab": {
     "base_uri": "https://localhost:8080/"
    },
    "id": "265qk4h2YUrc",
    "outputId": "ede66ca1-ba99-4e7f-b779-e416caa294ea"
   },
   "outputs": [
    {
     "name": "stdout",
     "output_type": "stream",
     "text": [
      "The mean house price is 22.53 thousands of dollars.\n",
      "Only 6.1 percent are above $40k\n"
     ]
    }
   ],
   "source": [
    "# TODO \n",
    "print ('The mean house price is {00:.2f} thousands of dollars.'.format(y.mean()))\n",
    "\n",
    "greater_than_40k_list = [i for i in y if i > 40 ]\n",
    "\n",
    "print ('Only {0:.1f} percent are above $40k'.format( (len(greater_than_40k_list)/len(y))*100 ))"
   ]
  },
  {
   "cell_type": "markdown",
   "metadata": {
    "id": "_zeK-Qoc0TXu"
   },
   "source": [
    "### Visualizing the Data\n",
    "\n",
    "Python's `matplotlib` has very good routines for plotting and visualizing data that closely follows the format of MATLAB programs.  You can load the `matplotlib` package with the following commands."
   ]
  },
  {
   "cell_type": "code",
   "execution_count": 7,
   "metadata": {
    "id": "O5Hn63Id0TXu"
   },
   "outputs": [],
   "source": [
    "import matplotlib\n",
    "import matplotlib.pyplot as plt\n",
    "%matplotlib inline"
   ]
  },
  {
   "cell_type": "markdown",
   "metadata": {
    "id": "A8BLgPQQ0TXv"
   },
   "source": [
    "Similar to the `y` vector, create a predictor vector `x` containing the values in the `RM` column, which represents the average number of rooms in each region."
   ]
  },
  {
   "cell_type": "code",
   "execution_count": 8,
   "metadata": {
    "colab": {
     "base_uri": "https://localhost:8080/"
    },
    "id": "wvkiFOUP0TXv",
    "outputId": "7f517496-9b86-4827-ec2e-34ffea2df9ac"
   },
   "outputs": [
    {
     "data": {
      "text/plain": [
       "(506,)"
      ]
     },
     "execution_count": 8,
     "metadata": {},
     "output_type": "execute_result"
    }
   ],
   "source": [
    "# TODO\n",
    "x = np.array(df['RM'])\n",
    "x.shape"
   ]
  },
  {
   "cell_type": "markdown",
   "metadata": {
    "id": "nZfFM3_z0TXv"
   },
   "source": [
    "Create a scatter plot of the price vs. the `RM` attribute.  Make sure your plot has grid lines and label the axes with reasonable labels so that someone else can understand the plot."
   ]
  },
  {
   "cell_type": "code",
   "execution_count": 9,
   "metadata": {
    "colab": {
     "base_uri": "https://localhost:8080/",
     "height": 621
    },
    "id": "DXkjMSpY0TXv",
    "outputId": "618073dc-b508-4e3f-d427-f256dd31d6ae"
   },
   "outputs": [
    {
     "data": {
      "image/png": "[encoded data removed]",
      "text/plain": [
       "<Figure size 720x720 with 1 Axes>"
      ]
     },
     "metadata": {
      "needs_background": "light"
     },
     "output_type": "display_data"
    }
   ],
   "source": [
    "# TODO\n",
    "fig = plt.figure(figsize=(10,10))\n",
    "plt.scatter(x, y)\n",
    "plt.xlabel('Average number of rooms per dwelling -->')\n",
    "plt.ylabel('Price (in 1000$) -->')\n",
    "plt.title('Average number of rooms per dwelling vs Price - Scatterplot')\n",
    "plt.grid()\n",
    "plt.show()"
   ]
  },
  {
   "cell_type": "markdown",
   "metadata": {
    "id": "JJ6l2LRjvrEV"
   },
   "source": [
    "The number of rooms and price seem to have a linear trend, so let us try to predict price using number of rooms first. "
   ]
  },
  {
   "cell_type": "markdown",
   "metadata": {
    "id": "G-5e_O4x0TXv"
   },
   "source": [
    "### Question 1a. Derivation of a simple linear model for a single feature [10 pts]\n",
    "Suppose we have $N$ pairs of training samples $(x_1,y_1),\\ldots, (x_N,y_N)$, where $x_i \\in \\mathbb{R}$ and $y_i \\in \\mathbb{R}$. \n",
    "\n",
    "We want to perform a linear fit for this 1D data as \n",
    "$$y = wx+b,$$\n",
    "where $w\\in \\mathbb{R}$ and $b\\in \\mathbb{R}$. \n",
    "\n",
    "In the class, we looked at the derivation of optimal value of $w$ when $b=0$. The squared loss function can be written as  $$L(w) = \\sum_{i=1}^N(w x_i -y_i)^2,$$ and the optimal value of $w*$ that minimizes $L(w)$ can be written as $$w^* = (\\sum_{i=1}^N x_i^2)^{-1}(\\sum_{i=1}^N x_i y_i)$$. \n",
    "\n",
    "\n",
    "Now let us include $b$ in our model. Show that the optimal values of $w^*,b^*$ that minimize the loss function \n",
    "$$L(w,b) = \\sum_{i=1}^N(wx_i + b -y_i)^2$$ \n",
    "can be written as \n",
    "$$w^* = (\\sum_i (x_i - \\bar{x})^2)^{-1}(\\sum_i (x_i-\\bar{x})(y_i-\\bar{y}))$$\n",
    "and $$b^* = \\bar{y} - w^*\\bar{x},$$\n",
    "where $\\bar{x} = \\frac{1}{N}\\sum_i x_i, \\bar{y} = \\frac{1}{N}\\sum_i y_i$ are mean values of $x_i,y_i$, respectively. \n",
    "\n"
   ]
  },
  {
   "cell_type": "markdown",
   "metadata": {
    "id": "JXgc6X6nnCxf"
   },
   "source": [
    "**TODO: Your derivation goes here.**\n",
    "\n",
    "\n",
    "\n",
    "\n",
    "*   *Hint. Set the partial derivative of $L(w,b)$ with respect to $w$ and $b$ to zero.*\n",
    "*   Type using latex commands and explain your steps\n",
    "\n",
    "\n",
    "\n"
   ]
  },
  {
   "cell_type": "markdown",
   "metadata": {
    "id": "tew531pQ6fYy"
   },
   "source": [
    "The squared loss function for each datapoint of the entire dataset is computed as \n",
    "$$L(w,b) = \\sum_{i=1}^N(wx_i + b -y_i)^2$$\n",
    "\n",
    "b can can be calculated as partial derivative of Loss\n",
    "$$b = \\frac{\\partial L(w,b)}{\\partial b} = \\sum_{i=1}^N(wx_i + b -y_i)^2$$\n",
    "\n",
    "for optimal b, this derivative should be equal to 0\n",
    "$$b^* = \\frac{\\partial L(w,b)}{\\partial b} = \\sum_{i=1}^N(wx_i + b -y_i)^2 = 0$$\n",
    "\n",
    "taking partial derivative w.r.t b and using chain rule and product rule\n",
    "$$=> \\sum_{i=1}^N2(wx_i + b -y_i)(1) = 0$$\n",
    "\n",
    "multiplying the constant 2 and sumation\n",
    "$$=> 2\\sum_{i=1}^Nwx_i + 2\\sum_{i=1}^Nb - 2\\sum_{i=1}^Ny_i = 0$$\n",
    "\n",
    "dividing L.H.S and R.H.S by 2 and rearranging terms\n",
    "$$=> w\\sum_{i=1}^Nx_i + Nb = \\sum_{i=1}^Ny_i$$\n",
    "\n",
    "on solving for b. we get\n",
    "$$=> Nb = \\sum_{i=1}^Ny_i - w\\sum_{i=1}^Nx_i$$\n",
    "\n",
    "divide by N\n",
    "$$=> b = (\\sum_{i=1}^Ny_i)/N - w(\\sum_{i=1}^Nx_i)/N$$\n",
    "\n",
    "where \n",
    "$$(\\sum_{i=1}^Ny_i)/N) = Y_{mean}$$ \n",
    "\n",
    "or \n",
    "\n",
    "$$\\bar{y} = \\frac{1}{N}\\sum_i y_i$$\n",
    "\n",
    "and \n",
    "\n",
    "$$(\\sum_{i=1}^Nx_i)/N) = X_{mean}$$ \n",
    "\n",
    "or \n",
    "\n",
    "$$\\bar{x} = \\frac{1}{N}\\sum_i x_i$$\n",
    "\n",
    "Therefore,\n",
    "\n",
    "$$b^* = Y_{mean} - wX_{mean}$$\n",
    "\n",
    "Similarly, w can can be calculated as partial derivative of Loss\n",
    "$$w = \\frac{\\partial L(w,b)}{\\partial b} = \\sum_{i=1}^N(wx_i + b -y_i)^2$$\n",
    "\n",
    "for optimal w, this derivative should be equal to 0\n",
    "$$w^* = \\frac{\\partial L(w,b)}{\\partial b} = \\sum_{i=1}^N(wx_i + b -y_i)^2 = 0$$\n",
    "\n",
    "taking partial derivative w.r.t w and using chain rule and product rule\n",
    "$$=> \\sum_{i=1}^N2(wx_i + b -y_i)(x_i) = 0$$\n",
    "\n",
    "dividing L.H.S and R.H.S by 2\n",
    "$$=> \\sum_{i=1}^N(wx_i^2 + bx_i - y_ix_i) = 0$$\n",
    "\n",
    "substituting following b in above equation\n",
    "$$b = \\bar{y} - w\\bar{x}$$\n",
    "\n",
    "we get\n",
    "$$=> \\sum_{i=1}^N(wx_i^2 + (\\bar{y} - w\\bar{x})x_i - y_ix_i) = 0$$\n",
    "$$=> \\sum_{i=1}^N(wx_i^2 + \\bar{y}x_i - w\\bar{x}x_i - y_ix_i) = 0$$\n",
    "\n",
    "On re-arranging terms\n",
    "$$=> \\sum_{i=1}^N(w[x_i^2 - \\bar{x}x_i] + [\\bar{y}x_i  - y_ix_i]) = 0$$\n",
    "$$=> w\\sum_{i=1}^N([x_i^2 - \\bar{x}x_i]) = \\sum_{i=1}^N([y_ix_i - \\bar{y}x_i])$$\n",
    "\n",
    "On solving for w, we get\n",
    "$$=> w = \\frac{\\sum_{i=1}^N(y_ix_i - \\bar{y}x_i)}{\\sum_{i=1}^N(x_i^2 - \\bar{x}x_i)}$$\n",
    "\n",
    "or this can be written as \n",
    "$$w^* = \\frac{\\sum_{i=1}^N (x_i-\\bar{x})(y_i-\\bar{y})}{\\sum_{i=1}^N (x_i - \\bar{x})^2}$$\n"
   ]
  },
  {
   "cell_type": "markdown",
   "metadata": {
    "id": "v6wR2wx9nHRG"
   },
   "source": [
    "### Question 1b. Fitting a linear model using a single feature [10 pts] \n",
    "\n",
    "Next we will write a function to perform a linear fit. Use the formulae above to compute the parameters $w,b$ in the linear model $y = wx + b$."
   ]
  },
  {
   "cell_type": "code",
   "execution_count": 10,
   "metadata": {
    "id": "HA-PyCGR0TXv"
   },
   "outputs": [],
   "source": [
    "def fit_linear(x,y):\n",
    "    \"\"\"\n",
    "    Given vectors of data points (x,y), performs a fit for the linear model:\n",
    "       yhat = w*x + b, \n",
    "    The function returns w and b\n",
    "    \"\"\"\n",
    "    # TODO complete the code below\n",
    "    w = 0\n",
    "    b = 0\n",
    "\n",
    "    x_bar = sum(x)/len(x)\n",
    "    y_bar = sum(y)/len(y)\n",
    "    \n",
    "    denominator = 0\n",
    "    numerator = 0\n",
    "    \n",
    "    for x_val,y_val in zip(x,y):\n",
    "        diff_denom_x = (x_val - x_bar) ** 2\n",
    "        denominator += diff_denom_x\n",
    "        \n",
    "        diff_numer_x = (x_val - x_bar)\n",
    "        diff_numer_y = (y_val - y_bar)\n",
    "        numerator += (diff_numer_x * diff_numer_y)\n",
    "        \n",
    "    \n",
    "    w = numerator / denominator\n",
    "    \n",
    "    b = y_bar - (w*x_bar)\n",
    "\n",
    "    \n",
    "    return w, b"
   ]
  },
  {
   "cell_type": "markdown",
   "metadata": {
    "id": "GzO9Ehhg0TXw"
   },
   "source": [
    "Using the function `fit_linear` above, print the values `w`, `b` for the linear model of price vs. number of rooms."
   ]
  },
  {
   "cell_type": "code",
   "execution_count": 11,
   "metadata": {
    "colab": {
     "base_uri": "https://localhost:8080/"
    },
    "id": "LxoaYYOz0TXw",
    "outputId": "c739aebb-669b-4e61-ff8d-85dda1097ffc"
   },
   "outputs": [
    {
     "name": "stdout",
     "output_type": "stream",
     "text": [
      "w =   9.1, b = -34.7\n"
     ]
    }
   ],
   "source": [
    "# TODO\n",
    "w, b = fit_linear(x,y)\n",
    "print('w = {0:5.1f}, b = {1:5.1f}'.format(w,b))"
   ]
  },
  {
   "cell_type": "markdown",
   "metadata": {
    "id": "bAj_BRcerz97"
   },
   "source": [
    "Does the price increase or decrease with the number of rooms? \n",
    "\n",
    "* As the w is positive, the price should increase with the increase in number of rooms"
   ]
  },
  {
   "cell_type": "markdown",
   "metadata": {
    "id": "F71MzBOx0TXw"
   },
   "source": [
    "Replot the scatter plot above, but now with the regression line.  You can create the regression line by creating points `xp` from say min(x) to max(x), computing the linear predicted values `yp` on those points and plotting `yp` vs. `xp` on top of the above plot."
   ]
  },
  {
   "cell_type": "code",
   "execution_count": 12,
   "metadata": {
    "colab": {
     "base_uri": "https://localhost:8080/",
     "height": 621
    },
    "id": "rf9qJ_qY0TXw",
    "outputId": "68578d3d-6bdf-4ad7-dafb-3fd5eb58396f"
   },
   "outputs": [
    {
     "data": {
      "image/png": "[encoded data removed]",
      "text/plain": [
       "<Figure size 720x720 with 1 Axes>"
      ]
     },
     "metadata": {
      "needs_background": "light"
     },
     "output_type": "display_data"
    }
   ],
   "source": [
    "# TODO\n",
    "# Points on the regression line\n",
    "\n",
    "xp = [i for i in range(math.floor(min(x)), math.floor(max(x)) + 2)]\n",
    "yp = [w*i + b for i in xp]\n",
    "                       \n",
    "\n",
    "# Scatterplot\n",
    "fig = plt.figure(figsize=(10,10))\n",
    "plt.scatter(x, y,c='b')\n",
    "plt.xlabel('Average number of rooms per dwelling -->')\n",
    "plt.ylabel('Price (in 1000$) -->')\n",
    "plt.title('Average number of rooms per dwelling vs Price')\n",
    "plt.plot(xp,yp,'r')\n",
    "plt.legend(['regressed line','actual points'],loc='upper left')\n",
    "# Regression line\n",
    "plt.grid()\n",
    "plt.show()"
   ]
  },
  {
   "cell_type": "markdown",
   "metadata": {
    "id": "v_23tqcUdIfx"
   },
   "source": [
    "### Question 1c. Linear regression with multiple features/attributes [20 pts]\n",
    "One possible way to try to improve the fit is to use multiple variables at the same time."
   ]
  },
  {
   "cell_type": "markdown",
   "metadata": {
    "id": "bpsZK-mYWyFS"
   },
   "source": [
    "In this exercise, the target variable will be the `PRICE`.  We will use multiple attributes of the house to predict the price.  \n",
    "\n",
    "The names of all the data attributes are given in variable `names`. \n",
    "* We can get the list of names of the columns from `df.columns.tolist()`.  \n",
    "* Remove the last items from the list using indexing."
   ]
  },
  {
   "cell_type": "code",
   "execution_count": 13,
   "metadata": {
    "colab": {
     "base_uri": "https://localhost:8080/"
    },
    "id": "FYwmOGtxwuLA",
    "outputId": "0861c6c2-9d25-4571-a7e3-c6c003fe4621"
   },
   "outputs": [
    {
     "name": "stdout",
     "output_type": "stream",
     "text": [
      "['CRIM', 'ZN', 'INDUS', 'CHAS', 'NOX', 'RM', 'AGE', 'DIS', 'RAD', 'TAX', 'PTRATIO', 'B', 'LSTAT']\n"
     ]
    }
   ],
   "source": [
    "xnames = names[:-1]\n",
    "print(names[:-1])"
   ]
  },
  {
   "cell_type": "markdown",
   "metadata": {
    "id": "mLDuJkzNxUQu"
   },
   "source": [
    "Let us use `CRIM`, `RM`, and `LSTAT` to predict `PRICE`. \n",
    "\n",
    "Get the data matrix `X` with three features (`CRIM`, `RM`, `LSTAT`) and target vector `y` from the dataframe `df`.  \n",
    "\n",
    "Recall that to get the items from a dataframe, you can use syntax such as\n",
    "\n",
    "    s = np.array(df['RM'])  \n",
    "        \n",
    "which gets the data in the column `RM` and puts it into an array `s`.  You can also get multiple columns with syntax like\n",
    "\n",
    "    X12 = np.array(df['CRIM', 'ZN'])  \n"
   ]
  },
  {
   "cell_type": "code",
   "execution_count": 14,
   "metadata": {
    "colab": {
     "base_uri": "https://localhost:8080/"
    },
    "id": "Zp9Gk4O8FSty",
    "outputId": "c5f8c45e-fe99-4ba0-ac9e-5bd2da8b64c8"
   },
   "outputs": [
    {
     "name": "stdout",
     "output_type": "stream",
     "text": [
      "[[6.320e-03 6.575e+00 4.980e+00]\n",
      " [2.731e-02 6.421e+00 9.140e+00]\n",
      " [2.729e-02 7.185e+00 4.030e+00]\n",
      " [3.237e-02 6.998e+00 2.940e+00]\n",
      " [6.905e-02 7.147e+00 5.330e+00]] [24.  21.6 34.7 33.4 36.2]\n"
     ]
    }
   ],
   "source": [
    "# TODO\n",
    "X = np.array(df[['CRIM', 'RM', 'LSTAT']])\n",
    "Y = np.array(df['PRICE'])\n",
    "\n",
    "print (X[:5],Y[:5])"
   ]
  },
  {
   "cell_type": "markdown",
   "metadata": {
    "id": "jfHwrw4mzuS6"
   },
   "source": [
    "**Linear regression in scikit-learn**\n",
    "\n",
    "To fit the linear model, we could create a regression object and then fit the training data with regression object.\n",
    "\n",
    "```\n",
    "from sklearn import linear_model\n",
    "regr = linear_model.LinearRegression()\n",
    "regr.fit(X_train,y_train)\n",
    "```\n",
    "\n",
    "You can see the coefficients as\n",
    "```\n",
    "regr.intercept_\n",
    "regr.coef_\n",
    "```\n",
    "\n",
    "We can predict output for any data as \n",
    "\n",
    "    y_pred = regr.predict(X)\n",
    "\n",
    "**Instead of taking this approach, we will implement the regression function directly.**"
   ]
  },
  {
   "cell_type": "markdown",
   "metadata": {
    "id": "HC3dIR9Ns3Ny"
   },
   "source": [
    "**Linear regression by solving least-squares problem (direct solution)**\n",
    "\n",
    "Suppose we have $N$ pairs of training samples $(x_1,y_1),\\ldots, (x_N,y_N)$, where $\\mathbf{x}_i \\in \\mathbb{R}^d$ and $y_i \\in \\mathbb{R}$. \n",
    "\n",
    "We want to perform a linear fit over all the data features as \n",
    "$$y = \\mathbf{\\tilde w}^T\\mathbf{x}+b,$$\n",
    "where $\\mathbf{\\tilde w}\\in \\mathbb{R}^d$ and $b\\in \\mathbb{R}$. \n",
    "\n",
    "We saw in the class that we can write all the training data as a linear system \n",
    "$$ \\begin{bmatrix} y_1 \\\\ \\vdots \\\\ y_N \\end{bmatrix} = \\begin{bmatrix} - & \\mathbf{x}_1^T & - \\\\ \n",
    "& \\vdots & \\\\\n",
    "- & \\mathbf{x}_N^T& - \\end{bmatrix} \\mathbf{\\tilde w} + b, $$\n",
    "which can be written as \n",
    "$$ \\begin{bmatrix} y_1 \\\\ \\vdots \\\\ y_N \\end{bmatrix} = \\begin{bmatrix} 1 & \\mathbf{x}_1^T \\\\ \n",
    "\\vdots & \\vdots \\\\\n",
    "1 & \\mathbf{x}_N^T\\end{bmatrix} \\begin{bmatrix} b \\\\ \\mathbf{\\tilde w} \\end{bmatrix}.$$\n",
    "\n",
    "Let us write this system of linear equations in a compact form as \n",
    "\\begin{equation} \n",
    "\\mathbf{y} = \\mathbf{X}\\mathbf{w}, \n",
    "\\end{equation} \n",
    "where $\\mathbf{X}$ is an $N \\times d+1$ matrix whose first column is all ones and $\\mathbf{w}$ is a vector of length $d+1$ whose first term is the constant and rest of them are the coefficients of the linear model. \n",
    "\n",
    "The least-squares problem for the system above can be written as \n",
    "$$\\text{minimize}\\; \\frac{1}{2}\\|\\mathbf{y} - \\mathbf{X}\\mathbf{w}\\|_2^2$$\n",
    "for which the closed form solution can be written as \n",
    "$$\\mathbf{w} = (\\mathbf{X}^T\\mathbf{X})^{-1}\\mathbf{X}^T\\mathbf{y}.$$"
   ]
  },
  {
   "cell_type": "markdown",
   "metadata": {
    "id": "rid0H49X6fpi"
   },
   "source": [
    "**Append ones to the data matrix**\n",
    "\n",
    "To compute the coefficients $\\mathbf{\\tilde w}$, we first append a vector of ones to the data matrix.  This can be performed with the `ones` command and `hstack`.  Note that after we do this, `X` will have one more column than before. "
   ]
  },
  {
   "cell_type": "code",
   "execution_count": 15,
   "metadata": {
    "colab": {
     "base_uri": "https://localhost:8080/"
    },
    "id": "sod1xEK67AzN",
    "outputId": "e27b0faf-cedc-45f4-ecf7-3e9488982b01"
   },
   "outputs": [
    {
     "name": "stdout",
     "output_type": "stream",
     "text": [
      "[[6.320e-03 6.575e+00 4.980e+00]\n",
      " [2.731e-02 6.421e+00 9.140e+00]\n",
      " [2.729e-02 7.185e+00 4.030e+00]\n",
      " [3.237e-02 6.998e+00 2.940e+00]\n",
      " [6.905e-02 7.147e+00 5.330e+00]]\n",
      "[[6.320e-03 6.575e+00 4.980e+00 1.000e+00]\n",
      " [2.731e-02 6.421e+00 9.140e+00 1.000e+00]\n",
      " [2.729e-02 7.185e+00 4.030e+00 1.000e+00]\n",
      " [3.237e-02 6.998e+00 2.940e+00 1.000e+00]\n",
      " [6.905e-02 7.147e+00 5.330e+00 1.000e+00]]\n"
     ]
    }
   ],
   "source": [
    "# TODO  \n",
    "# X before appending column of 1s\n",
    "print (X[:5])\n",
    "ones = np.ones((X.shape[0], 1))\n",
    "X = np.hstack((X, ones))\n",
    "\n",
    "# # X after appending column of 1s\n",
    "print (X[:5])\n"
   ]
  },
  {
   "cell_type": "markdown",
   "metadata": {
    "id": "0Pche190FSty"
   },
   "source": [
    "**Split the Data into Training and Test**\n",
    "\n",
    "Split the data into training and test.  Use 30% for test and 70% for training.  You can do the splitting manually or use the `sklearn` package `train_test_split`.   Store the training data in `Xtr,ytr` and test data in `Xts,yts`.\n"
   ]
  },
  {
   "cell_type": "code",
   "execution_count": 16,
   "metadata": {
    "colab": {
     "base_uri": "https://localhost:8080/"
    },
    "id": "8t88nZxdFSty",
    "outputId": "e119c9c5-13bc-4a02-c79d-e8040b46e6ea"
   },
   "outputs": [
    {
     "name": "stdout",
     "output_type": "stream",
     "text": [
      "(354, 4) (354,)\n",
      "(152, 4) (152,)\n"
     ]
    }
   ],
   "source": [
    "from sklearn.model_selection import train_test_split\n",
    "\n",
    "# TODO \n",
    "(X_train, X_test, Y_train, Y_test) = train_test_split(X,Y,test_size=0.3)\n",
    "\n",
    "print (X_train.shape, Y_train.shape)\n",
    "print (X_test.shape, Y_test.shape)"
   ]
  },
  {
   "cell_type": "markdown",
   "metadata": {
    "id": "V27_oEaX75i-"
   },
   "source": [
    "Now let us compute the coefficients $\\mathbf{w}$ using `Xtr,ytr` via the direct matrix inverse: $$\\mathbf{w} = (\\mathbf{X}^T\\mathbf{X})^{-1}\\mathbf{X}^T\\mathbf{y}.$$\n",
    "\n",
    "You may use `np.linalg.inv` to compute the inverse. For a small problem like this, it makes no difference.  But, in general, using a matrix inverse like this is *much* slower computationally than using functions such as `lstsq` method or the `LinearRegression` class.  In real world, you will never solve a least squares problem like this. "
   ]
  },
  {
   "cell_type": "code",
   "execution_count": 17,
   "metadata": {
    "colab": {
     "base_uri": "https://localhost:8080/"
    },
    "id": "uwBWVVY_8gUN",
    "outputId": "a984d819-fd92-4089-f172-907a29de4046"
   },
   "outputs": [
    {
     "data": {
      "text/plain": [
       "array([-0.10294089,  5.21695492, -0.57848582, -2.56225101])"
      ]
     },
     "execution_count": 17,
     "metadata": {},
     "output_type": "execute_result"
    }
   ],
   "source": [
    "# TODO\n",
    "# compute w using the direct solution equation \n",
    "w = (np.linalg.inv(X.T @ X) @ X.T) @ Y\n",
    "w"
   ]
  },
  {
   "cell_type": "markdown",
   "metadata": {
    "id": "QCWqasJL9I6h"
   },
   "source": [
    "Compute the predicted values `yhat_tr` on the training data and print the average square loss value on the training data."
   ]
  },
  {
   "cell_type": "code",
   "execution_count": 18,
   "metadata": {
    "colab": {
     "base_uri": "https://localhost:8080/"
    },
    "id": "MXtUFymP9M0P",
    "outputId": "bd452475-e3e8-48c9-8929-db95a2634544"
   },
   "outputs": [
    {
     "name": "stdout",
     "output_type": "stream",
     "text": [
      "avg sq loss with computed weights=  32.218815223235175\n",
      "avg sq loss with sklearn implementation function=  31.929532425003462\n"
     ]
    }
   ],
   "source": [
    "# TODO \n",
    "# your code here \n",
    "yhat_tr = [w.T @ x for x in X_train]\n",
    "yhat_tr\n",
    "\n",
    "tot_loss = 0\n",
    "for y_true, y_pred in zip(Y_train,yhat_tr):\n",
    "    loss = (y_pred - y_true ) **2\n",
    "    tot_loss += loss\n",
    "\n",
    "print ('avg sq loss with computed weights= ', tot_loss / len(Y_train))\n",
    "\n",
    "# Getting the loss using in-built functions for comparison\n",
    "from sklearn import linear_model\n",
    "regr = linear_model.LinearRegression()\n",
    "regr.fit(X_train,Y_train)\n",
    "\n",
    "y_pred = regr.predict(X_train)\n",
    "print ('avg sq loss with sklearn implementation function= ', (np.sum(np.square(y_pred - Y_train)))/len(Y_train))"
   ]
  },
  {
   "cell_type": "markdown",
   "metadata": {
    "id": "IGcEO0ggFStz"
   },
   "source": [
    "Create a scatter plot of the actual vs. predicted values of `y` on the training data."
   ]
  },
  {
   "cell_type": "code",
   "execution_count": 19,
   "metadata": {
    "colab": {
     "base_uri": "https://localhost:8080/",
     "height": 621
    },
    "id": "-r__jPyk-Em-",
    "outputId": "b1ae1fad-781e-40d9-a19e-217fae56833c"
   },
   "outputs": [
    {
     "data": {
      "image/png": "[encoded data removed]",
      "text/plain": [
       "<Figure size 720x720 with 1 Axes>"
      ]
     },
     "metadata": {
      "needs_background": "light"
     },
     "output_type": "display_data"
    }
   ],
   "source": [
    "# TODO \n",
    "\n",
    "y_tr = [i for i in Y_train]\n",
    "yh_tr = [i for i in yhat_tr]\n",
    "\n",
    "x_line = np.linspace(-5,50,100)\n",
    "y_line = x_line\n",
    "\n",
    "fig = plt.figure(figsize = (10,10))\n",
    "red = plt.scatter(yh_tr, y_tr, c='b')\n",
    "plt.plot(x_line,y_line,'r')\n",
    "plt.xlabel('True Value -> ')\n",
    "plt.ylabel('Predicted Value ->')\n",
    "plt.legend(['x=y line','actual vs predicted value'])\n",
    "plt.title('actual vs predicted values')\n",
    "plt.grid()\n",
    "plt.show()"
   ]
  },
  {
   "cell_type": "markdown",
   "metadata": {
    "id": "1HCzNYlm-UxT"
   },
   "source": [
    "Compute the predicted values `yhat_ts` on the test data and print the average square loss value on the test data."
   ]
  },
  {
   "cell_type": "code",
   "execution_count": 20,
   "metadata": {
    "colab": {
     "base_uri": "https://localhost:8080/"
    },
    "id": "mUKr8Dx2-UxU",
    "outputId": "dd59af80-6b7a-4cb1-8b64-7b089ae517bf"
   },
   "outputs": [
    {
     "name": "stdout",
     "output_type": "stream",
     "text": [
      "avg sq loss on training set with computed weights=  24.489656555179312\n",
      "avg sq loss on training set with sklearn implementation=  23.063119124309083\n"
     ]
    }
   ],
   "source": [
    "# TODO \n",
    "yhat_ts = [w.T @ x for x in X_test]\n",
    "yhat_ts\n",
    "\n",
    "tot_loss = 0\n",
    "for y_true, y_pred in zip(Y_test,yhat_ts):\n",
    "    loss = (y_pred - y_true ) **2\n",
    "    tot_loss += loss\n",
    "\n",
    "print ('avg sq loss on training set with computed weights= ', tot_loss / len(Y_test)) \n",
    "\n",
    "# Getting the loss using in-built functions for comparison\n",
    "from sklearn import linear_model\n",
    "regr = linear_model.LinearRegression()\n",
    "regr.fit(X_test,Y_test)\n",
    "\n",
    "y_pred = regr.predict(X_test)\n",
    "print ('avg sq loss on training set with sklearn implementation= ', (np.sum(np.square(y_pred - Y_test)))/len(Y_test))"
   ]
  },
  {
   "cell_type": "markdown",
   "metadata": {
    "id": "W7i50wvq-CWO"
   },
   "source": [
    "Create a scatter plot of the actual vs. predicted values of `y` on the test data."
   ]
  },
  {
   "cell_type": "code",
   "execution_count": 21,
   "metadata": {
    "colab": {
     "base_uri": "https://localhost:8080/",
     "height": 513
    },
    "id": "q8dnwG94FStz",
    "outputId": "5c8494bb-cb9c-404e-c80d-bee6662edd5c"
   },
   "outputs": [
    {
     "data": {
      "image/png": "[encoded data removed]",
      "text/plain": [
       "<Figure size 720x576 with 1 Axes>"
      ]
     },
     "metadata": {
      "needs_background": "light"
     },
     "output_type": "display_data"
    }
   ],
   "source": [
    "# TODO \n",
    "\n",
    "x_cor = [i for i in range(len(Y_test))]\n",
    "y_ts = [i for i in Y_test]\n",
    "yh_ts = [i for i in yhat_ts]\n",
    "\n",
    "\n",
    "x_line = np.linspace(0,55,100)\n",
    "y_line = x_line\n",
    "\n",
    "fig = plt.figure(figsize = (10,8))\n",
    "red = plt.scatter(y_ts, yh_ts, c='b')\n",
    "plt.plot(x_line,y_line,'r')\n",
    "plt.xlabel('True Value -> ')\n",
    "plt.ylabel('Predicted Value ->')\n",
    "plt.legend(['x=y line','actual vs predicted value'])\n",
    "plt.title('actual vs predicted values')\n",
    "plt.grid()\n",
    "plt.show()"
   ]
  },
  {
   "cell_type": "markdown",
   "metadata": {
    "id": "_N6Djzqo3BLL"
   },
   "source": [
    "### Question 1d: Gradient descent for linear regression [20 pts]\n",
    "Finally, we will implement the gradient descent version of linear regression.\n",
    "\n",
    "In particular, the function implemented should follow the following format:\n",
    "```python\n",
    "def linear_regression_gd(X,y,learning_rate = 0.00001,max_iter=10000,tol=pow(10,-5)):\n",
    "```\n",
    "Where `X` is the same data matrix used above (with ones column appended), `y` is the variable to be predicted, `learning_rate` is the learning rate used ($\\alpha$ in the slides), `max_iter` defines the maximum number of iterations that gradient descent is allowed to run, and `tol` is defining the tolerance for convergence (which we'll discuss next).\n",
    "\n",
    "The return values for the above function should be (at the least) 1) `w` which are the regression parameters, 2) `all_cost` which is an array where each position contains the value of the objective function $L(\\mathbf{w})$ for a given iteration, 3) `iters` which counts how many iterations did the algorithm need in order to converge to a solution.\n",
    "\n",
    "Gradient descent is an iterative algorithm; it keeps updating the variables until a convergence criterion is met. In our case, our convergence criterion is whichever of the following two criteria happens first:\n",
    "\n",
    "- The maximum number of iterations is met\n",
    "- The relative improvement in the cost is not greater than the tolerance we have specified. For this criterion, you may use the following snippet into your code:\n",
    "```python\n",
    "np.absolute(all_cost[it] - all_cost[it-1])/all_cost[it-1] <= tol\n",
    "```\n",
    "\n",
    "Gradient can be computed as $$\\nabla_\\mathbf{w}L = \\mathbf{X}^T(\\mathbf{X}\\mathbf{w} - \\mathbf{y}).$$\n",
    "\n",
    "Estimate will be updated as $\\mathbf{w} \\gets \\mathbf{w} - \\alpha \\nabla_\\mathbf{w}L$ at every iteration. \n",
    "\n",
    "**Note that the $\\mathbf{w}$ in this derivation includes the constant term and $\\mathbf{X}$ is a matrix that has ones column appended to it.**"
   ]
  },
  {
   "cell_type": "code",
   "execution_count": 22,
   "metadata": {
    "id": "rI3bPa4CY7XW"
   },
   "outputs": [],
   "source": [
    "# TODO \n",
    "# Implement gradient descent for linear regression \n",
    "\n",
    "def compute_cost(X,w,y):\n",
    "    L = (np.linalg.norm(y-(X@w),2))**2\n",
    "    return L\n",
    "\n",
    "def compute_gradient(X,w,y):\n",
    "    L = np.matmul(X.T,(np.matmul(X, w) - y))\n",
    "    return L\n",
    "\n",
    "def linear_regression_gd(X,y,learning_rate = 0.00001,max_iter=10000,tol=pow(10,-5)):\n",
    "    \n",
    "    iters = 0\n",
    "    all_cost = []\n",
    "    w = np.zeros(X[0].shape[0])\n",
    "    \n",
    "    for epoch in range(max_iter):\n",
    "        \n",
    "        grad = compute_gradient(X,w,y)\n",
    "        cost = compute_cost(X,w,y)\n",
    "        all_cost.append(cost)\n",
    "        w = w - learning_rate*grad\n",
    "        \n",
    "        iters += 1\n",
    "    \n",
    "        check_err = np.absolute((all_cost[epoch] - all_cost[epoch-1])/all_cost[epoch-1])\n",
    "        if epoch > 1 and check_err <= tol:\n",
    "            print ('break by tolerence', check_err)\n",
    "            print ('iter', iters)\n",
    "            break\n",
    "    \n",
    "    \n",
    "    return w, all_cost, iters"
   ]
  },
  {
   "cell_type": "markdown",
   "metadata": {
    "id": "dN2e6tsuY8Nq"
   },
   "source": [
    "### Question 1e: Convergence plots [10 pts]\n",
    "After implementing gradient descent for linear regression, we would like to test that indeed our algorithm converges to a solution. In order see this, we are going to look at the value of the objective/loss function $L(\\mathbf{w})$ as a function of the number of iterations, and ideally, what we would like to see is $L(\\mathbf{w})$ drops as we run more iterations, and eventually it stabilizes. \n",
    "\n",
    "The learning rate plays a big role in how fast our algorithm converges: a larger learning rate means that the algorithm is making faster strides to the solution, whereas a smaller learning rate implies slower steps. In this question we are going to test two different values for the learning rate:\n",
    "- 0.00001\n",
    "- 0.000001\n",
    "\n",
    "while keeping the default values for the max number of iterations and the tolerance.\n",
    "\n",
    "\n",
    "- Plot the two convergence plots (cost vs. iterations) [5]\n",
    "\n",
    "- What do you observe? [5]\n",
    "\n",
    "<b>Important</b>: In reality, when we are running gradient descent, we should be checking convergence based on the <i>validation</i> error (i.e., we would have to split our training set into e.g., 70/30 training'/validation subsets, use the new training set to calculate the gradient descent updates and evaluate the error both on the training set and the validation set, and as soon as the validation loss stops improving, we stop training. <b>In order to keep things simple, in this assignment we are only looking at the training loss</b>, but as long as you have a function \n",
    "```python\n",
    "def compute_cost(X,w,y):\n",
    "```\n",
    "that calculates the loss for a given X, y, and set of parameters you have, you can always compute it on the validation portion of X and y (that are <b>not</b> used for the updates).  "
   ]
  },
  {
   "cell_type": "code",
   "execution_count": 23,
   "metadata": {
    "colab": {
     "base_uri": "https://localhost:8080/",
     "height": 656
    },
    "id": "1vbaLoa7ZB_8",
    "outputId": "5c0d3455-482b-4144-a5b2-4076e7296a58"
   },
   "outputs": [
    {
     "name": "stdout",
     "output_type": "stream",
     "text": [
      "break by tolerence 9.861803124768551e-07\n",
      "iter 131\n"
     ]
    },
    {
     "data": {
      "image/png": "[encoded data removed]",
      "text/plain": [
       "<Figure size 720x720 with 1 Axes>"
      ]
     },
     "metadata": {
      "needs_background": "light"
     },
     "output_type": "display_data"
    }
   ],
   "source": [
    "# TODO \n",
    "# test gradient descent with step size 0.00001\n",
    "# test gradient descent with step size 0.000001\n",
    "fig = plt.figure(0, figsize=(10,10))\n",
    "\n",
    "(w1, all_cost1,iters1) = linear_regression_gd(X,Y,learning_rate = 0.00001,max_iter = 1000, tol=pow(10,-6))  \n",
    "green, = plt.plot([i for i in range(iters1)], [math.log(i) for i in all_cost1[0:iters1]], 'green')\n",
    "  \n",
    "\n",
    "(w2, all_cost2,iters2) = linear_regression_gd(X,Y,learning_rate = 0.000001,max_iter = 1000, tol=pow(10,-6))  \n",
    "red, = plt.plot([i for i in range(iters2)],[math.log(i) for i in all_cost2[0:iters2]],'red')\n",
    "\n",
    "plt.legend([green, red], ['Step1 - 10^-5', 'Step2 - 10^-6'])\n",
    "plt.xlabel('number of Iterations')\n",
    "plt.ylabel('log of Training loss')\n",
    "plt.title('Loss function convergence. Log(Trainin loss) vs num_iters')\n",
    "plt.grid()\n",
    "plt.show()"
   ]
  },
  {
   "cell_type": "markdown",
   "metadata": {
    "id": "KRU51zCtZAtP"
   },
   "source": [
    "Observations: \n",
    "\n",
    "1. The Gradient Descent(GD) with lower step size, red in this case, takes more iterations to come to same result than GD with larger step size, Green in this case.\n",
    "2. Red has still not converged and is limited by number of iterations whilst green is limited by our tolerance value."
   ]
  },
  {
   "cell_type": "markdown",
   "metadata": {
    "id": "_7FVGGI_aqre"
   },
   "source": [
    "### Question 2. Logistic regression [30 pts]\n",
    "\n",
    "In this question, we will plot the logistic function and perform logistic regression. We will use the breast cancer data set.  This data set is described here:\n",
    "\n",
    "https://archive.ics.uci.edu/ml/machine-learning-databases/breast-cancer-wisconsin\n",
    "\n",
    "Each sample is a collection of features that were manually recorded by a physician upon inspecting a sample of cells from fine needle aspiration.  The goal is to detect if the cells are benign or malignant.  \n",
    "\n",
    "We could use the `sklearn` built-in `LogisticRegression` class to find the weights for the logistic regression problem.  The `fit` routine in that class has an *optimizer* to select the weights to best match the data.  To understand how that optimizer works, in this problem, we will build a very simple gradient descent optimizer from scratch.  "
   ]
  },
  {
   "cell_type": "markdown",
   "metadata": {
    "id": "EHaz8CZBfUVr"
   },
   "source": [
    "### Loading and visualizing the Breast Cancer Data\n",
    "\n",
    "We load the data from the UCI site and remove the missing values."
   ]
  },
  {
   "cell_type": "code",
   "execution_count": 24,
   "metadata": {
    "colab": {
     "base_uri": "https://localhost:8080/",
     "height": 238
    },
    "id": "4RdmLqolffmw",
    "outputId": "ef611fdf-e6dd-47a1-f88a-834492fe8697"
   },
   "outputs": [
    {
     "data": {
      "text/html": [
       "<div>\n",
       "<style scoped>\n",
       "    .dataframe tbody tr th:only-of-type {\n",
       "        vertical-align: middle;\n",
       "    }\n",
       "\n",
       "    .dataframe tbody tr th {\n",
       "        vertical-align: top;\n",
       "    }\n",
       "\n",
       "    .dataframe thead th {\n",
       "        text-align: right;\n",
       "    }\n",
       "</style>\n",
       "<table border=\"1\" class=\"dataframe\">\n",
       "  <thead>\n",
       "    <tr style=\"text-align: right;\">\n",
       "      <th></th>\n",
       "      <th>id</th>\n",
       "      <th>thick</th>\n",
       "      <th>size_unif</th>\n",
       "      <th>shape_unif</th>\n",
       "      <th>marg</th>\n",
       "      <th>cell_size</th>\n",
       "      <th>bare</th>\n",
       "      <th>chrom</th>\n",
       "      <th>normal</th>\n",
       "      <th>mit</th>\n",
       "      <th>class</th>\n",
       "    </tr>\n",
       "  </thead>\n",
       "  <tbody>\n",
       "    <tr>\n",
       "      <th>0</th>\n",
       "      <td>1000025</td>\n",
       "      <td>5</td>\n",
       "      <td>1</td>\n",
       "      <td>1</td>\n",
       "      <td>1</td>\n",
       "      <td>2</td>\n",
       "      <td>1.0</td>\n",
       "      <td>3</td>\n",
       "      <td>1</td>\n",
       "      <td>1</td>\n",
       "      <td>2</td>\n",
       "    </tr>\n",
       "    <tr>\n",
       "      <th>1</th>\n",
       "      <td>1002945</td>\n",
       "      <td>5</td>\n",
       "      <td>4</td>\n",
       "      <td>4</td>\n",
       "      <td>5</td>\n",
       "      <td>7</td>\n",
       "      <td>10.0</td>\n",
       "      <td>3</td>\n",
       "      <td>2</td>\n",
       "      <td>1</td>\n",
       "      <td>2</td>\n",
       "    </tr>\n",
       "    <tr>\n",
       "      <th>2</th>\n",
       "      <td>1015425</td>\n",
       "      <td>3</td>\n",
       "      <td>1</td>\n",
       "      <td>1</td>\n",
       "      <td>1</td>\n",
       "      <td>2</td>\n",
       "      <td>2.0</td>\n",
       "      <td>3</td>\n",
       "      <td>1</td>\n",
       "      <td>1</td>\n",
       "      <td>2</td>\n",
       "    </tr>\n",
       "    <tr>\n",
       "      <th>3</th>\n",
       "      <td>1016277</td>\n",
       "      <td>6</td>\n",
       "      <td>8</td>\n",
       "      <td>8</td>\n",
       "      <td>1</td>\n",
       "      <td>3</td>\n",
       "      <td>4.0</td>\n",
       "      <td>3</td>\n",
       "      <td>7</td>\n",
       "      <td>1</td>\n",
       "      <td>2</td>\n",
       "    </tr>\n",
       "    <tr>\n",
       "      <th>4</th>\n",
       "      <td>1017023</td>\n",
       "      <td>4</td>\n",
       "      <td>1</td>\n",
       "      <td>1</td>\n",
       "      <td>3</td>\n",
       "      <td>2</td>\n",
       "      <td>1.0</td>\n",
       "      <td>3</td>\n",
       "      <td>1</td>\n",
       "      <td>1</td>\n",
       "      <td>2</td>\n",
       "    </tr>\n",
       "    <tr>\n",
       "      <th>5</th>\n",
       "      <td>1017122</td>\n",
       "      <td>8</td>\n",
       "      <td>10</td>\n",
       "      <td>10</td>\n",
       "      <td>8</td>\n",
       "      <td>7</td>\n",
       "      <td>10.0</td>\n",
       "      <td>9</td>\n",
       "      <td>7</td>\n",
       "      <td>1</td>\n",
       "      <td>4</td>\n",
       "    </tr>\n",
       "  </tbody>\n",
       "</table>\n",
       "</div>"
      ],
      "text/plain": [
       "        id  thick  size_unif  shape_unif  marg  cell_size  bare  chrom  \\\n",
       "0  1000025      5          1           1     1          2   1.0      3   \n",
       "1  1002945      5          4           4     5          7  10.0      3   \n",
       "2  1015425      3          1           1     1          2   2.0      3   \n",
       "3  1016277      6          8           8     1          3   4.0      3   \n",
       "4  1017023      4          1           1     3          2   1.0      3   \n",
       "5  1017122      8         10          10     8          7  10.0      9   \n",
       "\n",
       "   normal  mit  class  \n",
       "0       1    1      2  \n",
       "1       2    1      2  \n",
       "2       1    1      2  \n",
       "3       7    1      2  \n",
       "4       1    1      2  \n",
       "5       7    1      4  "
      ]
     },
     "execution_count": 24,
     "metadata": {},
     "output_type": "execute_result"
    }
   ],
   "source": [
    "names = ['id','thick','size_unif','shape_unif','marg','cell_size','bare',\n",
    "         'chrom','normal','mit','class']\n",
    "df = pd.read_csv('https://archive.ics.uci.edu/ml/machine-learning-databases/' +\n",
    "                 'breast-cancer-wisconsin/breast-cancer-wisconsin.data',\n",
    "                names=names,na_values='?',header=None)\n",
    "df = df.dropna()\n",
    "df.head(6)"
   ]
  },
  {
   "cell_type": "markdown",
   "metadata": {
    "id": "3EEPMsFmfpqS"
   },
   "source": [
    "After loading the data, we can create a scatter plot of the data labeling the class values with different colors.  We will pick two of the features.  "
   ]
  },
  {
   "cell_type": "code",
   "execution_count": 25,
   "metadata": {
    "colab": {
     "base_uri": "https://localhost:8080/",
     "height": 307
    },
    "id": "rXSf9mKtfwbF",
    "outputId": "35d91287-f6da-4aa1-eee8-434078081d07"
   },
   "outputs": [
    {
     "data": {
      "text/plain": [
       "<matplotlib.legend.Legend at 0x214578452d0>"
      ]
     },
     "execution_count": 25,
     "metadata": {},
     "output_type": "execute_result"
    },
    {
     "data": {
      "image/png": "[encoded data removed]",
      "text/plain": [
       "<Figure size 432x288 with 1 Axes>"
      ]
     },
     "metadata": {
      "needs_background": "light"
     },
     "output_type": "display_data"
    }
   ],
   "source": [
    "# Get the response.  Convert to a zero-one indicator \n",
    "yraw = np.array(df['class'])\n",
    "BEN_VAL = 2   # value in the 'class' label for benign samples\n",
    "MAL_VAL = 4   # value in the 'class' label for malignant samples\n",
    "y = (yraw == MAL_VAL).astype(int)\n",
    "Iben = (y==0)\n",
    "Imal = (y==1)\n",
    "\n",
    "# Get two predictors\n",
    "xnames =['size_unif','marg'] \n",
    "X = np.array(df[xnames])\n",
    "\n",
    "# Create the scatter plot\n",
    "plt.plot(X[Imal,0],X[Imal,1],'r.')\n",
    "plt.plot(X[Iben,0],X[Iben,1],'g.')\n",
    "plt.xlabel(xnames[0], fontsize=16)\n",
    "plt.ylabel(xnames[1], fontsize=16)\n",
    "plt.ylim(0,14)\n",
    "plt.legend(['malign','benign'],loc='upper right')"
   ]
  },
  {
   "cell_type": "markdown",
   "metadata": {
    "id": "UY5fLe90gCnU"
   },
   "source": [
    "The above plot is not informative, since many of the points are on top of one another.  Thus, we cannot see the relative frequency of points.  "
   ]
  },
  {
   "cell_type": "markdown",
   "metadata": {
    "id": "1RaZ9ToBgD6-"
   },
   "source": [
    "### Logistic function\n",
    "\n",
    "We will build a binary classifier using *logistic regression*.  In logistic regression, we do not just output an estimate of the class label.  Instead, we ouput a *probability*, an estimate of how likely the sample is one class or the other.  That is our output is a number from 0 to 1 representing the likelihood:\n",
    "$$\n",
    "    P(y = 1|x)\n",
    "$$\n",
    "which is our estimate of the probability that the sample is one class (in this case, a malignant sample) based on the features in `x`.  This is sometimes called a *soft classifier*.  \n",
    "\n",
    "In logistic regression, we assume that likelihood is of the form\n",
    "$$\n",
    "    P(y=1|x) = \\sigma(z),  \\quad z = w(1)x(1) + \\cdots + w(d)x(d) + b = \\mathbf{w}^T\\mathbf{x}+b,  \n",
    "$$\n",
    "where $w(1),\\ldots,w(d),b$ are the classifier weights and $\\sigma(z)$ is the so-called *logistic* function:\n",
    "$$\n",
    "    \\sigma(z) = \\frac{1}{1+e^{-z}}.\n",
    "$$\n",
    "\n",
    "To understand the logistic function, suppose $x$ is a scalar and samples $y$ are drawn with $P(y=1|x) = f(w x+b)$ for some $w$ and $b$.  We plot these samples for different $w,b$."
   ]
  },
  {
   "cell_type": "code",
   "execution_count": 26,
   "metadata": {
    "colab": {
     "base_uri": "https://localhost:8080/",
     "height": 438
    },
    "id": "shwwuK9Ogv7D",
    "outputId": "8bca54db-c437-40a5-be53-301170308c57"
   },
   "outputs": [
    {
     "name": "stderr",
     "output_type": "stream",
     "text": [
      "C:\\Users\\yg375\\AppData\\Local\\Temp\\ipykernel_22840\\4188138851.py:21: UserWarning: You passed a edgecolor/edgecolors ('none') for an unfilled marker ('+').  Matplotlib is ignoring the edgecolor in favor of the facecolor.  This behavior may change in the future.\n",
      "  plt.scatter(x,yp,c=yp,edgecolors='none',marker='+')\n"
     ]
    },
    {
     "data": {
      "image/png": "[encoded data removed]",
      "text/plain": [
       "<Figure size 432x288 with 12 Axes>"
      ]
     },
     "metadata": {
      "needs_background": "light"
     },
     "output_type": "display_data"
    }
   ],
   "source": [
    "N = 100\n",
    "xm = 20\n",
    "ws = np.array([0.5,1,2,10])\n",
    "bs = np.array([0, 5, -5])\n",
    "wplot = ws.size\n",
    "bplot = bs.size\n",
    "iplot = 0\n",
    "for b in bs: \n",
    "  for w in ws:\n",
    "    iplot += 1\n",
    "    x  = np.random.uniform(-xm,xm,N)\n",
    "  \n",
    "    py = 1/(1+np.exp(-w*x-b))\n",
    " \n",
    "    yp = np.array(np.random.rand(N) < py) # hard label for random points\n",
    "    xp = np.linspace(-xm,xm,100) \n",
    "    pyp = 1/(1+np.exp(-w*xp-b)) # soft label (probability) for the points\n",
    "\n",
    "    plt.subplot(bplot,wplot,iplot)\n",
    "\n",
    "    plt.scatter(x,yp,c=yp,edgecolors='none',marker='+')\n",
    "    plt.plot(xp,pyp,'b-')\n",
    "    plt.axis([-xm,xm,-0.1,1.1])\n",
    "    plt.grid() \n",
    "    if ((iplot%4)!=1):\n",
    "        plt.yticks([])\n",
    "    plt.xticks([-20,-10,0,10,20])\n",
    "    plt.title('w={0:.1f}, b={1:.1f}'.format(w,b))\n",
    "\n",
    "    plt.subplots_adjust(top=1.5, bottom=0.2, hspace=0.5, wspace=0.2)"
   ]
  },
  {
   "cell_type": "markdown",
   "metadata": {
    "id": "kyhRv_1hhOj3"
   },
   "source": [
    "We see that $\\sigma(wx+b)$ represents the probability that $y=1$.  The function $\\sigma(wx) > 0.5$ for $x>0$ meaning the samples are more likely to be $y=1$.  Similarly, for $x<0$, the samples are more likely to be $y=0$.  The scaling $w$ determines how fast that transition is and $b$ influences the transition point.  "
   ]
  },
  {
   "cell_type": "markdown",
   "metadata": {
    "id": "Dr2_5WR2cY9p"
   },
   "source": [
    "### Fitting the Logistic Model on Two  Variables\n",
    "\n",
    "We will fit the logistic model on the two variables `size_unif` and `marg` that we were looking at earlier."
   ]
  },
  {
   "cell_type": "code",
   "execution_count": 27,
   "metadata": {
    "colab": {
     "base_uri": "https://localhost:8080/"
    },
    "id": "WQPUSMlTcY9q",
    "outputId": "f92d0ef0-77a2-4498-f3d6-c7d888a5801b"
   },
   "outputs": [
    {
     "name": "stdout",
     "output_type": "stream",
     "text": [
      "(683, 2)\n"
     ]
    }
   ],
   "source": [
    "# load data \n",
    "xnames =['size_unif','marg'] \n",
    "X = np.array(df[xnames])\n",
    "print(X.shape)"
   ]
  },
  {
   "cell_type": "markdown",
   "metadata": {
    "id": "zvgB0iCCcY9q"
   },
   "source": [
    "Next we split the data into training and test"
   ]
  },
  {
   "cell_type": "code",
   "execution_count": 28,
   "metadata": {
    "id": "2oC7pomCcY9q"
   },
   "outputs": [],
   "source": [
    "# Split into training and test\n",
    "from sklearn.model_selection import train_test_split\n",
    "Xtr, Xts, ytr, yts = train_test_split(X,y, test_size=0.30)"
   ]
  },
  {
   "cell_type": "markdown",
   "metadata": {
    "id": "Qr4ru1WYcY9v"
   },
   "source": [
    "**Logistic regression in scikit-learn**\n",
    "\n",
    "The actual fitting is easy with the `sklearn` package.  The parameter `C` \n",
    "states the level of inverse regularization strength with higher values meaning less regularization. Right now, we will select a high value to minimally regularize the estimate.\n",
    "\n",
    "We can also measure the accuracy on the test data. You should get an accuracy around 90%. "
   ]
  },
  {
   "cell_type": "code",
   "execution_count": 29,
   "metadata": {
    "colab": {
     "base_uri": "https://localhost:8080/"
    },
    "id": "lKGhsUYfzUx3",
    "outputId": "6bb2568e-3058-4a33-f4e4-feb2df071168"
   },
   "outputs": [
    {
     "name": "stdout",
     "output_type": "stream",
     "text": [
      "[[1.40531741 0.45691367]]\n",
      "[-5.65288825]\n",
      "Accuracy on test data = 0.931707\n"
     ]
    }
   ],
   "source": [
    "from sklearn import datasets, linear_model, preprocessing\n",
    "reg = linear_model.LogisticRegression(C=1e5)\n",
    "reg.fit(Xtr, ytr)\n",
    "\n",
    "print(reg.coef_)\n",
    "print(reg.intercept_)\n",
    "\n",
    "yhat = reg.predict(Xts)\n",
    "acc = np.mean(yhat == yts)\n",
    "print(\"Accuracy on test data = %f\" % acc)"
   ]
  },
  {
   "cell_type": "markdown",
   "metadata": {
    "id": "dOhsTYG6zXDk"
   },
   "source": [
    "**Instead of taking this approach, we will implement the regression function using gradient descent.**"
   ]
  },
  {
   "cell_type": "markdown",
   "metadata": {
    "id": "KCTbi1wTcbIn"
   },
   "source": [
    "### Question 2a. Gradient descent for logistic regression [20 pts]\n",
    "In the class we saw that the weight vector can be found by minimizing the negative log likelihood over $N$ training samples.  The negative log likelihood is called the *loss* function.  For the logistic regression problem, the loss function simplifies to\n",
    "\n",
    "$$L(\\mathbf{w}) = - \\sum_{i=1}^N y_i \\log \\sigma(\\mathbf{w}^T\\mathbf{x}_i+b) + (1-y_i)\\log [1-\\sigma(\\mathbf{w}^T\\mathbf{x}_i+b)].$$\n",
    "\n",
    "Gradient can be computed as $$\\nabla_\\mathbf{w}L = \\sum_{i=1}^N(\\sigma(\\mathbf{w}^T\\mathbf{x}_i)-y_i)\\mathbf{x}_i ,~~~ \\nabla_b L = \\sum_{i=1}^N(\\sigma(\\mathbf{w}^T\\mathbf{x}_i)-y_i).$$\n",
    "\n",
    "\n",
    "We can update $\\mathbf{w},b$ at every iteration as  \n",
    "$$ \\mathbf{w} \\gets \\mathbf{w} - \\alpha \\nabla_\\mathbf{w}L, \\\\ b \\gets b - \\alpha \\nabla_b L.$$ \n",
    "\n",
    "**Note that we could also append the constant term in $\\mathbf{w}$ and append 1 to every $\\mathbf{x}_i$ accordingly, but we kept them separate in the expressions above.**\n",
    "\n",
    " "
   ]
  },
  {
   "cell_type": "markdown",
   "metadata": {
    "id": "QNa10nUiS5ru"
   },
   "source": [
    "**Gradient descent function implementation** \n",
    "\n",
    "We will use this loss function and gradient to implement a gradient descent-based method for logistic regression.\n",
    "\n",
    "Recall that training a logistic function means finding a weight vector `w` for the classification rule:\n",
    "\n",
    "    P(y=1|x,w) = 1/(1+\\exp(-z)), z = w[0]+w[1]*x[1] + ... + w[d]x[d]\n",
    "    \n",
    "The function implemented should follow the following format:\n",
    "```python\n",
    "def logistic_regression_gd(X,y,learning_rate = 0.001,max_iter=1000,tol=pow(10,-5)):\n",
    "```\n",
    "Where `X` is the training data feature(s), `y` is the variable to be predicted, `learning_rate` is the learning rate used ($\\alpha$ in the slides), `max_iter` defines the maximum number of iterations that gradient descent is allowed to run, and `tol` is defining the tolerance for convergence (which we'll discuss next).\n",
    "\n",
    "The return values for the above function should be (at the least) 1) `w` which are the regression parameters, 2) `all_cost` which is an array where each position contains the value of the objective function $L(\\mathbf{w})$ for a given iteration, 3) `iters` which counts how many iterations did the algorithm need in order to converge to a solution.\n",
    "\n",
    "Gradient descent is an iterative algorithm; it keeps updating the variables until a convergence criterion is met. In our case, our convergence criterion is whichever of the following two criteria happens first:\n",
    "\n",
    "- The maximum number of iterations is met\n",
    "- The relative improvement in the cost is not greater than the tolerance we have specified. For this criterion, you may use the following snippet into your code:\n",
    "```python\n",
    "np.absolute(all_cost[it] - all_cost[it-1])/all_cost[it-1] <= tol\n",
    "```"
   ]
  },
  {
   "cell_type": "code",
   "execution_count": 30,
   "metadata": {
    "id": "SRDxzsZk8ck_"
   },
   "outputs": [],
   "source": [
    "# TODO \n",
    "# Your code for logistic regression via gradient descent goes here \n",
    "def sigmoid(x):\n",
    "    return 1/(1 + np.exp(-x))\n",
    "\n",
    "def compute_cost(X,w,b,y):\n",
    "\n",
    "    L = 0\n",
    "    for xi,yi in zip(X,y):\n",
    "        hyp = w.T@xi + b\n",
    "        one_pred = sigmoid(hyp)\n",
    "        one_log = np.log(one_pred)\n",
    "        \n",
    "        zero_pred = 1 - sigmoid(hyp)\n",
    "        zero_log = np.log(zero_pred)\n",
    "        l = (yi*one_log) + ((1-yi)*zero_log)\n",
    "        L += l\n",
    "\n",
    "    return -L\n",
    "\n",
    "def logistic_regression_gd(X,y,learning_rate = 0.00001,max_iter=1000,tol=pow(10,-5)):\n",
    "\n",
    "    w = np.zeros(X[0].shape[0])\n",
    "    b = 0\n",
    "    iters = 0\n",
    "    all_cost = []\n",
    "    cost = compute_cost(X,w,b,y)\n",
    "    all_cost.append(cost)\n",
    "\n",
    "    for epoch in range(max_iter):\n",
    "\n",
    "        w_now = np.zeros(X[0].shape[0])\n",
    "        b_now = 0\n",
    "\n",
    "        for xi,yi in zip(X,y):\n",
    "            hyp = w.T@xi + b\n",
    "            pred = sigmoid(hyp)\n",
    "            err = pred - yi\n",
    "            w_now += err*xi\n",
    "            b_now += err\n",
    "        \n",
    "        w -= learning_rate*w_now\n",
    "        b -= learning_rate*b_now\n",
    "\n",
    "        iters += 1\n",
    "        cost = compute_cost(X,w,b,y)\n",
    "        all_cost.append(cost)\n",
    "\n",
    "        if epoch > 1 and np.absolute(all_cost[epoch] - all_cost[epoch-1])/all_cost[epoch-1] <= tol:\n",
    "            print ('break by tolerance', iters)\n",
    "            break\n",
    "\n",
    "    return w, b, all_cost, iters"
   ]
  },
  {
   "cell_type": "markdown",
   "metadata": {
    "id": "08r6_M-98clK"
   },
   "source": [
    "### Question 2b: Convergence plots and test accuracy [10 pts]\n",
    "\n",
    "After implementing gradient descent for logistic regression, we would like to test that indeed our algorithm converges to a solution. In order see this, we are going to look at the value of the objective/loss function $L(\\mathbf{w})$ as a function of the number of iterations, and ideally, what we would like to see is $L(\\mathbf{w})$ drops as we run more iterations, and eventually it stabilizes. \n",
    "\n",
    "The learning rate plays a big role in how fast our algorithm converges: a larger learning rate means that the algorithm is making faster strides to the solution, whereas a smaller learning rate implies slower steps. In this question we are going to test two different values for the learning rate:\n",
    "- 0.001\n",
    "- 0.00001\n",
    "\n",
    "while keeping the default values for the max number of iterations and the tolerance.\n",
    "\n",
    "\n",
    "- Plot the two convergence plots (cost vs. iterations)\n",
    "- Calculate the accuracy of classifier on the test data `Xts` \n",
    "- What do you observe? \n"
   ]
  },
  {
   "cell_type": "markdown",
   "metadata": {
    "id": "2XWJPz_uU1zT"
   },
   "source": [
    "**Calculate accuracy of your classifier on test data**\n",
    "\n",
    "To calculate the accuracy of our classifier on the test data, we can create a predict method. \n",
    "\n",
    "Implement a function `predict(X,w)` that provides you label 1 if $\\mathbf{w}^T\\mathbf{x} + b > 0$ and 0 otherwise.  "
   ]
  },
  {
   "cell_type": "code",
   "execution_count": 31,
   "metadata": {
    "id": "uFyHcnVFVD4r"
   },
   "outputs": [],
   "source": [
    "# TODO \n",
    "# Predict on test samples and measure accuracy\n",
    "def predict(X,w, b):\n",
    "    preds = []\n",
    "    for xi in X:\n",
    "        grad = w.T@xi+b\n",
    "        preds.append(grad)\n",
    "\n",
    "    yhat = [1 if y > 0 else 0 for y in preds]\n",
    "    return yhat"
   ]
  },
  {
   "cell_type": "code",
   "execution_count": 32,
   "metadata": {
    "colab": {
     "base_uri": "https://localhost:8080/",
     "height": 314
    },
    "id": "P7KAVMGV8clL",
    "outputId": "0adebb13-25de-403a-e703-4166df7079c0"
   },
   "outputs": [
    {
     "name": "stdout",
     "output_type": "stream",
     "text": [
      "break by tolerance 917\n",
      "Test accuracy1 = 0.931707\n",
      "Test accuracy2 = 0.897561\n"
     ]
    },
    {
     "data": {
      "image/png": "[encoded data removed]",
      "text/plain": [
       "<Figure size 432x288 with 1 Axes>"
      ]
     },
     "metadata": {
      "needs_background": "light"
     },
     "output_type": "display_data"
    }
   ],
   "source": [
    "# TODO \n",
    "# test gradient descent with step size 0.001\n",
    "# test gradient descent with step size 0.00001\n",
    " \n",
    "(w1, b1,all_cost1,iters1) = logistic_regression_gd(Xtr,ytr,learning_rate = 0.001,max_iter = 1000, tol=pow(10,-6))  \n",
    "green, = plt.plot([i for i in range(iters1)], [math.log(i) for i in all_cost1[0:iters1]], 'green')\n",
    "yhat1 = predict(Xts,w1,b1)\n",
    "acc1 = np.mean(yhat1 == yts)\n",
    "print(\"Test accuracy1 = %f\" % acc1)\n",
    "\n",
    "(w2, b2, all_cost2, iters2) = logistic_regression_gd(Xtr,ytr,learning_rate = 0.00001,max_iter = 1000, tol=pow(10,-6))  \n",
    "red, = plt.plot([i for i in range(iters2)],[math.log(i) for i in all_cost2[0:iters2]],'red')\n",
    "yhat2 = predict(Xts,w2,b2)\n",
    "acc2 = np.mean(yhat2 == yts)\n",
    "print(\"Test accuracy2 = %f\" % acc2)\n",
    "\n",
    "plt.legend([green, red], ['Step1 - 10^-3', 'Step2 - 10^-5'])\n",
    "plt.xlabel('number of Iterations')\n",
    "plt.ylabel('log of Training loss')\n",
    "plt.grid()\n",
    "plt.show()"
   ]
  },
  {
   "cell_type": "markdown",
   "metadata": {
    "id": "Zu5HpI_-8clL"
   },
   "source": [
    "Observations: \n",
    "\n",
    "1. The implementation with lower step size (red), has not yet converged while the green seems to have converged and reached the defined tolerence.\n",
    "2. As red has not converged, it will have lower accuracy than green."
   ]
  },
  {
   "cell_type": "markdown",
   "metadata": {
    "id": "WecX82dMRrVo"
   },
   "source": [
    "---\n",
    "## Submission instructions\n",
    "1. Download this Colab to ipynb, and convert it to PDF. Follow similar steps as [here](https://stackoverflow.com/questions/53460051/convert-ipynb-notebook-to-html-in-google-colab) but convert to PDF.\n",
    " - Download your .ipynb file. You can do it using only Google Colab. `File` -> `Download` -> `Download .ipynb`\n",
    " - Reupload it so Colab can see it. Click on the `Files` icon on the far left to expand the side bar. You can directly drag the downloaded .ipynb file to the area. Or click `Upload to session storage` icon and then select & upload your .ipynb file.\n",
    " - Conversion using %%shell. \n",
    " ```\n",
    "!sudo apt-get update\n",
    "!sudo apt-get install texlive-xetex texlive-fonts-recommended texlive-generic-recommended\n",
    "!jupyter nbconvert --log-level CRITICAL --to pdf name_of_hw.ipynb\n",
    "  ```\n",
    " - Your PDF file is ready. Click 3 dots and `Download`.\n",
    "\n",
    "\n",
    "  \n",
    "\n",
    "2. Upload the PDF to Gradescope, select the correct pdf pages for each question. **Important!**\n",
    "\n",
    "3. Upload the ipynb file to Gradescope"
   ]
  },
  {
   "cell_type": "code",
   "execution_count": 33,
   "metadata": {
    "colab": {
     "base_uri": "https://localhost:8080/"
    },
    "id": "ub1l1I4ZRqSS",
    "outputId": "8482e953-dd94-4ded-d161-a90404702018"
   },
   "outputs": [
    {
     "name": "stderr",
     "output_type": "stream",
     "text": [
      "'sudo' is not recognized as an internal or external command,\n",
      "operable program or batch file.\n",
      "'sudo' is not recognized as an internal or external command,\n",
      "operable program or batch file.\n"
     ]
    }
   ],
   "source": [
    "!sudo apt-get update\n",
    "!sudo apt-get install texlive-xetex texlive-fonts-recommended texlive-generic-recommended"
   ]
  },
  {
   "cell_type": "code",
   "execution_count": 34,
   "metadata": {
    "id": "M2XuF-qZ_-fk"
   },
   "outputs": [],
   "source": [
    "!jupyter nbconvert --log-level CRITICAL --to pdf fall2022_hw2.ipynb # make sure the ipynb name is correct"
   ]
  },
  {
   "cell_type": "code",
   "execution_count": 34,
   "metadata": {
    "id": "kMCJzii39h4d"
   },
   "outputs": [],
   "source": []
  }
 ],
 "metadata": {
  "colab": {
   "collapsed_sections": [],
   "provenance": []
  },
  "kernelspec": {
   "display_name": "Python 3 (ipykernel)",
   "language": "python",
   "name": "python3"
  },
  "language_info": {
   "codemirror_mode": {
    "name": "ipython",
    "version": 3
   },
   "file_extension": ".py",
   "mimetype": "text/x-python",
   "name": "python",
   "nbconvert_exporter": "python",
   "pygments_lexer": "ipython3",
   "version": "3.10.5"
  }
 },
 "nbformat": 4,
 "nbformat_minor": 1
}
